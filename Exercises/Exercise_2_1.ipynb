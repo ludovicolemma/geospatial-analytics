{
  "nbformat": 4,
  "nbformat_minor": 0,
  "metadata": {
    "colab": {
      "provenance": [],
      "collapsed_sections": [],
      "toc_visible": true
    },
    "kernelspec": {
      "name": "python3",
      "display_name": "Python 3"
    },
    "language_info": {
      "name": "python"
    }
  },
  "cells": [
    {
      "cell_type": "markdown",
      "source": [
        "# Exercise 2.1:\n",
        "Compute the distance from your home to the five largest capitals in\n",
        "the EU, using both the Earth distance and the Euclidean distance <br>\n",
        "*   https://www.itilog.com/ provides Lat, Long of an address\n",
        "*   Create a bar chart with the absolute difference between the\n",
        "Earth and Euclidean distances for each capital\n",
        "*   Are the Earth and Euclidean distances coherent? Make a plot to show that\n",
        "*   Submit a (well-commented) python notebook"
      ],
      "metadata": {
        "id": "CwoYszxzDgn3"
      }
    },
    {
      "cell_type": "code",
      "source": [
        "#installing random library with EU country names (lazy)\n",
        "!pip install countrygroups"
      ],
      "metadata": {
        "colab": {
          "base_uri": "https://localhost:8080/"
        },
        "id": "HvpZDrKj__eX",
        "outputId": "d1072d07-6a5c-4e24-ac8a-fe5c23d16aee"
      },
      "execution_count": 1,
      "outputs": [
        {
          "output_type": "stream",
          "name": "stdout",
          "text": [
            "Looking in indexes: https://pypi.org/simple, https://us-python.pkg.dev/colab-wheels/public/simple/\n",
            "Collecting countrygroups\n",
            "  Downloading countrygroups-0.13.0-py2.py3-none-any.whl (9.6 kB)\n",
            "Collecting shortcountrynames\n",
            "  Downloading shortcountrynames-0.10.0-py2.py3-none-any.whl (8.9 kB)\n",
            "Installing collected packages: shortcountrynames, countrygroups\n",
            "Successfully installed countrygroups-0.13.0 shortcountrynames-0.10.0\n"
          ]
        }
      ]
    },
    {
      "cell_type": "markdown",
      "source": [
        "## Importing the data"
      ],
      "metadata": {
        "id": "ohNr1ZqOLHRo"
      }
    },
    {
      "cell_type": "code",
      "source": [
        "from countrygroups import EUROPEAN_UNION\n",
        "import urllib.request\n",
        "import json\n",
        "\n",
        "file_name = 'capitals.json'\n",
        "\n",
        "#downloading a json with the latitude and longitudes of world capitals\n",
        "urllib.request.urlretrieve('http://techslides.com/demos/country-capitals.json', file_name)\n",
        "\n",
        "#importing the json file\n",
        "with open(file_name, 'r') as f:\n",
        "    data = json.loads(f.read())"
      ],
      "metadata": {
        "id": "LwTOzIQN75zx"
      },
      "execution_count": 2,
      "outputs": []
    },
    {
      "cell_type": "code",
      "source": [
        "EU_countries = EUROPEAN_UNION.names \n",
        "#a quick check made it clear Czechia had to be fixed to match the other json\n",
        "EU_countries.remove('Czechia')\n",
        "EU_countries.append('Czech Republic')"
      ],
      "metadata": {
        "id": "Rq5pj7wDCWDv"
      },
      "execution_count": 3,
      "outputs": []
    },
    {
      "cell_type": "code",
      "source": [
        "#extracting the EU capitals from the json\n",
        "EU_capitals = [capital for capital in data if capital['CountryName'] in EU_countries]\n",
        "EU_capitals"
      ],
      "metadata": {
        "colab": {
          "base_uri": "https://localhost:8080/"
        },
        "id": "HCK-qjZK9X7E",
        "outputId": "e0eace73-2b22-48ba-974f-e3e8e5fd600d"
      },
      "execution_count": 4,
      "outputs": [
        {
          "output_type": "execute_result",
          "data": {
            "text/plain": [
              "[{'CountryName': 'Austria',\n",
              "  'CapitalName': 'Vienna',\n",
              "  'CapitalLatitude': '48.2',\n",
              "  'CapitalLongitude': '16.366667',\n",
              "  'CountryCode': 'AT',\n",
              "  'ContinentName': 'Europe'},\n",
              " {'CountryName': 'Belgium',\n",
              "  'CapitalName': 'Brussels',\n",
              "  'CapitalLatitude': '50.833333333333336',\n",
              "  'CapitalLongitude': '4.333333',\n",
              "  'CountryCode': 'BE',\n",
              "  'ContinentName': 'Europe'},\n",
              " {'CountryName': 'Bulgaria',\n",
              "  'CapitalName': 'Sofia',\n",
              "  'CapitalLatitude': '42.68333333333333',\n",
              "  'CapitalLongitude': '23.316667',\n",
              "  'CountryCode': 'BG',\n",
              "  'ContinentName': 'Europe'},\n",
              " {'CountryName': 'Croatia',\n",
              "  'CapitalName': 'Zagreb',\n",
              "  'CapitalLatitude': '45.8',\n",
              "  'CapitalLongitude': '16.000000',\n",
              "  'CountryCode': 'HR',\n",
              "  'ContinentName': 'Europe'},\n",
              " {'CountryName': 'Cyprus',\n",
              "  'CapitalName': 'Nicosia',\n",
              "  'CapitalLatitude': '35.166666666666664',\n",
              "  'CapitalLongitude': '33.366667',\n",
              "  'CountryCode': 'CY',\n",
              "  'ContinentName': 'Europe'},\n",
              " {'CountryName': 'Czech Republic',\n",
              "  'CapitalName': 'Prague',\n",
              "  'CapitalLatitude': '50.083333333333336',\n",
              "  'CapitalLongitude': '14.466667',\n",
              "  'CountryCode': 'CZ',\n",
              "  'ContinentName': 'Europe'},\n",
              " {'CountryName': 'Denmark',\n",
              "  'CapitalName': 'Copenhagen',\n",
              "  'CapitalLatitude': '55.666666666666664',\n",
              "  'CapitalLongitude': '12.583333',\n",
              "  'CountryCode': 'DK',\n",
              "  'ContinentName': 'Europe'},\n",
              " {'CountryName': 'Estonia',\n",
              "  'CapitalName': 'Tallinn',\n",
              "  'CapitalLatitude': '59.43333333333333',\n",
              "  'CapitalLongitude': '24.716667',\n",
              "  'CountryCode': 'EE',\n",
              "  'ContinentName': 'Europe'},\n",
              " {'CountryName': 'Finland',\n",
              "  'CapitalName': 'Helsinki',\n",
              "  'CapitalLatitude': '60.166666666666664',\n",
              "  'CapitalLongitude': '24.933333',\n",
              "  'CountryCode': 'FI',\n",
              "  'ContinentName': 'Europe'},\n",
              " {'CountryName': 'France',\n",
              "  'CapitalName': 'Paris',\n",
              "  'CapitalLatitude': '48.86666666666667',\n",
              "  'CapitalLongitude': '2.333333',\n",
              "  'CountryCode': 'FR',\n",
              "  'ContinentName': 'Europe'},\n",
              " {'CountryName': 'Germany',\n",
              "  'CapitalName': 'Berlin',\n",
              "  'CapitalLatitude': '52.516666666666666',\n",
              "  'CapitalLongitude': '13.400000',\n",
              "  'CountryCode': 'DE',\n",
              "  'ContinentName': 'Europe'},\n",
              " {'CountryName': 'Greece',\n",
              "  'CapitalName': 'Athens',\n",
              "  'CapitalLatitude': '37.983333333333334',\n",
              "  'CapitalLongitude': '23.733333',\n",
              "  'CountryCode': 'GR',\n",
              "  'ContinentName': 'Europe'},\n",
              " {'CountryName': 'Hungary',\n",
              "  'CapitalName': 'Budapest',\n",
              "  'CapitalLatitude': '47.5',\n",
              "  'CapitalLongitude': '19.083333',\n",
              "  'CountryCode': 'HU',\n",
              "  'ContinentName': 'Europe'},\n",
              " {'CountryName': 'Ireland',\n",
              "  'CapitalName': 'Dublin',\n",
              "  'CapitalLatitude': '53.31666666666667',\n",
              "  'CapitalLongitude': '-6.233333',\n",
              "  'CountryCode': 'IE',\n",
              "  'ContinentName': 'Europe'},\n",
              " {'CountryName': 'Italy',\n",
              "  'CapitalName': 'Rome',\n",
              "  'CapitalLatitude': '41.9',\n",
              "  'CapitalLongitude': '12.483333',\n",
              "  'CountryCode': 'IT',\n",
              "  'ContinentName': 'Europe'},\n",
              " {'CountryName': 'Latvia',\n",
              "  'CapitalName': 'Riga',\n",
              "  'CapitalLatitude': '56.95',\n",
              "  'CapitalLongitude': '24.100000',\n",
              "  'CountryCode': 'LV',\n",
              "  'ContinentName': 'Europe'},\n",
              " {'CountryName': 'Lithuania',\n",
              "  'CapitalName': 'Vilnius',\n",
              "  'CapitalLatitude': '54.68333333333333',\n",
              "  'CapitalLongitude': '25.316667',\n",
              "  'CountryCode': 'LT',\n",
              "  'ContinentName': 'Europe'},\n",
              " {'CountryName': 'Luxembourg',\n",
              "  'CapitalName': 'Luxembourg',\n",
              "  'CapitalLatitude': '49.6',\n",
              "  'CapitalLongitude': '6.116667',\n",
              "  'CountryCode': 'LU',\n",
              "  'ContinentName': 'Europe'},\n",
              " {'CountryName': 'Malta',\n",
              "  'CapitalName': 'Valletta',\n",
              "  'CapitalLatitude': '35.88333333333333',\n",
              "  'CapitalLongitude': '14.500000',\n",
              "  'CountryCode': 'MT',\n",
              "  'ContinentName': 'Europe'},\n",
              " {'CountryName': 'Netherlands',\n",
              "  'CapitalName': 'Amsterdam',\n",
              "  'CapitalLatitude': '52.35',\n",
              "  'CapitalLongitude': '4.916667',\n",
              "  'CountryCode': 'NL',\n",
              "  'ContinentName': 'Europe'},\n",
              " {'CountryName': 'Poland',\n",
              "  'CapitalName': 'Warsaw',\n",
              "  'CapitalLatitude': '52.25',\n",
              "  'CapitalLongitude': '21.000000',\n",
              "  'CountryCode': 'PL',\n",
              "  'ContinentName': 'Europe'},\n",
              " {'CountryName': 'Portugal',\n",
              "  'CapitalName': 'Lisbon',\n",
              "  'CapitalLatitude': '38.71666666666667',\n",
              "  'CapitalLongitude': '-9.133333',\n",
              "  'CountryCode': 'PT',\n",
              "  'ContinentName': 'Europe'},\n",
              " {'CountryName': 'Romania',\n",
              "  'CapitalName': 'Bucharest',\n",
              "  'CapitalLatitude': '44.43333333333333',\n",
              "  'CapitalLongitude': '26.100000',\n",
              "  'CountryCode': 'RO',\n",
              "  'ContinentName': 'Europe'},\n",
              " {'CountryName': 'Slovakia',\n",
              "  'CapitalName': 'Bratislava',\n",
              "  'CapitalLatitude': '48.15',\n",
              "  'CapitalLongitude': '17.116667',\n",
              "  'CountryCode': 'SK',\n",
              "  'ContinentName': 'Europe'},\n",
              " {'CountryName': 'Slovenia',\n",
              "  'CapitalName': 'Ljubljana',\n",
              "  'CapitalLatitude': '46.05',\n",
              "  'CapitalLongitude': '14.516667',\n",
              "  'CountryCode': 'SI',\n",
              "  'ContinentName': 'Europe'},\n",
              " {'CountryName': 'Spain',\n",
              "  'CapitalName': 'Madrid',\n",
              "  'CapitalLatitude': '40.4',\n",
              "  'CapitalLongitude': '-3.683333',\n",
              "  'CountryCode': 'ES',\n",
              "  'ContinentName': 'Europe'},\n",
              " {'CountryName': 'Sweden',\n",
              "  'CapitalName': 'Stockholm',\n",
              "  'CapitalLatitude': '59.333333333333336',\n",
              "  'CapitalLongitude': '18.050000',\n",
              "  'CountryCode': 'SE',\n",
              "  'ContinentName': 'Europe'}]"
            ]
          },
          "metadata": {},
          "execution_count": 4
        }
      ]
    },
    {
      "cell_type": "code",
      "source": [
        "#just a quick check if they are those 27\n",
        "assert len([x['CountryName'] for x in EU_capitals]) == 27, 'There are not 27 countries!'\n",
        "set(EU_countries) == set([x['CountryName'] for x in EU_capitals])"
      ],
      "metadata": {
        "colab": {
          "base_uri": "https://localhost:8080/"
        },
        "id": "qv5kIo-4BARw",
        "outputId": "5ed7117d-8c07-41b1-ae6a-dc7a6cd89605"
      },
      "execution_count": 5,
      "outputs": [
        {
          "output_type": "execute_result",
          "data": {
            "text/plain": [
              "True"
            ]
          },
          "metadata": {},
          "execution_count": 5
        }
      ]
    },
    {
      "cell_type": "code",
      "source": [
        "#making the capital lat and lon from strings to floats\n",
        "for capital in EU_capitals:\n",
        "    capital['CapitalLatitude'] = float(capital['CapitalLatitude'])\n",
        "    capital['CapitalLongitude'] = float(capital['CapitalLongitude'])\n",
        "\n",
        "#making the data easier to call (a dictionary to call from the capital)\n",
        "EU_capdict = {x['CapitalName'] : x for x in EU_capitals}\n",
        "EU_capdict"
      ],
      "metadata": {
        "colab": {
          "base_uri": "https://localhost:8080/"
        },
        "id": "V-ZXiwU7Ln9J",
        "outputId": "86ed3dc9-db37-435a-b4fd-bbd2b33f05a4"
      },
      "execution_count": 6,
      "outputs": [
        {
          "output_type": "execute_result",
          "data": {
            "text/plain": [
              "{'Vienna': {'CountryName': 'Austria',\n",
              "  'CapitalName': 'Vienna',\n",
              "  'CapitalLatitude': 48.2,\n",
              "  'CapitalLongitude': 16.366667,\n",
              "  'CountryCode': 'AT',\n",
              "  'ContinentName': 'Europe'},\n",
              " 'Brussels': {'CountryName': 'Belgium',\n",
              "  'CapitalName': 'Brussels',\n",
              "  'CapitalLatitude': 50.833333333333336,\n",
              "  'CapitalLongitude': 4.333333,\n",
              "  'CountryCode': 'BE',\n",
              "  'ContinentName': 'Europe'},\n",
              " 'Sofia': {'CountryName': 'Bulgaria',\n",
              "  'CapitalName': 'Sofia',\n",
              "  'CapitalLatitude': 42.68333333333333,\n",
              "  'CapitalLongitude': 23.316667,\n",
              "  'CountryCode': 'BG',\n",
              "  'ContinentName': 'Europe'},\n",
              " 'Zagreb': {'CountryName': 'Croatia',\n",
              "  'CapitalName': 'Zagreb',\n",
              "  'CapitalLatitude': 45.8,\n",
              "  'CapitalLongitude': 16.0,\n",
              "  'CountryCode': 'HR',\n",
              "  'ContinentName': 'Europe'},\n",
              " 'Nicosia': {'CountryName': 'Cyprus',\n",
              "  'CapitalName': 'Nicosia',\n",
              "  'CapitalLatitude': 35.166666666666664,\n",
              "  'CapitalLongitude': 33.366667,\n",
              "  'CountryCode': 'CY',\n",
              "  'ContinentName': 'Europe'},\n",
              " 'Prague': {'CountryName': 'Czech Republic',\n",
              "  'CapitalName': 'Prague',\n",
              "  'CapitalLatitude': 50.083333333333336,\n",
              "  'CapitalLongitude': 14.466667,\n",
              "  'CountryCode': 'CZ',\n",
              "  'ContinentName': 'Europe'},\n",
              " 'Copenhagen': {'CountryName': 'Denmark',\n",
              "  'CapitalName': 'Copenhagen',\n",
              "  'CapitalLatitude': 55.666666666666664,\n",
              "  'CapitalLongitude': 12.583333,\n",
              "  'CountryCode': 'DK',\n",
              "  'ContinentName': 'Europe'},\n",
              " 'Tallinn': {'CountryName': 'Estonia',\n",
              "  'CapitalName': 'Tallinn',\n",
              "  'CapitalLatitude': 59.43333333333333,\n",
              "  'CapitalLongitude': 24.716667,\n",
              "  'CountryCode': 'EE',\n",
              "  'ContinentName': 'Europe'},\n",
              " 'Helsinki': {'CountryName': 'Finland',\n",
              "  'CapitalName': 'Helsinki',\n",
              "  'CapitalLatitude': 60.166666666666664,\n",
              "  'CapitalLongitude': 24.933333,\n",
              "  'CountryCode': 'FI',\n",
              "  'ContinentName': 'Europe'},\n",
              " 'Paris': {'CountryName': 'France',\n",
              "  'CapitalName': 'Paris',\n",
              "  'CapitalLatitude': 48.86666666666667,\n",
              "  'CapitalLongitude': 2.333333,\n",
              "  'CountryCode': 'FR',\n",
              "  'ContinentName': 'Europe'},\n",
              " 'Berlin': {'CountryName': 'Germany',\n",
              "  'CapitalName': 'Berlin',\n",
              "  'CapitalLatitude': 52.516666666666666,\n",
              "  'CapitalLongitude': 13.4,\n",
              "  'CountryCode': 'DE',\n",
              "  'ContinentName': 'Europe'},\n",
              " 'Athens': {'CountryName': 'Greece',\n",
              "  'CapitalName': 'Athens',\n",
              "  'CapitalLatitude': 37.983333333333334,\n",
              "  'CapitalLongitude': 23.733333,\n",
              "  'CountryCode': 'GR',\n",
              "  'ContinentName': 'Europe'},\n",
              " 'Budapest': {'CountryName': 'Hungary',\n",
              "  'CapitalName': 'Budapest',\n",
              "  'CapitalLatitude': 47.5,\n",
              "  'CapitalLongitude': 19.083333,\n",
              "  'CountryCode': 'HU',\n",
              "  'ContinentName': 'Europe'},\n",
              " 'Dublin': {'CountryName': 'Ireland',\n",
              "  'CapitalName': 'Dublin',\n",
              "  'CapitalLatitude': 53.31666666666667,\n",
              "  'CapitalLongitude': -6.233333,\n",
              "  'CountryCode': 'IE',\n",
              "  'ContinentName': 'Europe'},\n",
              " 'Rome': {'CountryName': 'Italy',\n",
              "  'CapitalName': 'Rome',\n",
              "  'CapitalLatitude': 41.9,\n",
              "  'CapitalLongitude': 12.483333,\n",
              "  'CountryCode': 'IT',\n",
              "  'ContinentName': 'Europe'},\n",
              " 'Riga': {'CountryName': 'Latvia',\n",
              "  'CapitalName': 'Riga',\n",
              "  'CapitalLatitude': 56.95,\n",
              "  'CapitalLongitude': 24.1,\n",
              "  'CountryCode': 'LV',\n",
              "  'ContinentName': 'Europe'},\n",
              " 'Vilnius': {'CountryName': 'Lithuania',\n",
              "  'CapitalName': 'Vilnius',\n",
              "  'CapitalLatitude': 54.68333333333333,\n",
              "  'CapitalLongitude': 25.316667,\n",
              "  'CountryCode': 'LT',\n",
              "  'ContinentName': 'Europe'},\n",
              " 'Luxembourg': {'CountryName': 'Luxembourg',\n",
              "  'CapitalName': 'Luxembourg',\n",
              "  'CapitalLatitude': 49.6,\n",
              "  'CapitalLongitude': 6.116667,\n",
              "  'CountryCode': 'LU',\n",
              "  'ContinentName': 'Europe'},\n",
              " 'Valletta': {'CountryName': 'Malta',\n",
              "  'CapitalName': 'Valletta',\n",
              "  'CapitalLatitude': 35.88333333333333,\n",
              "  'CapitalLongitude': 14.5,\n",
              "  'CountryCode': 'MT',\n",
              "  'ContinentName': 'Europe'},\n",
              " 'Amsterdam': {'CountryName': 'Netherlands',\n",
              "  'CapitalName': 'Amsterdam',\n",
              "  'CapitalLatitude': 52.35,\n",
              "  'CapitalLongitude': 4.916667,\n",
              "  'CountryCode': 'NL',\n",
              "  'ContinentName': 'Europe'},\n",
              " 'Warsaw': {'CountryName': 'Poland',\n",
              "  'CapitalName': 'Warsaw',\n",
              "  'CapitalLatitude': 52.25,\n",
              "  'CapitalLongitude': 21.0,\n",
              "  'CountryCode': 'PL',\n",
              "  'ContinentName': 'Europe'},\n",
              " 'Lisbon': {'CountryName': 'Portugal',\n",
              "  'CapitalName': 'Lisbon',\n",
              "  'CapitalLatitude': 38.71666666666667,\n",
              "  'CapitalLongitude': -9.133333,\n",
              "  'CountryCode': 'PT',\n",
              "  'ContinentName': 'Europe'},\n",
              " 'Bucharest': {'CountryName': 'Romania',\n",
              "  'CapitalName': 'Bucharest',\n",
              "  'CapitalLatitude': 44.43333333333333,\n",
              "  'CapitalLongitude': 26.1,\n",
              "  'CountryCode': 'RO',\n",
              "  'ContinentName': 'Europe'},\n",
              " 'Bratislava': {'CountryName': 'Slovakia',\n",
              "  'CapitalName': 'Bratislava',\n",
              "  'CapitalLatitude': 48.15,\n",
              "  'CapitalLongitude': 17.116667,\n",
              "  'CountryCode': 'SK',\n",
              "  'ContinentName': 'Europe'},\n",
              " 'Ljubljana': {'CountryName': 'Slovenia',\n",
              "  'CapitalName': 'Ljubljana',\n",
              "  'CapitalLatitude': 46.05,\n",
              "  'CapitalLongitude': 14.516667,\n",
              "  'CountryCode': 'SI',\n",
              "  'ContinentName': 'Europe'},\n",
              " 'Madrid': {'CountryName': 'Spain',\n",
              "  'CapitalName': 'Madrid',\n",
              "  'CapitalLatitude': 40.4,\n",
              "  'CapitalLongitude': -3.683333,\n",
              "  'CountryCode': 'ES',\n",
              "  'ContinentName': 'Europe'},\n",
              " 'Stockholm': {'CountryName': 'Sweden',\n",
              "  'CapitalName': 'Stockholm',\n",
              "  'CapitalLatitude': 59.333333333333336,\n",
              "  'CapitalLongitude': 18.05,\n",
              "  'CountryCode': 'SE',\n",
              "  'ContinentName': 'Europe'}}"
            ]
          },
          "metadata": {},
          "execution_count": 6
        }
      ]
    },
    {
      "cell_type": "markdown",
      "source": [
        "<font size=\"4\">Home Coordinates</font>"
      ],
      "metadata": {
        "id": "HeHMXkfMrZhE"
      }
    },
    {
      "cell_type": "code",
      "source": [
        "#The coordinates of the Pisa tower (not sharing my home coordinates on GitHub)\n",
        "home_lat = 43.7228555 #North\n",
        "home_lon = 10.3963002 #East"
      ],
      "metadata": {
        "id": "0b9WdiWT97vv"
      },
      "execution_count": 7,
      "outputs": []
    },
    {
      "cell_type": "markdown",
      "source": [
        "## Doing the math"
      ],
      "metadata": {
        "id": "xsY4HDEmLOWb"
      }
    },
    {
      "cell_type": "code",
      "source": [
        "from math import cos, sin, asin, sqrt, pi\n",
        "\n",
        "def to_radians(*args): #I needed radians to work with trigonometry\n",
        "    for raw in args:\n",
        "        yield raw*(pi/180) #I made it a generator out of convenience\n",
        "\n",
        "assert round(next(to_radians(1)), 5) == 0.01745, \"It's not equal to the proper conversion of degree to radians\""
      ],
      "metadata": {
        "id": "9S0ByrbyHn25"
      },
      "execution_count": 8,
      "outputs": []
    },
    {
      "cell_type": "markdown",
      "source": [
        "<font size=\"4\">Earth Distances</font>"
      ],
      "metadata": {
        "id": "bJxmfw-rr1PL"
      }
    },
    {
      "cell_type": "code",
      "source": [
        "def haversine_formula(latP, lonP, latQ, lonQ):\n",
        "    #converting the latitude and longitudes to radians\n",
        "    latP, lonP, latQ, lonQ = tuple(to_radians(latP, lonP, latQ, lonQ))\n",
        "    #print(latP, lonP, latQ, lonQ)\n",
        "\n",
        "    earth_radius = 6371 #km, from wikipedia\n",
        "\n",
        "    Dlat = latQ - latP\n",
        "    Dlon = lonQ - lonP\n",
        "\n",
        "    #I copied and translated the formula to python\n",
        "    to_sqrt = sin(Dlat/2)**2 + cos(latP)*cos(latQ)*sin(Dlon/2)**2\n",
        "    d = 2*earth_radius*asin(sqrt(to_sqrt))\n",
        "\n",
        "    return  d"
      ],
      "metadata": {
        "id": "HWPKvtZE_AOQ"
      },
      "execution_count": 9,
      "outputs": []
    },
    {
      "cell_type": "code",
      "source": [
        "#testing the formula\n",
        "assert round(\n",
        "             haversine_formula(home_lat, \n",
        "                               home_lon, \n",
        "                               EU_capdict['Valletta']['CapitalLatitude'],\n",
        "                               EU_capdict['Valletta']['CapitalLongitude']), \n",
        "             \n",
        "             0) == 939, 'Online calculator told me it was 939 km from la Valletta'"
      ],
      "metadata": {
        "id": "CZI_RhIoKdAe"
      },
      "execution_count": 11,
      "outputs": []
    },
    {
      "cell_type": "markdown",
      "source": [
        "<font size=\"4\">Euclidean Distances</font>"
      ],
      "metadata": {
        "id": "71Ye-2HprvI3"
      }
    },
    {
      "cell_type": "code",
      "source": [
        "def euclidean_distance(latP, lonP, latQ, lonQ):\n",
        "    #converting the latitude and longitudes to radians\n",
        "    latP, lonP, latQ, lonQ = tuple(to_radians(latP, lonP, latQ, lonQ))\n",
        "\n",
        "    earth_radius = 6371 #km, from wikipedia\n",
        "    \n",
        "    #from radians to kilometers by multiplying earth radius\n",
        "    return earth_radius*sqrt((latP-latQ)**2+(lonP-lonQ)**2)"
      ],
      "metadata": {
        "id": "e3PDz8DnNjko"
      },
      "execution_count": 12,
      "outputs": []
    },
    {
      "cell_type": "code",
      "source": [
        "#testing the result\n",
        "euclidean_distance(home_lat, \n",
        "                   home_lon, \n",
        "                   EU_capdict['Valletta']['CapitalLatitude'], \n",
        "                   EU_capdict['Valletta']['CapitalLongitude'])"
      ],
      "metadata": {
        "colab": {
          "base_uri": "https://localhost:8080/"
        },
        "id": "RRhDYP9QRXku",
        "outputId": "b3136381-8442-41d4-881e-cc7c444f9501"
      },
      "execution_count": 13,
      "outputs": [
        {
          "output_type": "execute_result",
          "data": {
            "text/plain": [
              "983.9240642026665"
            ]
          },
          "metadata": {},
          "execution_count": 13
        }
      ]
    },
    {
      "cell_type": "markdown",
      "source": [
        "## Computing the distances"
      ],
      "metadata": {
        "id": "Wq4fImfoWgCd"
      }
    },
    {
      "cell_type": "code",
      "source": [
        "import matplotlib.pyplot as plt"
      ],
      "metadata": {
        "id": "SV3moJCDZzPQ"
      },
      "execution_count": 14,
      "outputs": []
    },
    {
      "cell_type": "markdown",
      "source": [
        "Computing the distances <br>\n",
        "<font size=\"4\">I did as requested for the 5 largest EU cities but it is possible to look at them all by removing \"five_largest: #\"</font>"
      ],
      "metadata": {
        "id": "LE6t_QJOhBhz"
      }
    },
    {
      "cell_type": "code",
      "source": [
        "#I intended as the five largest the 5 cities in the EU with most inhabitants within the city limits\n",
        "five_largest = ['Berlin', 'Madrid', 'Rome', 'Bucharest', 'Paris']\n",
        "\n",
        "latP, lonP = home_lat, home_lon\n",
        "earth_distdict = dict()\n",
        "euclidean_distdict = dict()\n",
        "\n",
        "for capital in five_largest: #EU_capdict.keys(): #to get them all\n",
        "    #setting the new capital latitude and longitudes\n",
        "    latQ = EU_capdict[capital]['CapitalLatitude']\n",
        "    lonQ = EU_capdict[capital]['CapitalLongitude']\n",
        "\n",
        "    #computing earth distance between home and capital\n",
        "    earth = haversine_formula(latP, lonP, latQ, lonQ)\n",
        "    earth_distdict[capital] = earth #adding result\n",
        "\n",
        "    #computing euclidean distance between home and capital\n",
        "    euclid = euclidean_distance(latP, lonP, latQ, lonQ)\n",
        "    euclidean_distdict[capital] = euclid #adding result"
      ],
      "metadata": {
        "id": "D1eNRbDbWjlJ"
      },
      "execution_count": 23,
      "outputs": []
    },
    {
      "cell_type": "code",
      "source": [
        "#sorting by distance\n",
        "earth_list = sorted(earth_distdict.items(), key = lambda x : -x[1])\n",
        "\n",
        "#plotting the earth distance between my home and EU capitals\n",
        "if len(earth_list) > 5: #in case all capitals are plotted (need more space)\n",
        "    plt.figure(figsize=(15,10))\n",
        "    font = 20\n",
        "else: #default\n",
        "    plt.figure(figsize=(8, 5))\n",
        "    font = 12\n",
        "names = [x[0] for x in earth_list]\n",
        "values = [x[1] for x in earth_list]\n",
        "plt.barh(names, values)\n",
        "plt.xticks(fontsize=font)\n",
        "plt.yticks(fontsize=font)\n",
        "plt.xlabel('Earth Distance in KM', fontsize=font)\n",
        "plt.title('Earth Distance: My Home - EU capitals',fontsize=font)"
      ],
      "metadata": {
        "colab": {
          "base_uri": "https://localhost:8080/",
          "height": 374
        },
        "id": "Mtcb14e_ZIBN",
        "outputId": "a346ceb6-8ea7-4376-a743-355712304c2b"
      },
      "execution_count": 24,
      "outputs": [
        {
          "output_type": "execute_result",
          "data": {
            "text/plain": [
              "Text(0.5, 1.0, 'Earth Distance: My Home - EU capitals')"
            ]
          },
          "metadata": {},
          "execution_count": 24
        },
        {
          "output_type": "display_data",
          "data": {
            "text/plain": [
              "<Figure size 576x360 with 1 Axes>"
            ],
            "image/png": "[encoded data removed]"
          },
          "metadata": {
            "needs_background": "light"
          }
        }
      ]
    },
    {
      "cell_type": "code",
      "source": [
        "#sorting by distance\n",
        "euclidean_list = sorted(euclidean_distdict.items(), key = lambda x : -x[1])\n",
        "\n",
        "#plotting the euclidean distance between my home and EU capitals\n",
        "if len(euclidean_list) > 5: #in case all capitals are plotted (need more space)\n",
        "    plt.figure(figsize=(15,10))\n",
        "    font = 20\n",
        "else: #default\n",
        "    plt.figure(figsize=(8, 5))\n",
        "    font = 12\n",
        "names = [x[0] for x in euclidean_list]\n",
        "values = [x[1] for x in euclidean_list]\n",
        "plt.barh(names, values)\n",
        "plt.xticks(fontsize=font)\n",
        "plt.yticks(fontsize=font)\n",
        "plt.xlabel('Euclidean Distance in KM', fontsize=font)\n",
        "plt.title('Euclidean Distance: My Home - EU capitals',fontsize=font)"
      ],
      "metadata": {
        "colab": {
          "base_uri": "https://localhost:8080/",
          "height": 374
        },
        "id": "gazlgjDSRc-0",
        "outputId": "d3b6bf1b-78bf-4b2a-c834-21cdfb04de51"
      },
      "execution_count": 25,
      "outputs": [
        {
          "output_type": "execute_result",
          "data": {
            "text/plain": [
              "Text(0.5, 1.0, 'Euclidean Distance: My Home - EU capitals')"
            ]
          },
          "metadata": {},
          "execution_count": 25
        },
        {
          "output_type": "display_data",
          "data": {
            "text/plain": [
              "<Figure size 576x360 with 1 Axes>"
            ],
            "image/png": "[encoded data removed]"
          },
          "metadata": {
            "needs_background": "light"
          }
        }
      ]
    },
    {
      "cell_type": "markdown",
      "source": [
        "## Absolute difference (Earth-Euclidean)"
      ],
      "metadata": {
        "id": "ELZ9rK26hH8Z"
      }
    },
    {
      "cell_type": "code",
      "source": [
        "import numpy as np"
      ],
      "metadata": {
        "id": "7TU68NOOkRE-"
      },
      "execution_count": 26,
      "outputs": []
    },
    {
      "cell_type": "code",
      "source": [
        "#Here I sorted again the distances and capitals by name to compute the absolute differences\n",
        "earth_byname = sorted(earth_distdict.items(), key = lambda x : x[0])\n",
        "euclidean_byname = sorted(euclidean_distdict.items(), key = lambda x : x[0])"
      ],
      "metadata": {
        "id": "DWwJyFEGb1sB"
      },
      "execution_count": 27,
      "outputs": []
    },
    {
      "cell_type": "code",
      "source": [
        "names = [x[0] for x in earth_byname] #getting the name from one of the two identical sets\n",
        "\n",
        "#computing the absolute distances\n",
        "abs_dist = np.abs(np.array([x[1] for x in earth_byname]) - np.array([x[1] for x in euclidean_byname]))\n",
        "#sorting the distances by descending order (in barplot the largest will be at the bottom)\n",
        "abs_dist_list = sorted(list(zip(names, abs_dist)), key = lambda x : -x[1])"
      ],
      "metadata": {
        "id": "5OExMQOAkTVR"
      },
      "execution_count": 28,
      "outputs": []
    },
    {
      "cell_type": "code",
      "source": [
        "#plotting the euclidean distance between my home and EU capitals\n",
        "if len(abs_dist_list) > 5: #in case I plotted all the capitals\n",
        "    plt.figure(figsize=(15,10))\n",
        "    font = 20\n",
        "else: #default\n",
        "    plt.figure(figsize=(8, 5))\n",
        "    font = 12\n",
        "names = [x[0] for x in abs_dist_list]\n",
        "values = [x[1] for x in abs_dist_list]\n",
        "plt.barh(names, values, color='red')\n",
        "plt.xticks(fontsize=font)\n",
        "plt.yticks(fontsize=font)\n",
        "plt.xlabel('Euclidean Distance in KM', fontsize=font)\n",
        "plt.title('Absolute differences of Earth-Euclidean Distances',fontsize=font)"
      ],
      "metadata": {
        "colab": {
          "base_uri": "https://localhost:8080/",
          "height": 374
        },
        "id": "Sbd5nlXsjIk3",
        "outputId": "0f78a092-39c4-4984-9b3e-7d54719c4ff1"
      },
      "execution_count": 29,
      "outputs": [
        {
          "output_type": "execute_result",
          "data": {
            "text/plain": [
              "Text(0.5, 1.0, 'Absolute differences of Earth-Euclidean Distances')"
            ]
          },
          "metadata": {},
          "execution_count": 29
        },
        {
          "output_type": "display_data",
          "data": {
            "text/plain": [
              "<Figure size 576x360 with 1 Axes>"
            ],
            "image/png": "[encoded data removed]"
          },
          "metadata": {
            "needs_background": "light"
          }
        }
      ]
    },
    {
      "cell_type": "markdown",
      "source": [
        "By looking at all european capital-home distances, it seems the largest difference in absolute Earth-Euclidean distances are those for which the arc from which the distance is computed is closer to approximate a parallel"
      ],
      "metadata": {
        "id": "vEqeC6EblgsC"
      }
    },
    {
      "cell_type": "code",
      "source": [
        "#I left the previous computation of all european cities to have a more general view\n",
        "plt.figure(figsize=(8,5))\n",
        "plt.scatter([x[1] for x in earth_byname], [x[1] for x in euclidean_byname])\n",
        "plt.xlabel('Earth Distance in KM', fontsize=15)\n",
        "plt.ylabel('Euclidean Distance in KM', fontsize=15)\n",
        "plt.xlim(0, 3200)\n",
        "plt.ylim(0, 3200)\n",
        "plt.title('Checking if the distances are generally coherent', fontsize=15)"
      ],
      "metadata": {
        "colab": {
          "base_uri": "https://localhost:8080/",
          "height": 375
        },
        "id": "P2z1sW11aPRv",
        "outputId": "2e215509-ae55-4bfa-945b-6a0d0e4e5498"
      },
      "execution_count": 22,
      "outputs": [
        {
          "output_type": "execute_result",
          "data": {
            "text/plain": [
              "Text(0.5, 1.0, 'Checking if the distances are generally coherent')"
            ]
          },
          "metadata": {},
          "execution_count": 22
        },
        {
          "output_type": "display_data",
          "data": {
            "text/plain": [
              "<Figure size 576x360 with 1 Axes>"
            ],
            "image/png": "[encoded data removed]"
          },
          "metadata": {
            "needs_background": "light"
          }
        }
      ]
    },
    {
      "cell_type": "markdown",
      "source": [
        "Euclidean distances grows faster but it seems they are still coherent with Earth distances at the continental scale from my home, considering the positive correlation shown in the graph"
      ],
      "metadata": {
        "id": "RFykVTjHf57b"
      }
    }
  ]
}