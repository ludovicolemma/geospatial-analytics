{
 "cells": [
  {
   "cell_type": "markdown",
   "metadata": {
    "id": "fKYYLT6XQ6um"
   },
   "source": [
    "# Exercise 10.1\n",
    "Download the road network of La Spezia (Italy) from OSMWebWizard: </br>\n",
    "1. Create a python function that, given a list of tuples in the form (type, n_vehicles, edge_list, departure_time) creates an xml file describing the corresponding traffic demand; use the script to compute the traffic demand for the following points. Type can be route or flow.\n",
    "2. Create a traffic demand of 1,000 vehicles moving through a random origin and destination edges. Ensure that origin and destination are connected. Departure time is chosen uniformly at random in [0, 600].\n",
    "3. Apply duarouter to the mobility demand for w=1, 5, 10, 15, 20. Compute, for each value of w, the total distance traveled, the difference with respect to the shortest path, and the total CO2 emissions.\n",
    "* Submit a (well commented) python notebook and the SUMO files."
   ]
  },
  {
   "cell_type": "markdown",
   "metadata": {
    "id": "uT082KEy5AuZ"
   },
   "source": [
    "# Writing the function"
   ]
  },
  {
   "cell_type": "code",
   "execution_count": 1,
   "metadata": {
    "id": "HfF6VbWFmrjG"
   },
   "outputs": [],
   "source": [
    "def write_traffic_demand(parameters, file_name = 'traffic_demand.xml'):\n",
    "    \"\"\"\n",
    "    Write a xml file with the traffic demand from the following parameters input:\n",
    "    -traffic_type: either flow or route\n",
    "    -n_vehicles: n° of vehicles that should be present in the simulations\n",
    "    -edge_list: edges through which the vehicles should pass from, to and through\n",
    "    -departure_time: a callable which returns the departure time of the single vehicle\n",
    "\n",
    "    The parameters should be input as a tuple.\n",
    "    \"\"\"\n",
    "\n",
    "    # Creating the base string structure of the xml\n",
    "    traffic_base = \"\"\"<?xml version=\"1.0\" encoding=\"UTF-8\"?>\n",
    "    <routes xmlns:xsi=\"http://www.w3.org/2001/XMLSchema-instance\" xsi:noNamespaceSchemaLocation=\"http://sumo.dlr.de/xsd/routes_file.xsd\">\n",
    "    \\t{vtype_vehicle}\n",
    "    \\t<!-- FLOWS -->\n",
    "    \\t{flows}\n",
    "    \\t<!-- VEHICLES -->\n",
    "    \\t{vehicles}\n",
    "    </routes>\n",
    "    \"\"\".replace('    ', '')\n",
    "\n",
    "    # unpack the parameters\n",
    "    traffic_type, n_vehicles, edge_list, departure_time = parameters\n",
    "\n",
    "    assert callable(departure_time), \\\n",
    "    \"\"\"A callable with two parameters must be the departure time input.\n",
    "    e.g.: lambda x: 100 -> To set a constant departure time of 100.\n",
    "          lambda x: int(np.random.uniform(0, 600) // 1) -> To set a random instantiation of departure time between time 0 and 600.\n",
    "    It is intended to work with random.randint, so that the range of possible integers will be betwee 0 and 600\n",
    "    \"\"\".replace('    ', '')\n",
    "\n",
    "    edge_list = [str(x) for x in edge_list]\n",
    "\n",
    "    # I will use only cars as vehicles\n",
    "    color_list = ['red', 'blue', 'orange', 'yellow']\n",
    "\n",
    "    # setting the index and class of vehicle\n",
    "    vtype_id = 'type1'\n",
    "    vtype_vehicle = f'<vType id=\"{vtype_id}\" accel=\"0.8\" decel=\"4.5\" sigma=\"0.5\" length=\"5\" maxSpeed=\"70\"/>'\n",
    "\n",
    "    flows = ''\n",
    "    vehicles = ''\n",
    "\n",
    "    if traffic_type == 'flow':\n",
    "\n",
    "          flow_list = list()\n",
    "          for flow_id in range(n_vehicles):\n",
    "              # setting so that color are always the 4 color I set\n",
    "              color_idx = flow_id - (len(color_list) * ( flow_id // (len(color_list)) ))\n",
    "              color = color_list[color_idx]\n",
    "\n",
    "              # setting the starting and ending time of the flow\n",
    "              depart = departure_time()\n",
    "              flow_time = f'\\n\\t<flow id=\"{flow_id}\" begin=\"{depart}\" end=\"1000\" '\n",
    "\n",
    "              # setting the flow n° of vehicles, origin and destination\n",
    "              flow_move = f'number=\"1\" from=\"{edge_list[0]}\" to=\"{edge_list[-1]}\" '\n",
    "\n",
    "              # deleting origin and destination edges and add the remaining nodes if there are some\n",
    "              remaining_edges = list(tuple(edge_list))\n",
    "              del remaining_edges[0], remaining_edges[-1]\n",
    "              flow_via = f'via=\"{\" \".join(remaining_edges)}\" ' if remaining_edges else ''\n",
    "\n",
    "              # add the type of vehicle and the color\n",
    "              flow_vehicle = f'type=\"{vtype_id}\" color=\"{color}\"></flow>'\n",
    "\n",
    "              flow_list.append((flow_time + flow_move + flow_via + flow_vehicle, depart))\n",
    "\n",
    "          flow_list = sorted(flow_list, key = lambda x: x[1])\n",
    "\n",
    "          for flow_string, depart in flow_list:\n",
    "              flows += flow_string\n",
    "\n",
    "    elif traffic_type == 'route':\n",
    "\n",
    "          route_list = list()\n",
    "      \n",
    "          for vehicle_id in range(n_vehicles):\n",
    "              # setting so that color are always the 4 color I set\n",
    "              color_idx = vehicle_id - (len(color_list) * ( vehicle_id // (len(color_list)) ))\n",
    "              color = color_list[color_idx]\n",
    "\n",
    "              # setting the vehicle id, departure time and color\n",
    "              vehicle_base = f'\\n\\t<vehicle id=\"vehicle_{vehicle_id}\" type=\"{vtype_id}\"' \n",
    "\n",
    "              depart = departure_time()\n",
    "              vehicle_time = f'depart=\"{depart}\"' \n",
    "              vehicle_color = f'color=\"{color}\">\\n\\t\\t'\n",
    "\n",
    "              # setting the route edges\n",
    "              vehicle_route = f'<route edges=\"{\" \".join(edge_list)}\"/>\\n\\t</vehicle>'\n",
    "\n",
    "              route_list.append((vehicle_base + vehicle_time + vehicle_color + vehicle_route, depart))\n",
    "\n",
    "          route_list = sorted(route_list, key = lambda x: x[1])\n",
    "\n",
    "          for route_string, depart in route_list:\n",
    "              vehicles += route_string\n",
    "\n",
    "    else:\n",
    "          raise Exception('Cannot add a different traffic type! Choose either flow or route!')\n",
    "\n",
    "    # adding the traffic demand to the string with the base xml\n",
    "    xml_prepared = traffic_base.format(vtype_vehicle = vtype_vehicle,\n",
    "                                       flows = flows+'\\n',\n",
    "                                       vehicles = vehicles+'\\n')\n",
    "\n",
    "    # writing on file\n",
    "    with open(file_name, 'w') as f:\n",
    "        f.write(xml_prepared)\n",
    "    \n",
    "    return xml_prepared"
   ]
  },
  {
   "cell_type": "code",
   "execution_count": 2,
   "metadata": {
    "colab": {
     "base_uri": "https://localhost:8080/"
    },
    "id": "SAN5ljCj3MbK",
    "outputId": "68a54b18-df17-4ee4-9307-10aa74758047"
   },
   "outputs": [
    {
     "name": "stdout",
     "output_type": "stream",
     "text": [
      "Help on function write_traffic_demand in module __main__:\n",
      "\n",
      "write_traffic_demand(parameters, file_name='traffic_demand.xml')\n",
      "    Write a xml file with the traffic demand from the following parameters input:\n",
      "    -traffic_type: either flow or route\n",
      "    -n_vehicles: n° of vehicles that should be present in the simulations\n",
      "    -edge_list: edges through which the vehicles should pass from, to and through\n",
      "    -departure_time: a callable which returns the departure time of the single vehicle\n",
      "    \n",
      "    The parameters should be input as a tuple.\n",
      "\n"
     ]
    }
   ],
   "source": [
    "help(write_traffic_demand)"
   ]
  },
  {
   "cell_type": "markdown",
   "metadata": {
    "id": "hTFI2LFY5EO7"
   },
   "source": [
    "# Installing the libraries"
   ]
  },
  {
   "cell_type": "code",
   "execution_count": 3,
   "metadata": {
    "colab": {
     "base_uri": "https://localhost:8080/"
    },
    "id": "JklbOlE04qsb",
    "outputId": "6398869c-2282-4e90-b448-08d3914711e2"
   },
   "outputs": [
    {
     "name": "stdout",
     "output_type": "stream",
     "text": [
      "Looking in indexes: https://pypi.org/simple, https://us-python.pkg.dev/colab-wheels/public/simple/\n",
      "Collecting sumolib\n",
      "  Downloading sumolib-1.15.0-py3-none-any.whl (144 kB)\n",
      "\u001b[K     |████████████████████████████████| 144 kB 4.9 MB/s \n",
      "\u001b[?25hInstalling collected packages: sumolib\n",
      "Successfully installed sumolib-1.15.0\n",
      "Looking in indexes: https://pypi.org/simple, https://us-python.pkg.dev/colab-wheels/public/simple/\n",
      "Collecting scikit-mobility\n",
      "  Downloading scikit_mobility-1.2.3-py3-none-any.whl (154 kB)\n",
      "\u001b[K     |████████████████████████████████| 154 kB 5.4 MB/s \n",
      "\u001b[?25hCollecting python-igraph<0.10.0,>=0.9.1\n",
      "  Downloading python_igraph-0.9.11-py3-none-any.whl (9.1 kB)\n",
      "Collecting geopandas<0.10.0,>=0.9.0\n",
      "  Downloading geopandas-0.9.0-py2.py3-none-any.whl (994 kB)\n",
      "\u001b[K     |████████████████████████████████| 994 kB 30.3 MB/s \n",
      "\u001b[?25hCollecting geojson<3.0.0,>=2.5.0\n",
      "  Downloading geojson-2.5.0-py2.py3-none-any.whl (14 kB)\n",
      "Collecting requests<3.0.0,>=2.25.1\n",
      "  Downloading requests-2.28.1-py3-none-any.whl (62 kB)\n",
      "\u001b[K     |████████████████████████████████| 62 kB 1.3 MB/s \n",
      "\u001b[?25hRequirement already satisfied: statsmodels in /usr/local/lib/python3.7/dist-packages (from scikit-mobility) (0.12.2)\n",
      "Requirement already satisfied: scikit-learn in /usr/local/lib/python3.7/dist-packages (from scikit-mobility) (1.0.2)\n",
      "Requirement already satisfied: folium==0.12.1.post1 in /usr/local/lib/python3.7/dist-packages (from scikit-mobility) (0.12.1.post1)\n",
      "Collecting h3<4.0.0,>=3.7.3\n",
      "  Downloading h3-3.7.4-cp37-cp37m-manylinux_2_17_x86_64.manylinux2014_x86_64.whl (1.1 MB)\n",
      "\u001b[K     |████████████████████████████████| 1.1 MB 38.2 MB/s \n",
      "\u001b[?25hCollecting powerlaw<2.0.0,>=1.4.6\n",
      "  Downloading powerlaw-1.5-py3-none-any.whl (24 kB)\n",
      "Requirement already satisfied: tqdm<5.0.0,>=4.60.0 in /usr/local/lib/python3.7/dist-packages (from scikit-mobility) (4.64.1)\n",
      "Requirement already satisfied: pandas<2.0.0,>=1.1.5 in /usr/local/lib/python3.7/dist-packages (from scikit-mobility) (1.3.5)\n",
      "Requirement already satisfied: numpy in /usr/local/lib/python3.7/dist-packages (from folium==0.12.1.post1->scikit-mobility) (1.21.6)\n",
      "Requirement already satisfied: branca>=0.3.0 in /usr/local/lib/python3.7/dist-packages (from folium==0.12.1.post1->scikit-mobility) (0.6.0)\n",
      "Requirement already satisfied: jinja2>=2.9 in /usr/local/lib/python3.7/dist-packages (from folium==0.12.1.post1->scikit-mobility) (2.11.3)\n",
      "Requirement already satisfied: shapely>=1.6 in /usr/local/lib/python3.7/dist-packages (from geopandas<0.10.0,>=0.9.0->scikit-mobility) (1.8.5.post1)\n",
      "Collecting fiona>=1.8\n",
      "  Downloading Fiona-1.8.22-cp37-cp37m-manylinux2014_x86_64.whl (16.7 MB)\n",
      "\u001b[K     |████████████████████████████████| 16.7 MB 360 kB/s \n",
      "\u001b[?25hCollecting pyproj>=2.2.0\n",
      "  Downloading pyproj-3.2.1-cp37-cp37m-manylinux2010_x86_64.whl (6.3 MB)\n",
      "\u001b[K     |████████████████████████████████| 6.3 MB 32.4 MB/s \n",
      "\u001b[?25hRequirement already satisfied: six>=1.7 in /usr/local/lib/python3.7/dist-packages (from fiona>=1.8->geopandas<0.10.0,>=0.9.0->scikit-mobility) (1.15.0)\n",
      "Collecting click-plugins>=1.0\n",
      "  Downloading click_plugins-1.1.1-py2.py3-none-any.whl (7.5 kB)\n",
      "Collecting cligj>=0.5\n",
      "  Downloading cligj-0.7.2-py3-none-any.whl (7.1 kB)\n",
      "Requirement already satisfied: attrs>=17 in /usr/local/lib/python3.7/dist-packages (from fiona>=1.8->geopandas<0.10.0,>=0.9.0->scikit-mobility) (22.1.0)\n",
      "Requirement already satisfied: click>=4.0 in /usr/local/lib/python3.7/dist-packages (from fiona>=1.8->geopandas<0.10.0,>=0.9.0->scikit-mobility) (7.1.2)\n",
      "Collecting munch\n",
      "  Downloading munch-2.5.0-py2.py3-none-any.whl (10 kB)\n",
      "Requirement already satisfied: certifi in /usr/local/lib/python3.7/dist-packages (from fiona>=1.8->geopandas<0.10.0,>=0.9.0->scikit-mobility) (2022.9.24)\n",
      "Requirement already satisfied: setuptools in /usr/local/lib/python3.7/dist-packages (from fiona>=1.8->geopandas<0.10.0,>=0.9.0->scikit-mobility) (57.4.0)\n",
      "Requirement already satisfied: MarkupSafe>=0.23 in /usr/local/lib/python3.7/dist-packages (from jinja2>=2.9->folium==0.12.1.post1->scikit-mobility) (2.0.1)\n",
      "Requirement already satisfied: pytz>=2017.3 in /usr/local/lib/python3.7/dist-packages (from pandas<2.0.0,>=1.1.5->scikit-mobility) (2022.6)\n",
      "Requirement already satisfied: python-dateutil>=2.7.3 in /usr/local/lib/python3.7/dist-packages (from pandas<2.0.0,>=1.1.5->scikit-mobility) (2.8.2)\n",
      "Requirement already satisfied: mpmath in /usr/local/lib/python3.7/dist-packages (from powerlaw<2.0.0,>=1.4.6->scikit-mobility) (1.2.1)\n",
      "Requirement already satisfied: matplotlib in /usr/local/lib/python3.7/dist-packages (from powerlaw<2.0.0,>=1.4.6->scikit-mobility) (3.2.2)\n",
      "Requirement already satisfied: scipy in /usr/local/lib/python3.7/dist-packages (from powerlaw<2.0.0,>=1.4.6->scikit-mobility) (1.7.3)\n",
      "Collecting igraph==0.9.11\n",
      "  Downloading igraph-0.9.11-cp37-cp37m-manylinux_2_17_x86_64.manylinux2014_x86_64.whl (3.1 MB)\n",
      "\u001b[K     |████████████████████████████████| 3.1 MB 42.3 MB/s \n",
      "\u001b[?25hCollecting texttable>=1.6.2\n",
      "  Downloading texttable-1.6.7-py2.py3-none-any.whl (10 kB)\n",
      "Requirement already satisfied: urllib3<1.27,>=1.21.1 in /usr/local/lib/python3.7/dist-packages (from requests<3.0.0,>=2.25.1->scikit-mobility) (1.24.3)\n",
      "Requirement already satisfied: charset-normalizer<3,>=2 in /usr/local/lib/python3.7/dist-packages (from requests<3.0.0,>=2.25.1->scikit-mobility) (2.1.1)\n",
      "Requirement already satisfied: idna<4,>=2.5 in /usr/local/lib/python3.7/dist-packages (from requests<3.0.0,>=2.25.1->scikit-mobility) (2.10)\n",
      "Requirement already satisfied: kiwisolver>=1.0.1 in /usr/local/lib/python3.7/dist-packages (from matplotlib->powerlaw<2.0.0,>=1.4.6->scikit-mobility) (1.4.4)\n",
      "Requirement already satisfied: cycler>=0.10 in /usr/local/lib/python3.7/dist-packages (from matplotlib->powerlaw<2.0.0,>=1.4.6->scikit-mobility) (0.11.0)\n",
      "Requirement already satisfied: pyparsing!=2.0.4,!=2.1.2,!=2.1.6,>=2.0.1 in /usr/local/lib/python3.7/dist-packages (from matplotlib->powerlaw<2.0.0,>=1.4.6->scikit-mobility) (3.0.9)\n",
      "Requirement already satisfied: typing-extensions in /usr/local/lib/python3.7/dist-packages (from kiwisolver>=1.0.1->matplotlib->powerlaw<2.0.0,>=1.4.6->scikit-mobility) (4.1.1)\n",
      "Requirement already satisfied: threadpoolctl>=2.0.0 in /usr/local/lib/python3.7/dist-packages (from scikit-learn->scikit-mobility) (3.1.0)\n",
      "Requirement already satisfied: joblib>=0.11 in /usr/local/lib/python3.7/dist-packages (from scikit-learn->scikit-mobility) (1.2.0)\n",
      "Requirement already satisfied: patsy>=0.5 in /usr/local/lib/python3.7/dist-packages (from statsmodels->scikit-mobility) (0.5.3)\n",
      "Installing collected packages: texttable, munch, cligj, click-plugins, requests, pyproj, igraph, fiona, python-igraph, powerlaw, h3, geopandas, geojson, scikit-mobility\n",
      "  Attempting uninstall: requests\n",
      "    Found existing installation: requests 2.23.0\n",
      "    Uninstalling requests-2.23.0:\n",
      "      Successfully uninstalled requests-2.23.0\n",
      "Successfully installed click-plugins-1.1.1 cligj-0.7.2 fiona-1.8.22 geojson-2.5.0 geopandas-0.9.0 h3-3.7.4 igraph-0.9.11 munch-2.5.0 powerlaw-1.5 pyproj-3.2.1 python-igraph-0.9.11 requests-2.28.1 scikit-mobility-1.2.3 texttable-1.6.7\n",
      "Ign:1 https://developer.download.nvidia.com/compute/machine-learning/repos/ubuntu1804/x86_64  InRelease\n",
      "Get:2 https://developer.download.nvidia.com/compute/cuda/repos/ubuntu1804/x86_64  InRelease [1,581 B]\n",
      "Hit:3 https://developer.download.nvidia.com/compute/machine-learning/repos/ubuntu1804/x86_64  Release\n",
      "Hit:4 http://archive.ubuntu.com/ubuntu bionic InRelease\n",
      "Get:5 http://security.ubuntu.com/ubuntu bionic-security InRelease [88.7 kB]\n",
      "Hit:6 http://ppa.launchpad.net/c2d4u.team/c2d4u4.0+/ubuntu bionic InRelease\n",
      "Get:7 http://archive.ubuntu.com/ubuntu bionic-updates InRelease [88.7 kB]\n",
      "Get:8 https://developer.download.nvidia.com/compute/cuda/repos/ubuntu1804/x86_64  Packages [1,038 kB]\n",
      "Hit:9 http://ppa.launchpad.net/cran/libgit2/ubuntu bionic InRelease\n",
      "Hit:10 http://ppa.launchpad.net/deadsnakes/ppa/ubuntu bionic InRelease\n",
      "Get:12 http://archive.ubuntu.com/ubuntu bionic-backports InRelease [83.3 kB]\n",
      "Get:13 https://cloud.r-project.org/bin/linux/ubuntu bionic-cran40/ InRelease [3,626 B]\n",
      "Hit:14 http://ppa.launchpad.net/graphics-drivers/ppa/ubuntu bionic InRelease\n",
      "Get:15 http://ppa.launchpad.net/sumo/stable/ubuntu bionic InRelease [15.4 kB]\n",
      "Get:16 http://security.ubuntu.com/ubuntu bionic-security/universe amd64 Packages [1,561 kB]\n",
      "Get:17 http://archive.ubuntu.com/ubuntu bionic-updates/main amd64 Packages [3,493 kB]\n",
      "Get:18 http://security.ubuntu.com/ubuntu bionic-security/main amd64 Packages [3,067 kB]\n",
      "Get:19 http://archive.ubuntu.com/ubuntu bionic-updates/universe amd64 Packages [2,338 kB]\n",
      "Get:20 http://ppa.launchpad.net/sumo/stable/ubuntu bionic/main amd64 Packages [913 B]\n",
      "Fetched 11.8 MB in 4s (2,761 kB/s)\n",
      "Reading package lists... Done\n",
      "Selecting previously unselected package binfmt-support.\n",
      "(Reading database ... 123991 files and directories currently installed.)\n",
      "Preparing to unpack .../00-binfmt-support_2.1.8-2_amd64.deb ...\n",
      "Unpacking binfmt-support (2.1.8-2) ...\n",
      "Selecting previously unselected package fastjar.\n",
      "Preparing to unpack .../01-fastjar_2%3a0.98-6build1_amd64.deb ...\n",
      "Unpacking fastjar (2:0.98-6build1) ...\n",
      "Selecting previously unselected package jarwrapper.\n",
      "Preparing to unpack .../02-jarwrapper_0.72.1~18.04.1_all.deb ...\n",
      "Unpacking jarwrapper (0.72.1~18.04.1) ...\n",
      "Selecting previously unselected package javascript-common.\n",
      "Preparing to unpack .../03-javascript-common_11_all.deb ...\n",
      "Unpacking javascript-common (11) ...\n",
      "Selecting previously unselected package libfox-1.6-0:amd64.\n",
      "Preparing to unpack .../04-libfox-1.6-0_1.6.56-1_amd64.deb ...\n",
      "Unpacking libfox-1.6-0:amd64 (1.6.56-1) ...\n",
      "Selecting previously unselected package libspatialindex4v5:amd64.\n",
      "Preparing to unpack .../05-libspatialindex4v5_1.8.5-5_amd64.deb ...\n",
      "Unpacking libspatialindex4v5:amd64 (1.8.5-5) ...\n",
      "Selecting previously unselected package libspatialindex-c4v5:amd64.\n",
      "Preparing to unpack .../06-libspatialindex-c4v5_1.8.5-5_amd64.deb ...\n",
      "Unpacking libspatialindex-c4v5:amd64 (1.8.5-5) ...\n",
      "Selecting previously unselected package python3-pkg-resources.\n",
      "Preparing to unpack .../07-python3-pkg-resources_39.0.1-2_all.deb ...\n",
      "Unpacking python3-pkg-resources (39.0.1-2) ...\n",
      "Selecting previously unselected package python3-pyproj.\n",
      "Preparing to unpack .../08-python3-pyproj_1.9.5.1-3build1_amd64.deb ...\n",
      "Unpacking python3-pyproj (1.9.5.1-3build1) ...\n",
      "Selecting previously unselected package libspatialindex-dev:amd64.\n",
      "Preparing to unpack .../09-libspatialindex-dev_1.8.5-5_amd64.deb ...\n",
      "Unpacking libspatialindex-dev:amd64 (1.8.5-5) ...\n",
      "Selecting previously unselected package python3-rtree.\n",
      "Preparing to unpack .../10-python3-rtree_0.8.3+ds-1_all.deb ...\n",
      "Unpacking python3-rtree (0.8.3+ds-1) ...\n",
      "Selecting previously unselected package sumo.\n",
      "Preparing to unpack .../11-sumo_1.15.0-1~bionic_amd64.deb ...\n",
      "Unpacking sumo (1.15.0-1~bionic) ...\n",
      "Selecting previously unselected package libjs-openlayers.\n",
      "Preparing to unpack .../12-libjs-openlayers_2.13.1+ds2-4_all.deb ...\n",
      "Unpacking libjs-openlayers (2.13.1+ds2-4) ...\n",
      "Selecting previously unselected package sumo-tools.\n",
      "Preparing to unpack .../13-sumo-tools_1.15.0-1~bionic_all.deb ...\n",
      "Unpacking sumo-tools (1.15.0-1~bionic) ...\n",
      "Setting up binfmt-support (2.1.8-2) ...\n",
      "Created symlink /etc/systemd/system/multi-user.target.wants/binfmt-support.service → /lib/systemd/system/binfmt-support.service.\n",
      "invoke-rc.d: could not determine current runlevel\n",
      "invoke-rc.d: policy-rc.d denied execution of start.\n",
      "Setting up libspatialindex4v5:amd64 (1.8.5-5) ...\n",
      "Setting up libfox-1.6-0:amd64 (1.6.56-1) ...\n",
      "Setting up fastjar (2:0.98-6build1) ...\n",
      "Setting up libjs-openlayers (2.13.1+ds2-4) ...\n",
      "Setting up python3-pkg-resources (39.0.1-2) ...\n",
      "Setting up sumo (1.15.0-1~bionic) ...\n",
      "Setting up libspatialindex-c4v5:amd64 (1.8.5-5) ...\n",
      "Setting up python3-pyproj (1.9.5.1-3build1) ...\n",
      "Setting up javascript-common (11) ...\n",
      "Setting up jarwrapper (0.72.1~18.04.1) ...\n",
      "Setting up libspatialindex-dev:amd64 (1.8.5-5) ...\n",
      "Setting up python3-rtree (0.8.3+ds-1) ...\n",
      "Setting up sumo-tools (1.15.0-1~bionic) ...\n",
      "Processing triggers for systemd (237-3ubuntu10.56) ...\n",
      "Processing triggers for man-db (2.8.3-2ubuntu0.1) ...\n",
      "Processing triggers for mime-support (3.60ubuntu1) ...\n",
      "Processing triggers for libc-bin (2.27-3ubuntu1.6) ...\n",
      "Looking in indexes: https://pypi.org/simple, https://us-python.pkg.dev/colab-wheels/public/simple/\n",
      "Collecting traci\n",
      "  Downloading traci-1.15.0-py3-none-any.whl (262 kB)\n",
      "\u001b[K     |████████████████████████████████| 262 kB 5.0 MB/s \n",
      "\u001b[?25hRequirement already satisfied: sumolib>=1.15.0 in /usr/local/lib/python3.7/dist-packages (from traci) (1.15.0)\n",
      "Installing collected packages: traci\n",
      "Successfully installed traci-1.15.0\n",
      "Looking in indexes: https://pypi.org/simple, https://us-python.pkg.dev/colab-wheels/public/simple/\n",
      "Collecting Pastebin\n",
      "  Downloading Pastebin-1.1.2.tar.gz (66 kB)\n",
      "\u001b[K     |████████████████████████████████| 66 kB 2.4 MB/s \n",
      "\u001b[?25hRequirement already satisfied: setuptools in /usr/local/lib/python3.7/dist-packages (from Pastebin) (57.4.0)\n",
      "Building wheels for collected packages: Pastebin\n",
      "  Building wheel for Pastebin (setup.py) ... \u001b[?25l\u001b[?25hdone\n",
      "  Created wheel for Pastebin: filename=Pastebin-1.1.2-py3-none-any.whl size=22845 sha256=5df2097499e2f501208c89e84ac04fd8edea228c00d5f265fb9af1b1a8a88b67\n",
      "  Stored in directory: /root/.cache/pip/wheels/cb/05/82/ca8f899ace72f9d8d0d827fc34b4bdb3143cd7dc0787bed811\n",
      "Successfully built Pastebin\n",
      "Installing collected packages: Pastebin\n",
      "Successfully installed Pastebin-1.1.2\n"
     ]
    }
   ],
   "source": [
    "!pip install sumolib\n",
    "!pip install scikit-mobility\n",
    "\n",
    "# to run duarouter on Colab\n",
    "!add-apt-repository -y ppa:sumo/stable\n",
    "!apt-get -qq install -y sumo\n",
    "\n",
    "# to run traci\n",
    "!pip install traci\n",
    "\n",
    "# to load the \"La Spezia\" road network\n",
    "!pip install Pastebin"
   ]
  },
  {
   "cell_type": "markdown",
   "metadata": {
    "id": "8Cr4xl-65I9I"
   },
   "source": [
    "# Importing the road network of La Spezia"
   ]
  },
  {
   "cell_type": "code",
   "execution_count": 4,
   "metadata": {
    "id": "PMbblgDt32AI"
   },
   "outputs": [],
   "source": [
    "import numpy as np\n",
    "import geopandas as gpd\n",
    "from shapely.geometry import Point\n",
    "from skmob.utils.plot import plot_gdf\n",
    "from folium.map import Marker, Icon\n",
    "import sumolib\n",
    "\n",
    "import requests\n",
    "url = 'https://paste.c-net.org/MaguireQuail' # url of the netfile I pasted online\n",
    "network_xml = requests.get(url).text # raw text from url\n",
    "\n",
    "net_path = 'la_spezia_net.xml'\n",
    "\n",
    "# write the road network I stored online\n",
    "with open(net_path, 'w', encoding=\"utf-8\") as netfile:\n",
    "    netfile.write(network_xml)\n",
    "\n",
    "# read the road network\n",
    "net = sumolib.net.readNet(net_path)"
   ]
  },
  {
   "cell_type": "code",
   "execution_count": 5,
   "metadata": {
    "colab": {
     "base_uri": "https://localhost:8080/"
    },
    "id": "7RFDSTTF4p2C",
    "outputId": "62ff9721-e574-4f48-8149-54ec450f58a4"
   },
   "outputs": [
    {
     "name": "stdout",
     "output_type": "stream",
     "text": [
      "The road network has 4982 edges and 2425 nodes.\n"
     ]
    }
   ],
   "source": [
    "# get the list of edges\n",
    "edge_list = net.getEdges()\n",
    "\n",
    "# get the list of nodes\n",
    "node_list = net.getNodes()\n",
    "\n",
    "print(f\"The road network has {len(edge_list)} edges and {len(node_list)} nodes.\")"
   ]
  },
  {
   "cell_type": "markdown",
   "metadata": {
    "id": "1itZdTPYp-mJ"
   },
   "source": [
    "# Getting a random origin and destination\n",
    "I used a seed 42 for reproducibility"
   ]
  },
  {
   "cell_type": "code",
   "execution_count": 6,
   "metadata": {
    "colab": {
     "base_uri": "https://localhost:8080/"
    },
    "id": "a3rNJdNt9wPO",
    "outputId": "1e30ff99-ac2a-4158-ca99-1f3ca6d0ee08"
   },
   "outputs": [
    {
     "name": "stdout",
     "output_type": "stream",
     "text": [
      "SUMO coords: (6102.18, 5022.94) GPS coords (lon, lat): (9.845, 44.115) Via del Canaletto Edge ID: -282484252#0\n",
      "SUMO coords: (2763.1, 5321.34) GPS coords (lon,lat): (9.804, 44.118) Via Genova Edge ID: 37011399#3\n"
     ]
    }
   ],
   "source": [
    "np.random.seed(42)\n",
    "origin_idx = np.random.randint(0, len(edge_list))\n",
    "destination_idx = np.random.randint(0, len(edge_list))\n",
    "\n",
    "#get the two random edges\n",
    "o, d = edge_list[origin_idx], edge_list[destination_idx]\n",
    "\n",
    "#origin coords\n",
    "x_o, y_o = o.getFromNode().getCoord()\n",
    "lon_o, lat_o = net.convertXY2LonLat(x_o, y_o)\n",
    "\n",
    "#destination coords\n",
    "x_d, y_d = d.getFromNode().getCoord()\n",
    "lon_d, lat_d = net.convertXY2LonLat(x_d, y_d)\n",
    "\n",
    "#storing info\n",
    "orig_info = [f\"SUMO coords: {x_o, y_o}\", \n",
    "             f\"GPS coords (lon, lat): {round(lon_o, 3), round(lat_o, 3)}\", \n",
    "             f\"{o.getName()}\"]\n",
    "dest_info = [f\"SUMO coords: {x_d, y_d}\", \n",
    "             f\"GPS coords (lon,lat): {round(lon_d, 3), round(lat_d, 3)}\", \n",
    "             f\"{d.getName()}\"]\n",
    "\n",
    "#print info\n",
    "print(*orig_info, f\"Edge ID: {o.getID()}\")\n",
    "print(*dest_info, f\"Edge ID: {d.getID()}\")"
   ]
  },
  {
   "cell_type": "markdown",
   "metadata": {
    "id": "FWUfTTfFqRBo"
   },
   "source": [
    "# Plotting the two points"
   ]
  },
  {
   "cell_type": "code",
   "execution_count": 7,
   "metadata": {
    "colab": {
     "base_uri": "https://localhost:8080/",
     "height": 1000
    },
    "id": "OQlbQggU_Kg6",
    "outputId": "191a3a4f-6e6b-48f1-a8a6-438f04ba32e1"
   },
   "outputs": [
    {
     "data": {
      "text/html": [
       "<div style=\"width:100%;\"><div style=\"position:relative;width:100%;height:0;padding-bottom:60%;\"><span style=\"color:#565656\">Make this Notebook Trusted to load map: File -> Trust Notebook</span><iframe srcdoc=\"&lt;!DOCTYPE html&gt;\n",
       "&lt;html&gt;\n",
       "&lt;head&gt;\n",
       "    \n",
       "    &lt;meta http-equiv=&quot;content-type&quot; content=&quot;text/html; charset=UTF-8&quot; /&gt;\n",
       "    \n",
       "        &lt;script&gt;\n",
       "            L_NO_TOUCH = false;\n",
       "            L_DISABLE_3D = false;\n",
       "        &lt;/script&gt;\n",
       "    \n",
       "    &lt;style&gt;html, body {width: 100%;height: 100%;margin: 0;padding: 0;}&lt;/style&gt;\n",
       "    &lt;style&gt;#map {position:absolute;top:0;bottom:0;right:0;left:0;}&lt;/style&gt;\n",
       "    &lt;script src=&quot;https://cdn.jsdelivr.net/npm/leaflet@1.6.0/dist/leaflet.js&quot;&gt;&lt;/script&gt;\n",
       "    &lt;script src=&quot;https://code.jquery.com/jquery-1.12.4.min.js&quot;&gt;&lt;/script&gt;\n",
       "    &lt;script src=&quot;https://maxcdn.bootstrapcdn.com/bootstrap/3.2.0/js/bootstrap.min.js&quot;&gt;&lt;/script&gt;\n",
       "    &lt;script src=&quot;https://cdnjs.cloudflare.com/ajax/libs/Leaflet.awesome-markers/2.0.2/leaflet.awesome-markers.js&quot;&gt;&lt;/script&gt;\n",
       "    &lt;link rel=&quot;stylesheet&quot; href=&quot;https://cdn.jsdelivr.net/npm/leaflet@1.6.0/dist/leaflet.css&quot;/&gt;\n",
       "    &lt;link rel=&quot;stylesheet&quot; href=&quot;https://maxcdn.bootstrapcdn.com/bootstrap/3.2.0/css/bootstrap.min.css&quot;/&gt;\n",
       "    &lt;link rel=&quot;stylesheet&quot; href=&quot;https://maxcdn.bootstrapcdn.com/bootstrap/3.2.0/css/bootstrap-theme.min.css&quot;/&gt;\n",
       "    &lt;link rel=&quot;stylesheet&quot; href=&quot;https://maxcdn.bootstrapcdn.com/font-awesome/4.6.3/css/font-awesome.min.css&quot;/&gt;\n",
       "    &lt;link rel=&quot;stylesheet&quot; href=&quot;https://cdnjs.cloudflare.com/ajax/libs/Leaflet.awesome-markers/2.0.2/leaflet.awesome-markers.css&quot;/&gt;\n",
       "    &lt;link rel=&quot;stylesheet&quot; href=&quot;https://cdn.jsdelivr.net/gh/python-visualization/folium/folium/templates/leaflet.awesome.rotate.min.css&quot;/&gt;\n",
       "    \n",
       "            &lt;meta name=&quot;viewport&quot; content=&quot;width=device-width,\n",
       "                initial-scale=1.0, maximum-scale=1.0, user-scalable=no&quot; /&gt;\n",
       "            &lt;style&gt;\n",
       "                #map_3c085ec3a2c20456722351f2c109eced {\n",
       "                    position: relative;\n",
       "                    width: 100.0%;\n",
       "                    height: 100.0%;\n",
       "                    left: 0.0%;\n",
       "                    top: 0.0%;\n",
       "                }\n",
       "            &lt;/style&gt;\n",
       "        \n",
       "&lt;/head&gt;\n",
       "&lt;body&gt;\n",
       "    \n",
       "    \n",
       "            &lt;div class=&quot;folium-map&quot; id=&quot;map_3c085ec3a2c20456722351f2c109eced&quot; &gt;&lt;/div&gt;\n",
       "        \n",
       "&lt;/body&gt;\n",
       "&lt;script&gt;\n",
       "    \n",
       "    \n",
       "            var map_3c085ec3a2c20456722351f2c109eced = L.map(\n",
       "                &quot;map_3c085ec3a2c20456722351f2c109eced&quot;,\n",
       "                {\n",
       "                    center: [44.11646000363312, 9.824394753465276],\n",
       "                    crs: L.CRS.EPSG3857,\n",
       "                    zoom: 14,\n",
       "                    zoomControl: true,\n",
       "                    preferCanvas: false,\n",
       "                }\n",
       "            );\n",
       "            L.control.scale().addTo(map_3c085ec3a2c20456722351f2c109eced);\n",
       "\n",
       "            \n",
       "\n",
       "        \n",
       "    \n",
       "            var tile_layer_5d616b17ebbeb9c9a99bfc04c6e34ad4 = L.tileLayer(\n",
       "                &quot;https://cartodb-basemaps-{s}.global.ssl.fastly.net/light_all/{z}/{x}/{y}.png&quot;,\n",
       "                {&quot;attribution&quot;: &quot;\\u0026copy; \\u003ca href=\\&quot;http://www.openstreetmap.org/copyright\\&quot;\\u003eOpenStreetMap\\u003c/a\\u003e contributors \\u0026copy; \\u003ca href=\\&quot;http://cartodb.com/attributions\\&quot;\\u003eCartoDB\\u003c/a\\u003e, CartoDB \\u003ca href =\\&quot;http://cartodb.com/attributions\\&quot;\\u003eattributions\\u003c/a\\u003e&quot;, &quot;detectRetina&quot;: false, &quot;maxNativeZoom&quot;: 18, &quot;maxZoom&quot;: 18, &quot;minZoom&quot;: 0, &quot;noWrap&quot;: false, &quot;opacity&quot;: 1, &quot;subdomains&quot;: &quot;abc&quot;, &quot;tms&quot;: false}\n",
       "            ).addTo(map_3c085ec3a2c20456722351f2c109eced);\n",
       "        \n",
       "    \n",
       "        function geo_json_ca4a741e59c7ae2a02e3c359f2897b5f_styler(feature) {\n",
       "            switch(feature.id) {\n",
       "                default:\n",
       "                    return {&quot;color&quot;: &quot;#146679&quot;, &quot;fillColor&quot;: &quot;#146679&quot;, &quot;fillOpacity&quot;: 0.25, &quot;opacity&quot;: 0.5, &quot;weight&quot;: 1};\n",
       "            }\n",
       "        }\n",
       "\n",
       "        function geo_json_ca4a741e59c7ae2a02e3c359f2897b5f_onEachFeature(feature, layer) {\n",
       "            layer.on({\n",
       "            });\n",
       "        };\n",
       "        var geo_json_ca4a741e59c7ae2a02e3c359f2897b5f = L.geoJson(null, {\n",
       "                onEachFeature: geo_json_ca4a741e59c7ae2a02e3c359f2897b5f_onEachFeature,\n",
       "            \n",
       "                style: geo_json_ca4a741e59c7ae2a02e3c359f2897b5f_styler,\n",
       "        });\n",
       "\n",
       "        function geo_json_ca4a741e59c7ae2a02e3c359f2897b5f_add (data) {\n",
       "            geo_json_ca4a741e59c7ae2a02e3c359f2897b5f\n",
       "                .addData(data)\n",
       "                .addTo(map_3c085ec3a2c20456722351f2c109eced);\n",
       "        }\n",
       "            geo_json_ca4a741e59c7ae2a02e3c359f2897b5f_add({&quot;features&quot;: [{&quot;geometry&quot;: {&quot;coordinates&quot;: [[[9.848238699582716, 44.11496629667252], [9.848224253762732, 44.11467224525153], [9.848181055423925, 44.11438102570647], [9.848109520589912, 44.11409544264076], [9.848010338180249, 44.11381824637542], [9.847884463375761, 44.113552106462045], [9.847733108419623, 44.113299585973465], [9.847557730942803, 44.11306311682003], [9.847360019926276, 44.11284497632896], [9.847141879435206, 44.11264726531243], [9.846905410281774, 44.11247188783561], [9.846652889793193, 44.11232053287947], [9.84638674987981, 44.11219465807498], [9.846109553614479, 44.11209547566532], [9.845823970548764, 44.112023940831314], [9.845532751003704, 44.111980742492506], [9.845238699582715, 44.11196629667252], [9.844944648161727, 44.111980742492506], [9.844653428616667, 44.112023940831314], [9.844367845550952, 44.11209547566532], [9.84409064928562, 44.11219465807498], [9.843824509372238, 44.11232053287947], [9.843571988883657, 44.11247188783561], [9.843335519730225, 44.11264726531243], [9.843117379239155, 44.11284497632896], [9.842919668222628, 44.11306311682003], [9.842744290745808, 44.113299585973465], [9.84259293578967, 44.113552106462045], [9.842467060985182, 44.11381824637542], [9.84236787857552, 44.11409544264076], [9.842296343741506, 44.11438102570647], [9.8422531454027, 44.11467224525153], [9.842238699582715, 44.11496629667252], [9.8422531454027, 44.11526034809351], [9.842296343741506, 44.11555156763857], [9.84236787857552, 44.11583715070428], [9.842467060985182, 44.11611434696962], [9.84259293578967, 44.116380486882996], [9.842744290745808, 44.116633007371576], [9.842919668222628, 44.11686947652501], [9.843117379239155, 44.11708761701608], [9.843335519730225, 44.11728532803261], [9.843571988883657, 44.11746070550943], [9.843824509372238, 44.11761206046557], [9.84409064928562, 44.11773793527006], [9.844367845550952, 44.11783711767972], [9.844653428616667, 44.11790865251373], [9.844944648161727, 44.117951850852535], [9.845238699582715, 44.11796629667252], [9.845532751003704, 44.117951850852535], [9.845823970548764, 44.11790865251373], [9.846109553614479, 44.11783711767972], [9.84638674987981, 44.11773793527006], [9.846652889793193, 44.11761206046557], [9.846905410281774, 44.11746070550943], [9.847141879435206, 44.11728532803261], [9.847360019926276, 44.11708761701608], [9.847557730942803, 44.11686947652501], [9.847733108419623, 44.116633007371576], [9.847884463375761, 44.116380486882996], [9.848010338180249, 44.11611434696962], [9.848109520589912, 44.11583715070428], [9.848181055423925, 44.11555156763857], [9.848224253762732, 44.11526034809351], [9.848238699582716, 44.11496629667252]]], &quot;type&quot;: &quot;Polygon&quot;}, &quot;id&quot;: &quot;0&quot;, &quot;type&quot;: &quot;Feature&quot;}], &quot;type&quot;: &quot;FeatureCollection&quot;});\n",
       "\n",
       "        \n",
       "    \n",
       "        function geo_json_e11a4b3876b88357519f5e211e8a5631_styler(feature) {\n",
       "            switch(feature.id) {\n",
       "                default:\n",
       "                    return {&quot;color&quot;: &quot;#D2D64A&quot;, &quot;fillColor&quot;: &quot;#D2D64A&quot;, &quot;fillOpacity&quot;: 0.25, &quot;opacity&quot;: 0.5, &quot;weight&quot;: 1};\n",
       "            }\n",
       "        }\n",
       "\n",
       "        function geo_json_e11a4b3876b88357519f5e211e8a5631_onEachFeature(feature, layer) {\n",
       "            layer.on({\n",
       "            });\n",
       "        };\n",
       "        var geo_json_e11a4b3876b88357519f5e211e8a5631 = L.geoJson(null, {\n",
       "                onEachFeature: geo_json_e11a4b3876b88357519f5e211e8a5631_onEachFeature,\n",
       "            \n",
       "                style: geo_json_e11a4b3876b88357519f5e211e8a5631_styler,\n",
       "        });\n",
       "\n",
       "        function geo_json_e11a4b3876b88357519f5e211e8a5631_add (data) {\n",
       "            geo_json_e11a4b3876b88357519f5e211e8a5631\n",
       "                .addData(data)\n",
       "                .addTo(map_3c085ec3a2c20456722351f2c109eced);\n",
       "        }\n",
       "            geo_json_e11a4b3876b88357519f5e211e8a5631_add({&quot;features&quot;: [{&quot;geometry&quot;: {&quot;coordinates&quot;: [[[9.806550807347826, 44.11795371059372], [9.806536361527842, 44.11765965917273], [9.806493163189035, 44.11736843962767], [9.806421628355022, 44.11708285656196], [9.806322445945359, 44.11680566029662], [9.806196571140871, 44.11653952038324], [9.806045216184733, 44.11628699989466], [9.805869838707913, 44.11605053074123], [9.805672127691386, 44.115832390250155], [9.805453987200316, 44.11563467923363], [9.805217518046884, 44.11545930175681], [9.804964997558303, 44.11530794680067], [9.80469885764492, 44.11518207199618], [9.804421661379589, 44.11508288958652], [9.804136078313874, 44.11501135475251], [9.803844858768814, 44.1149681564137], [9.803550807347825, 44.11495371059372], [9.803256755926837, 44.1149681564137], [9.802965536381777, 44.11501135475251], [9.802679953316062, 44.11508288958652], [9.80240275705073, 44.11518207199618], [9.802136617137348, 44.11530794680067], [9.801884096648767, 44.11545930175681], [9.801647627495335, 44.11563467923363], [9.801429487004265, 44.115832390250155], [9.801231775987738, 44.11605053074123], [9.801056398510918, 44.11628699989466], [9.80090504355478, 44.11653952038324], [9.800779168750292, 44.11680566029662], [9.80067998634063, 44.11708285656196], [9.800608451506616, 44.11736843962767], [9.80056525316781, 44.11765965917273], [9.800550807347825, 44.11795371059372], [9.80056525316781, 44.118247762014704], [9.800608451506616, 44.118538981559766], [9.80067998634063, 44.11882456462548], [9.800779168750292, 44.119101760890814], [9.80090504355478, 44.11936790080419], [9.801056398510918, 44.11962042129277], [9.801231775987738, 44.11985689044621], [9.801429487004265, 44.12007503093728], [9.801647627495335, 44.120272741953805], [9.801884096648767, 44.12044811943063], [9.802136617137348, 44.120599474386765], [9.80240275705073, 44.120725349191254], [9.802679953316062, 44.12082453160092], [9.802965536381777, 44.12089606643492], [9.803256755926837, 44.12093926477373], [9.803550807347825, 44.12095371059372], [9.803844858768814, 44.12093926477373], [9.804136078313874, 44.12089606643492], [9.804421661379589, 44.12082453160092], [9.80469885764492, 44.120725349191254], [9.804964997558303, 44.120599474386765], [9.805217518046884, 44.12044811943063], [9.805453987200316, 44.120272741953805], [9.805672127691386, 44.12007503093728], [9.805869838707913, 44.11985689044621], [9.806045216184733, 44.11962042129277], [9.806196571140871, 44.11936790080419], [9.806322445945359, 44.119101760890814], [9.806421628355022, 44.11882456462548], [9.806493163189035, 44.118538981559766], [9.806536361527842, 44.118247762014704], [9.806550807347826, 44.11795371059372]]], &quot;type&quot;: &quot;Polygon&quot;}, &quot;id&quot;: &quot;0&quot;, &quot;type&quot;: &quot;Feature&quot;}], &quot;type&quot;: &quot;FeatureCollection&quot;});\n",
       "\n",
       "        \n",
       "    \n",
       "            var marker_df8da907359f2c3af49ca77f6fa73276 = L.marker(\n",
       "                [44.11496629667252, 9.845238699582715],\n",
       "                {}\n",
       "            ).addTo(map_3c085ec3a2c20456722351f2c109eced);\n",
       "        \n",
       "    \n",
       "            var icon_b74ad8d88bc05b18ff14e14aec055d75 = L.AwesomeMarkers.icon(\n",
       "                {&quot;extraClasses&quot;: &quot;fa-rotate-0&quot;, &quot;icon&quot;: &quot;info-sign&quot;, &quot;iconColor&quot;: &quot;white&quot;, &quot;markerColor&quot;: &quot;green&quot;, &quot;prefix&quot;: &quot;glyphicon&quot;}\n",
       "            );\n",
       "            marker_df8da907359f2c3af49ca77f6fa73276.setIcon(icon_b74ad8d88bc05b18ff14e14aec055d75);\n",
       "        \n",
       "    \n",
       "        var popup_698091c0dbea8557f4cb7adbf538d983 = L.popup({&quot;maxWidth&quot;: &quot;100%&quot;});\n",
       "\n",
       "        \n",
       "            var html_ecad533d360e13b7aad5fc4635c6681e = $(`&lt;div id=&quot;html_ecad533d360e13b7aad5fc4635c6681e&quot; style=&quot;width: 100.0%; height: 100.0%;&quot;&gt;Origin: SUMO coords: (6102.18, 5022.94)  GPS coords (lon, lat): (9.845, 44.115)  Via del Canaletto&lt;/div&gt;`)[0];\n",
       "            popup_698091c0dbea8557f4cb7adbf538d983.setContent(html_ecad533d360e13b7aad5fc4635c6681e);\n",
       "        \n",
       "\n",
       "        marker_df8da907359f2c3af49ca77f6fa73276.bindPopup(popup_698091c0dbea8557f4cb7adbf538d983)\n",
       "        ;\n",
       "\n",
       "        \n",
       "    \n",
       "    \n",
       "            var marker_4076e14b7207366f989cf07cbd3b988c = L.marker(\n",
       "                [44.11795371059372, 9.803550807347825],\n",
       "                {}\n",
       "            ).addTo(map_3c085ec3a2c20456722351f2c109eced);\n",
       "        \n",
       "    \n",
       "            var icon_dd0cd2a327b38a85ad8bbc97dfebfcdc = L.AwesomeMarkers.icon(\n",
       "                {&quot;extraClasses&quot;: &quot;fa-rotate-0&quot;, &quot;icon&quot;: &quot;info-sign&quot;, &quot;iconColor&quot;: &quot;white&quot;, &quot;markerColor&quot;: &quot;red&quot;, &quot;prefix&quot;: &quot;glyphicon&quot;}\n",
       "            );\n",
       "            marker_4076e14b7207366f989cf07cbd3b988c.setIcon(icon_dd0cd2a327b38a85ad8bbc97dfebfcdc);\n",
       "        \n",
       "    \n",
       "        var popup_f99a9399d43ece288481340cb8fb8bb0 = L.popup({&quot;maxWidth&quot;: &quot;100%&quot;});\n",
       "\n",
       "        \n",
       "            var html_bc73dd76e4a677eb12191ddb8f6866dd = $(`&lt;div id=&quot;html_bc73dd76e4a677eb12191ddb8f6866dd&quot; style=&quot;width: 100.0%; height: 100.0%;&quot;&gt;Destination: SUMO coords: (2763.1, 5321.34)  GPS coords (lon,lat): (9.804, 44.118)  Via Genova&lt;/div&gt;`)[0];\n",
       "            popup_f99a9399d43ece288481340cb8fb8bb0.setContent(html_bc73dd76e4a677eb12191ddb8f6866dd);\n",
       "        \n",
       "\n",
       "        marker_4076e14b7207366f989cf07cbd3b988c.bindPopup(popup_f99a9399d43ece288481340cb8fb8bb0)\n",
       "        ;\n",
       "\n",
       "        \n",
       "    \n",
       "&lt;/script&gt;\n",
       "&lt;/html&gt;\" style=\"position:absolute;width:100%;height:100%;left:0;top:0;border:none !important;\" allowfullscreen webkitallowfullscreen mozallowfullscreen></iframe></div></div>"
      ],
      "text/plain": [
       "<folium.folium.Map at 0x7f7c74ea57d0>"
      ]
     },
     "execution_count": 7,
     "metadata": {},
     "output_type": "execute_result"
    }
   ],
   "source": [
    "map_f = plot_gdf(gpd.GeoDataFrame(geometry = [Point(lon_o, lat_o).buffer(.003), Point(lon_d, lat_d).buffer(.003)]), zoom= 14)\n",
    "Marker(location = (lat_o, lon_o), popup = f'Origin: {(2*chr(10)).join(orig_info)}', icon = Icon(color='green')).add_to(map_f)\n",
    "Marker(location = (lat_d, lon_d), popup = f'Destination: {(2*chr(10)).join(dest_info)}', icon = Icon(color='red')).add_to(map_f)\n",
    "map_f"
   ]
  },
  {
   "cell_type": "markdown",
   "metadata": {
    "id": "7XtoJ5esiVgW"
   },
   "source": [
    "# Checking the connection\n",
    "Checking if there is a path between the two points"
   ]
  },
  {
   "cell_type": "code",
   "execution_count": 8,
   "metadata": {
    "colab": {
     "base_uri": "https://localhost:8080/"
    },
    "id": "qkYnKayFC3sA",
    "outputId": "f5b3b6a4-b65d-40b4-aca0-f00707f0e146"
   },
   "outputs": [
    {
     "name": "stdout",
     "output_type": "stream",
     "text": [
      "Number of edges in the path: 71\n",
      "Cost [m]: 3497.71\n"
     ]
    }
   ],
   "source": [
    "# computing the shortest path to understand if the path is connected\n",
    "shortest_path = net.getOptimalPath(o, d, fastest=False)\n",
    "\n",
    "print(f\"Number of edges in the path: {len(shortest_path[0])}\")\n",
    "print(f\"Cost [m]: {shortest_path[1]}\")"
   ]
  },
  {
   "cell_type": "markdown",
   "metadata": {
    "id": "QIGgDuITW89E"
   },
   "source": [
    "# Visualizing the Shortest Path\n",
    "Using a trajectory dataframe to visualize the shortest path"
   ]
  },
  {
   "cell_type": "code",
   "execution_count": 9,
   "metadata": {
    "id": "azfi0mmQif6W"
   },
   "outputs": [],
   "source": [
    "import pandas as pd\n",
    "from skmob import TrajDataFrame\n",
    "from datetime import datetime, timedelta\n",
    "\n",
    "edge_data = list()\n",
    "\n",
    "for n, edge in enumerate(shortest_path[0]):\n",
    "    user_id = 1 # setting the same user_id for all points\n",
    "    #getting the date (just adding an hour for each movement)\n",
    "    date = datetime(2022, 11, 22) + timedelta(hours = n)\n",
    "\n",
    "    #adding the coordinates from the node data\n",
    "    x, y = edge.getFromNode().getCoord()\n",
    "    lon, lat = net.convertXY2LonLat(x, y)\n",
    "\n",
    "    edge_data.append((user_id, date, lon, lat))"
   ]
  },
  {
   "cell_type": "code",
   "execution_count": 10,
   "metadata": {
    "colab": {
     "base_uri": "https://localhost:8080/",
     "height": 1000
    },
    "id": "85N8Mm_-Y5BY",
    "outputId": "6da27a56-6dc3-4d45-c8da-000c9848ff48"
   },
   "outputs": [
    {
     "data": {
      "text/html": [
       "<div style=\"width:100%;\"><div style=\"position:relative;width:100%;height:0;padding-bottom:60%;\"><span style=\"color:#565656\">Make this Notebook Trusted to load map: File -> Trust Notebook</span><iframe srcdoc=\"&lt;!DOCTYPE html&gt;\n",
       "&lt;html&gt;\n",
       "&lt;head&gt;\n",
       "    \n",
       "    &lt;meta http-equiv=&quot;content-type&quot; content=&quot;text/html; charset=UTF-8&quot; /&gt;\n",
       "    \n",
       "        &lt;script&gt;\n",
       "            L_NO_TOUCH = false;\n",
       "            L_DISABLE_3D = false;\n",
       "        &lt;/script&gt;\n",
       "    \n",
       "    &lt;style&gt;html, body {width: 100%;height: 100%;margin: 0;padding: 0;}&lt;/style&gt;\n",
       "    &lt;style&gt;#map {position:absolute;top:0;bottom:0;right:0;left:0;}&lt;/style&gt;\n",
       "    &lt;script src=&quot;https://cdn.jsdelivr.net/npm/leaflet@1.6.0/dist/leaflet.js&quot;&gt;&lt;/script&gt;\n",
       "    &lt;script src=&quot;https://code.jquery.com/jquery-1.12.4.min.js&quot;&gt;&lt;/script&gt;\n",
       "    &lt;script src=&quot;https://maxcdn.bootstrapcdn.com/bootstrap/3.2.0/js/bootstrap.min.js&quot;&gt;&lt;/script&gt;\n",
       "    &lt;script src=&quot;https://cdnjs.cloudflare.com/ajax/libs/Leaflet.awesome-markers/2.0.2/leaflet.awesome-markers.js&quot;&gt;&lt;/script&gt;\n",
       "    &lt;link rel=&quot;stylesheet&quot; href=&quot;https://cdn.jsdelivr.net/npm/leaflet@1.6.0/dist/leaflet.css&quot;/&gt;\n",
       "    &lt;link rel=&quot;stylesheet&quot; href=&quot;https://maxcdn.bootstrapcdn.com/bootstrap/3.2.0/css/bootstrap.min.css&quot;/&gt;\n",
       "    &lt;link rel=&quot;stylesheet&quot; href=&quot;https://maxcdn.bootstrapcdn.com/bootstrap/3.2.0/css/bootstrap-theme.min.css&quot;/&gt;\n",
       "    &lt;link rel=&quot;stylesheet&quot; href=&quot;https://maxcdn.bootstrapcdn.com/font-awesome/4.6.3/css/font-awesome.min.css&quot;/&gt;\n",
       "    &lt;link rel=&quot;stylesheet&quot; href=&quot;https://cdnjs.cloudflare.com/ajax/libs/Leaflet.awesome-markers/2.0.2/leaflet.awesome-markers.css&quot;/&gt;\n",
       "    &lt;link rel=&quot;stylesheet&quot; href=&quot;https://cdn.jsdelivr.net/gh/python-visualization/folium/folium/templates/leaflet.awesome.rotate.min.css&quot;/&gt;\n",
       "    \n",
       "            &lt;meta name=&quot;viewport&quot; content=&quot;width=device-width,\n",
       "                initial-scale=1.0, maximum-scale=1.0, user-scalable=no&quot; /&gt;\n",
       "            &lt;style&gt;\n",
       "                #map_3c085ec3a2c20456722351f2c109eced {\n",
       "                    position: relative;\n",
       "                    width: 100.0%;\n",
       "                    height: 100.0%;\n",
       "                    left: 0.0%;\n",
       "                    top: 0.0%;\n",
       "                }\n",
       "            &lt;/style&gt;\n",
       "        \n",
       "&lt;/head&gt;\n",
       "&lt;body&gt;\n",
       "    \n",
       "    \n",
       "            &lt;div class=&quot;folium-map&quot; id=&quot;map_3c085ec3a2c20456722351f2c109eced&quot; &gt;&lt;/div&gt;\n",
       "        \n",
       "&lt;/body&gt;\n",
       "&lt;script&gt;\n",
       "    \n",
       "    \n",
       "            var map_3c085ec3a2c20456722351f2c109eced = L.map(\n",
       "                &quot;map_3c085ec3a2c20456722351f2c109eced&quot;,\n",
       "                {\n",
       "                    center: [44.11646000363312, 9.824394753465276],\n",
       "                    crs: L.CRS.EPSG3857,\n",
       "                    zoom: 14,\n",
       "                    zoomControl: true,\n",
       "                    preferCanvas: false,\n",
       "                }\n",
       "            );\n",
       "            L.control.scale().addTo(map_3c085ec3a2c20456722351f2c109eced);\n",
       "\n",
       "            \n",
       "\n",
       "        \n",
       "    \n",
       "            var tile_layer_5d616b17ebbeb9c9a99bfc04c6e34ad4 = L.tileLayer(\n",
       "                &quot;https://cartodb-basemaps-{s}.global.ssl.fastly.net/light_all/{z}/{x}/{y}.png&quot;,\n",
       "                {&quot;attribution&quot;: &quot;\\u0026copy; \\u003ca href=\\&quot;http://www.openstreetmap.org/copyright\\&quot;\\u003eOpenStreetMap\\u003c/a\\u003e contributors \\u0026copy; \\u003ca href=\\&quot;http://cartodb.com/attributions\\&quot;\\u003eCartoDB\\u003c/a\\u003e, CartoDB \\u003ca href =\\&quot;http://cartodb.com/attributions\\&quot;\\u003eattributions\\u003c/a\\u003e&quot;, &quot;detectRetina&quot;: false, &quot;maxNativeZoom&quot;: 18, &quot;maxZoom&quot;: 18, &quot;minZoom&quot;: 0, &quot;noWrap&quot;: false, &quot;opacity&quot;: 1, &quot;subdomains&quot;: &quot;abc&quot;, &quot;tms&quot;: false}\n",
       "            ).addTo(map_3c085ec3a2c20456722351f2c109eced);\n",
       "        \n",
       "    \n",
       "        function geo_json_ca4a741e59c7ae2a02e3c359f2897b5f_styler(feature) {\n",
       "            switch(feature.id) {\n",
       "                default:\n",
       "                    return {&quot;color&quot;: &quot;#146679&quot;, &quot;fillColor&quot;: &quot;#146679&quot;, &quot;fillOpacity&quot;: 0.25, &quot;opacity&quot;: 0.5, &quot;weight&quot;: 1};\n",
       "            }\n",
       "        }\n",
       "\n",
       "        function geo_json_ca4a741e59c7ae2a02e3c359f2897b5f_onEachFeature(feature, layer) {\n",
       "            layer.on({\n",
       "            });\n",
       "        };\n",
       "        var geo_json_ca4a741e59c7ae2a02e3c359f2897b5f = L.geoJson(null, {\n",
       "                onEachFeature: geo_json_ca4a741e59c7ae2a02e3c359f2897b5f_onEachFeature,\n",
       "            \n",
       "                style: geo_json_ca4a741e59c7ae2a02e3c359f2897b5f_styler,\n",
       "        });\n",
       "\n",
       "        function geo_json_ca4a741e59c7ae2a02e3c359f2897b5f_add (data) {\n",
       "            geo_json_ca4a741e59c7ae2a02e3c359f2897b5f\n",
       "                .addData(data)\n",
       "                .addTo(map_3c085ec3a2c20456722351f2c109eced);\n",
       "        }\n",
       "            geo_json_ca4a741e59c7ae2a02e3c359f2897b5f_add({&quot;features&quot;: [{&quot;geometry&quot;: {&quot;coordinates&quot;: [[[9.848238699582716, 44.11496629667252], [9.848224253762732, 44.11467224525153], [9.848181055423925, 44.11438102570647], [9.848109520589912, 44.11409544264076], [9.848010338180249, 44.11381824637542], [9.847884463375761, 44.113552106462045], [9.847733108419623, 44.113299585973465], [9.847557730942803, 44.11306311682003], [9.847360019926276, 44.11284497632896], [9.847141879435206, 44.11264726531243], [9.846905410281774, 44.11247188783561], [9.846652889793193, 44.11232053287947], [9.84638674987981, 44.11219465807498], [9.846109553614479, 44.11209547566532], [9.845823970548764, 44.112023940831314], [9.845532751003704, 44.111980742492506], [9.845238699582715, 44.11196629667252], [9.844944648161727, 44.111980742492506], [9.844653428616667, 44.112023940831314], [9.844367845550952, 44.11209547566532], [9.84409064928562, 44.11219465807498], [9.843824509372238, 44.11232053287947], [9.843571988883657, 44.11247188783561], [9.843335519730225, 44.11264726531243], [9.843117379239155, 44.11284497632896], [9.842919668222628, 44.11306311682003], [9.842744290745808, 44.113299585973465], [9.84259293578967, 44.113552106462045], [9.842467060985182, 44.11381824637542], [9.84236787857552, 44.11409544264076], [9.842296343741506, 44.11438102570647], [9.8422531454027, 44.11467224525153], [9.842238699582715, 44.11496629667252], [9.8422531454027, 44.11526034809351], [9.842296343741506, 44.11555156763857], [9.84236787857552, 44.11583715070428], [9.842467060985182, 44.11611434696962], [9.84259293578967, 44.116380486882996], [9.842744290745808, 44.116633007371576], [9.842919668222628, 44.11686947652501], [9.843117379239155, 44.11708761701608], [9.843335519730225, 44.11728532803261], [9.843571988883657, 44.11746070550943], [9.843824509372238, 44.11761206046557], [9.84409064928562, 44.11773793527006], [9.844367845550952, 44.11783711767972], [9.844653428616667, 44.11790865251373], [9.844944648161727, 44.117951850852535], [9.845238699582715, 44.11796629667252], [9.845532751003704, 44.117951850852535], [9.845823970548764, 44.11790865251373], [9.846109553614479, 44.11783711767972], [9.84638674987981, 44.11773793527006], [9.846652889793193, 44.11761206046557], [9.846905410281774, 44.11746070550943], [9.847141879435206, 44.11728532803261], [9.847360019926276, 44.11708761701608], [9.847557730942803, 44.11686947652501], [9.847733108419623, 44.116633007371576], [9.847884463375761, 44.116380486882996], [9.848010338180249, 44.11611434696962], [9.848109520589912, 44.11583715070428], [9.848181055423925, 44.11555156763857], [9.848224253762732, 44.11526034809351], [9.848238699582716, 44.11496629667252]]], &quot;type&quot;: &quot;Polygon&quot;}, &quot;id&quot;: &quot;0&quot;, &quot;type&quot;: &quot;Feature&quot;}], &quot;type&quot;: &quot;FeatureCollection&quot;});\n",
       "\n",
       "        \n",
       "    \n",
       "        function geo_json_e11a4b3876b88357519f5e211e8a5631_styler(feature) {\n",
       "            switch(feature.id) {\n",
       "                default:\n",
       "                    return {&quot;color&quot;: &quot;#D2D64A&quot;, &quot;fillColor&quot;: &quot;#D2D64A&quot;, &quot;fillOpacity&quot;: 0.25, &quot;opacity&quot;: 0.5, &quot;weight&quot;: 1};\n",
       "            }\n",
       "        }\n",
       "\n",
       "        function geo_json_e11a4b3876b88357519f5e211e8a5631_onEachFeature(feature, layer) {\n",
       "            layer.on({\n",
       "            });\n",
       "        };\n",
       "        var geo_json_e11a4b3876b88357519f5e211e8a5631 = L.geoJson(null, {\n",
       "                onEachFeature: geo_json_e11a4b3876b88357519f5e211e8a5631_onEachFeature,\n",
       "            \n",
       "                style: geo_json_e11a4b3876b88357519f5e211e8a5631_styler,\n",
       "        });\n",
       "\n",
       "        function geo_json_e11a4b3876b88357519f5e211e8a5631_add (data) {\n",
       "            geo_json_e11a4b3876b88357519f5e211e8a5631\n",
       "                .addData(data)\n",
       "                .addTo(map_3c085ec3a2c20456722351f2c109eced);\n",
       "        }\n",
       "            geo_json_e11a4b3876b88357519f5e211e8a5631_add({&quot;features&quot;: [{&quot;geometry&quot;: {&quot;coordinates&quot;: [[[9.806550807347826, 44.11795371059372], [9.806536361527842, 44.11765965917273], [9.806493163189035, 44.11736843962767], [9.806421628355022, 44.11708285656196], [9.806322445945359, 44.11680566029662], [9.806196571140871, 44.11653952038324], [9.806045216184733, 44.11628699989466], [9.805869838707913, 44.11605053074123], [9.805672127691386, 44.115832390250155], [9.805453987200316, 44.11563467923363], [9.805217518046884, 44.11545930175681], [9.804964997558303, 44.11530794680067], [9.80469885764492, 44.11518207199618], [9.804421661379589, 44.11508288958652], [9.804136078313874, 44.11501135475251], [9.803844858768814, 44.1149681564137], [9.803550807347825, 44.11495371059372], [9.803256755926837, 44.1149681564137], [9.802965536381777, 44.11501135475251], [9.802679953316062, 44.11508288958652], [9.80240275705073, 44.11518207199618], [9.802136617137348, 44.11530794680067], [9.801884096648767, 44.11545930175681], [9.801647627495335, 44.11563467923363], [9.801429487004265, 44.115832390250155], [9.801231775987738, 44.11605053074123], [9.801056398510918, 44.11628699989466], [9.80090504355478, 44.11653952038324], [9.800779168750292, 44.11680566029662], [9.80067998634063, 44.11708285656196], [9.800608451506616, 44.11736843962767], [9.80056525316781, 44.11765965917273], [9.800550807347825, 44.11795371059372], [9.80056525316781, 44.118247762014704], [9.800608451506616, 44.118538981559766], [9.80067998634063, 44.11882456462548], [9.800779168750292, 44.119101760890814], [9.80090504355478, 44.11936790080419], [9.801056398510918, 44.11962042129277], [9.801231775987738, 44.11985689044621], [9.801429487004265, 44.12007503093728], [9.801647627495335, 44.120272741953805], [9.801884096648767, 44.12044811943063], [9.802136617137348, 44.120599474386765], [9.80240275705073, 44.120725349191254], [9.802679953316062, 44.12082453160092], [9.802965536381777, 44.12089606643492], [9.803256755926837, 44.12093926477373], [9.803550807347825, 44.12095371059372], [9.803844858768814, 44.12093926477373], [9.804136078313874, 44.12089606643492], [9.804421661379589, 44.12082453160092], [9.80469885764492, 44.120725349191254], [9.804964997558303, 44.120599474386765], [9.805217518046884, 44.12044811943063], [9.805453987200316, 44.120272741953805], [9.805672127691386, 44.12007503093728], [9.805869838707913, 44.11985689044621], [9.806045216184733, 44.11962042129277], [9.806196571140871, 44.11936790080419], [9.806322445945359, 44.119101760890814], [9.806421628355022, 44.11882456462548], [9.806493163189035, 44.118538981559766], [9.806536361527842, 44.118247762014704], [9.806550807347826, 44.11795371059372]]], &quot;type&quot;: &quot;Polygon&quot;}, &quot;id&quot;: &quot;0&quot;, &quot;type&quot;: &quot;Feature&quot;}], &quot;type&quot;: &quot;FeatureCollection&quot;});\n",
       "\n",
       "        \n",
       "    \n",
       "            var marker_df8da907359f2c3af49ca77f6fa73276 = L.marker(\n",
       "                [44.11496629667252, 9.845238699582715],\n",
       "                {}\n",
       "            ).addTo(map_3c085ec3a2c20456722351f2c109eced);\n",
       "        \n",
       "    \n",
       "            var icon_b74ad8d88bc05b18ff14e14aec055d75 = L.AwesomeMarkers.icon(\n",
       "                {&quot;extraClasses&quot;: &quot;fa-rotate-0&quot;, &quot;icon&quot;: &quot;info-sign&quot;, &quot;iconColor&quot;: &quot;white&quot;, &quot;markerColor&quot;: &quot;green&quot;, &quot;prefix&quot;: &quot;glyphicon&quot;}\n",
       "            );\n",
       "            marker_df8da907359f2c3af49ca77f6fa73276.setIcon(icon_b74ad8d88bc05b18ff14e14aec055d75);\n",
       "        \n",
       "    \n",
       "        var popup_698091c0dbea8557f4cb7adbf538d983 = L.popup({&quot;maxWidth&quot;: &quot;100%&quot;});\n",
       "\n",
       "        \n",
       "            var html_ecad533d360e13b7aad5fc4635c6681e = $(`&lt;div id=&quot;html_ecad533d360e13b7aad5fc4635c6681e&quot; style=&quot;width: 100.0%; height: 100.0%;&quot;&gt;Origin: SUMO coords: (6102.18, 5022.94)  GPS coords (lon, lat): (9.845, 44.115)  Via del Canaletto&lt;/div&gt;`)[0];\n",
       "            popup_698091c0dbea8557f4cb7adbf538d983.setContent(html_ecad533d360e13b7aad5fc4635c6681e);\n",
       "        \n",
       "\n",
       "        marker_df8da907359f2c3af49ca77f6fa73276.bindPopup(popup_698091c0dbea8557f4cb7adbf538d983)\n",
       "        ;\n",
       "\n",
       "        \n",
       "    \n",
       "    \n",
       "            var marker_4076e14b7207366f989cf07cbd3b988c = L.marker(\n",
       "                [44.11795371059372, 9.803550807347825],\n",
       "                {}\n",
       "            ).addTo(map_3c085ec3a2c20456722351f2c109eced);\n",
       "        \n",
       "    \n",
       "            var icon_dd0cd2a327b38a85ad8bbc97dfebfcdc = L.AwesomeMarkers.icon(\n",
       "                {&quot;extraClasses&quot;: &quot;fa-rotate-0&quot;, &quot;icon&quot;: &quot;info-sign&quot;, &quot;iconColor&quot;: &quot;white&quot;, &quot;markerColor&quot;: &quot;red&quot;, &quot;prefix&quot;: &quot;glyphicon&quot;}\n",
       "            );\n",
       "            marker_4076e14b7207366f989cf07cbd3b988c.setIcon(icon_dd0cd2a327b38a85ad8bbc97dfebfcdc);\n",
       "        \n",
       "    \n",
       "        var popup_f99a9399d43ece288481340cb8fb8bb0 = L.popup({&quot;maxWidth&quot;: &quot;100%&quot;});\n",
       "\n",
       "        \n",
       "            var html_bc73dd76e4a677eb12191ddb8f6866dd = $(`&lt;div id=&quot;html_bc73dd76e4a677eb12191ddb8f6866dd&quot; style=&quot;width: 100.0%; height: 100.0%;&quot;&gt;Destination: SUMO coords: (2763.1, 5321.34)  GPS coords (lon,lat): (9.804, 44.118)  Via Genova&lt;/div&gt;`)[0];\n",
       "            popup_f99a9399d43ece288481340cb8fb8bb0.setContent(html_bc73dd76e4a677eb12191ddb8f6866dd);\n",
       "        \n",
       "\n",
       "        marker_4076e14b7207366f989cf07cbd3b988c.bindPopup(popup_f99a9399d43ece288481340cb8fb8bb0)\n",
       "        ;\n",
       "\n",
       "        \n",
       "    \n",
       "    \n",
       "        function geo_json_75cc1ec93413e125eb5d5f4ec473ef2e_styler(feature) {\n",
       "            switch(feature.id) {\n",
       "                default:\n",
       "                    return {&quot;color&quot;: &quot;#68023F&quot;, &quot;dashArray&quot;: &quot;0, 0&quot;, &quot;opacity&quot;: 0.75, &quot;weight&quot;: 2};\n",
       "            }\n",
       "        }\n",
       "\n",
       "        function geo_json_75cc1ec93413e125eb5d5f4ec473ef2e_onEachFeature(feature, layer) {\n",
       "            layer.on({\n",
       "            });\n",
       "        };\n",
       "        var geo_json_75cc1ec93413e125eb5d5f4ec473ef2e = L.geoJson(null, {\n",
       "                onEachFeature: geo_json_75cc1ec93413e125eb5d5f4ec473ef2e_onEachFeature,\n",
       "            \n",
       "                style: geo_json_75cc1ec93413e125eb5d5f4ec473ef2e_styler,\n",
       "        });\n",
       "\n",
       "        function geo_json_75cc1ec93413e125eb5d5f4ec473ef2e_add (data) {\n",
       "            geo_json_75cc1ec93413e125eb5d5f4ec473ef2e\n",
       "                .addData(data)\n",
       "                .addTo(map_3c085ec3a2c20456722351f2c109eced);\n",
       "        }\n",
       "            geo_json_75cc1ec93413e125eb5d5f4ec473ef2e_add({&quot;features&quot;: [{&quot;geometry&quot;: {&quot;coordinates&quot;: [[9.845239, 44.114966], [9.844885, 44.114285], [9.844053, 44.114269], [9.843326, 44.114264], [9.842353, 44.114247], [9.841513, 44.114231], [9.841536, 44.113598], [9.840756, 44.113621], [9.839705, 44.113608], [9.838322, 44.114097], [9.838227, 44.114018], [9.837565, 44.113425], [9.837126, 44.113097], [9.83704, 44.113026], [9.836465, 44.112555], [9.835392, 44.111677], [9.834538, 44.110977], [9.83405, 44.110578], [9.833991, 44.110613], [9.833435, 44.110952], [9.832747, 44.111391], [9.832708, 44.111416], [9.832453, 44.111578], [9.83158, 44.110858], [9.831177, 44.110526], [9.830808, 44.110758], [9.829709, 44.110593], [9.829547, 44.110559], [9.829325, 44.110513], [9.828964, 44.110431], [9.827763, 44.110183], [9.82743, 44.110185], [9.826274, 44.110499], [9.826034, 44.110613], [9.825962, 44.110517], [9.824758, 44.110232], [9.824527, 44.11019], [9.818147, 44.109134], [9.817995, 44.109098], [9.81755, 44.109356], [9.817008, 44.109649], [9.816271, 44.110066], [9.815937, 44.110071], [9.815825, 44.110069], [9.815761, 44.109964], [9.814457, 44.110466], [9.814354, 44.110515], [9.814245, 44.110566], [9.812811, 44.11116], [9.811069, 44.111999], [9.810855, 44.112494], [9.810645, 44.112796], [9.810181, 44.113399], [9.809776, 44.113918], [9.809184, 44.11442], [9.808939, 44.114533], [9.808331, 44.115059], [9.808124, 44.115274], [9.808189, 44.115508], [9.808202, 44.115946], [9.807859, 44.115832], [9.807625, 44.115998], [9.807002, 44.11681], [9.806866, 44.116739], [9.806576, 44.11663], [9.806318, 44.11675], [9.806024, 44.116855], [9.805636, 44.116997], [9.804249, 44.11751], [9.803706, 44.117838], [9.803551, 44.117954]], &quot;type&quot;: &quot;LineString&quot;}, &quot;id&quot;: &quot;0&quot;, &quot;type&quot;: &quot;Feature&quot;}], &quot;type&quot;: &quot;FeatureCollection&quot;});\n",
       "\n",
       "        \n",
       "    \n",
       "            var marker_7bb2d7842e599ecccaec2565ceb5e78f = L.marker(\n",
       "                [44.11496629667252, 9.845238699582715],\n",
       "                {}\n",
       "            ).addTo(map_3c085ec3a2c20456722351f2c109eced);\n",
       "        \n",
       "    \n",
       "            var icon_1554bad82b0953fd11fb68695cb4a1a4 = L.AwesomeMarkers.icon(\n",
       "                {&quot;extraClasses&quot;: &quot;fa-rotate-0&quot;, &quot;icon&quot;: &quot;info-sign&quot;, &quot;iconColor&quot;: &quot;white&quot;, &quot;markerColor&quot;: &quot;green&quot;, &quot;prefix&quot;: &quot;glyphicon&quot;}\n",
       "            );\n",
       "            marker_7bb2d7842e599ecccaec2565ceb5e78f.setIcon(icon_1554bad82b0953fd11fb68695cb4a1a4);\n",
       "        \n",
       "    \n",
       "        var popup_3e5ee60d50e55e66dafd44f8bb731ee4 = L.popup({&quot;maxWidth&quot;: 300});\n",
       "\n",
       "        \n",
       "            var html_948c33274c2dc92ce6d24f44b352f53b = $(`&lt;div id=&quot;html_948c33274c2dc92ce6d24f44b352f53b&quot; style=&quot;width: 100.0%; height: 100.0%;&quot;&gt;&lt;i&gt;Start&lt;/i&gt;&lt;BR&gt;2022/11/22 00:00&lt;BR&gt;Coord: &lt;a href=&quot;https://www.google.co.uk/maps/place/44.11496629667252,9.845238699582715&quot; target=&quot;_blank&quot;&gt;44.115, 9.8452&lt;/a&gt;&lt;/div&gt;`)[0];\n",
       "            popup_3e5ee60d50e55e66dafd44f8bb731ee4.setContent(html_948c33274c2dc92ce6d24f44b352f53b);\n",
       "        \n",
       "\n",
       "        marker_7bb2d7842e599ecccaec2565ceb5e78f.bindPopup(popup_3e5ee60d50e55e66dafd44f8bb731ee4)\n",
       "        ;\n",
       "\n",
       "        \n",
       "    \n",
       "    \n",
       "            var marker_8d675fab9d98f4ed823d56259216a479 = L.marker(\n",
       "                [44.11795371059372, 9.803550807347825],\n",
       "                {}\n",
       "            ).addTo(map_3c085ec3a2c20456722351f2c109eced);\n",
       "        \n",
       "    \n",
       "            var icon_4ea43560f49dd7a9026b9d6903091fa9 = L.AwesomeMarkers.icon(\n",
       "                {&quot;extraClasses&quot;: &quot;fa-rotate-0&quot;, &quot;icon&quot;: &quot;info-sign&quot;, &quot;iconColor&quot;: &quot;white&quot;, &quot;markerColor&quot;: &quot;red&quot;, &quot;prefix&quot;: &quot;glyphicon&quot;}\n",
       "            );\n",
       "            marker_8d675fab9d98f4ed823d56259216a479.setIcon(icon_4ea43560f49dd7a9026b9d6903091fa9);\n",
       "        \n",
       "    \n",
       "        var popup_2d6d87e0cc18d38d26cc367e9d9fffe7 = L.popup({&quot;maxWidth&quot;: 300});\n",
       "\n",
       "        \n",
       "            var html_36bfe6deb146aae3e3c3809b40ac2edf = $(`&lt;div id=&quot;html_36bfe6deb146aae3e3c3809b40ac2edf&quot; style=&quot;width: 100.0%; height: 100.0%;&quot;&gt;&lt;i&gt;End&lt;/i&gt;&lt;BR&gt;2022/11/24 22:00&lt;BR&gt;Coord: &lt;a href=&quot;https://www.google.co.uk/maps/place/44.11795371059372,9.803550807347825&quot; target=&quot;_blank&quot;&gt;44.118, 9.8036&lt;/a&gt;&lt;/div&gt;`)[0];\n",
       "            popup_2d6d87e0cc18d38d26cc367e9d9fffe7.setContent(html_36bfe6deb146aae3e3c3809b40ac2edf);\n",
       "        \n",
       "\n",
       "        marker_8d675fab9d98f4ed823d56259216a479.bindPopup(popup_2d6d87e0cc18d38d26cc367e9d9fffe7)\n",
       "        ;\n",
       "\n",
       "        \n",
       "    \n",
       "&lt;/script&gt;\n",
       "&lt;/html&gt;\" style=\"position:absolute;width:100%;height:100%;left:0;top:0;border:none !important;\" allowfullscreen webkitallowfullscreen mozallowfullscreen></iframe></div></div>"
      ],
      "text/plain": [
       "<folium.folium.Map at 0x7f7c74ea57d0>"
      ]
     },
     "execution_count": 10,
     "metadata": {},
     "output_type": "execute_result"
    }
   ],
   "source": [
    "shortest_path_df = pd.DataFrame(edge_data, columns = ['user', 'datetime', 'lng', 'lat'])\n",
    "tdf = TrajDataFrame(shortest_path_df)\n",
    "tdf.plot_trajectory(map_f = map_f, max_users = 1, max_points = None)"
   ]
  },
  {
   "cell_type": "markdown",
   "metadata": {
    "id": "u7LVW50aaulk"
   },
   "source": [
    "# Creating a Traffic Demand"
   ]
  },
  {
   "cell_type": "code",
   "execution_count": 11,
   "metadata": {
    "id": "h4iNcLFobART"
   },
   "outputs": [],
   "source": [
    "#setting the function for calling a random integer uniformly between 0 and 600\n",
    "random_dep_time = lambda : int(np.random.uniform(0, 600) // 1)"
   ]
  },
  {
   "cell_type": "markdown",
   "metadata": {
    "id": "d_tlxj2aibqO"
   },
   "source": [
    "I used the flow so that witht he flow trick I will be assured of the connection between the edges I listed"
   ]
  },
  {
   "cell_type": "code",
   "execution_count": 12,
   "metadata": {
    "id": "ubsr6MG4Y6em"
   },
   "outputs": [],
   "source": [
    "#creating the traffic demand and storing the text into a variable\n",
    "demand_path = 'traffic_demand.xml'\n",
    "xml_saved = write_traffic_demand(('flow', 1000, [o.getID(), d.getID()], random_dep_time), demand_path)"
   ]
  },
  {
   "cell_type": "code",
   "execution_count": 13,
   "metadata": {
    "colab": {
     "base_uri": "https://localhost:8080/"
    },
    "id": "Umr08vYleXmg",
    "outputId": "b4053932-4a74-4a56-8e9d-43ee1739e51c"
   },
   "outputs": [
    {
     "name": "stdout",
     "output_type": "stream",
     "text": [
      "<?xml version=\"1.0\" encoding=\"UTF-8\"?>\n",
      "<routes xmlns:xsi=\"http://www.w3.org/2001/XMLSchema-instance\" xsi:noNamespaceSchemaLocation=\"http://sumo.dlr.de/xsd/routes_file.xsd\">\n",
      "\t<vType id=\"type1\" accel=\"0.8\" decel=\"4.5\" sigma=\"0.5\" length=\"5\" maxSpeed=\"70\"/>\n",
      "\t<!-- FLOWS -->\n",
      "\t\n",
      "\t<flow id=\"814\" begin=\"2\" end=\"1000\" number=\"1\" from=\"-282484252#0\" to=\"37011399#3\" type=\"type1\" color=\"orange\"></flow>\n",
      "\t<flow id=\"65\" begin=\"3\" end=\"1000\" number=\"1\" from=\"-282484252#0\" to=\"37011399#3\" type=\"type1\" color=\"blue\"></flow>\n",
      "\t<flow id=\"201\" begin=\"3\" end=\"1000\" number=\"1\" from=\"-282484252#0\" to=\"37011399#3\" type=\"type1\" color=\"blue\"></flow>\n",
      "\t<flow id=\"121\" begin=\"4\" end=\"1000\" number=\"1\" from=\"-282484252#0\" to=\"37011399#3\" type=\"type1\" color=\"blue\"></flow>\n",
      "\t<flow id=\"198\" begin=\"5\" end=\"1000\" number=\"1\" from=\"-282484252#0\" to=\"37011399#3\" type=\"type1\" color=\"orange\"></flow>\n",
      "\t<flow id=\"400\" begin=\"6\" end=\"1000\" number=\"1\" from=\"-282484252#0\" to=\"37011399#3\" type=\"type1\" color=\"red\"></flow>\n",
      "\t<flow id=\"449\" begin=\"6\" end=\"1000\" number=\"1\" from=\"-282484252#0\" to=\"37011399#3\" type=\"type1\" color=\"blue\"></flow>\n",
      "\t<flow id=\"938\" begin=\"6\" end=\"1000\" number=\"1\" from=\"-282484252#0\" to=\"37011399#3\" type=\"type1\" color=\"orange\"></flow>\n",
      "\t<flow id=\"463\" begin=\"7\" end=\"1000\" number=\"1\" from=\"-282484252#0\" to=\"37011399#3\" type=\"type1\" color=\"yellow\"></flow>\n",
      "\t<flow id=\"833\" begin=\"7\" end=\"1000\" number=\"1\" from=\"-282484252#0\" to=\"37011399#3\" type=\"type1\" color=\"blue\"></flow>\n"
     ]
    }
   ],
   "source": [
    "# printing the first 15 rows of the file\n",
    "print('\\n'.join(xml_saved.split('\\n')[:15]))"
   ]
  },
  {
   "cell_type": "markdown",
   "metadata": {
    "id": "mnVaE-78jNQ0"
   },
   "source": [
    "# Creating perturbations with Duarouter"
   ]
  },
  {
   "cell_type": "code",
   "execution_count": 14,
   "metadata": {
    "colab": {
     "base_uri": "https://localhost:8080/"
    },
    "id": "BEC7C7tQs0Qz",
    "outputId": "0dfe5ca6-ec71-436d-e1bf-5767ed3e51bf"
   },
   "outputs": [
    {
     "name": "stdout",
     "output_type": "stream",
     "text": [
      "sumo: /usr/bin/sumo /usr/share/sumo /usr/share/man/man1/sumo.1.gz\n"
     ]
    }
   ],
   "source": [
    "#checking where is the sumo folder (for linux only)\n",
    "!whereis sumo"
   ]
  },
  {
   "cell_type": "code",
   "execution_count": 15,
   "metadata": {
    "colab": {
     "base_uri": "https://localhost:8080/"
    },
    "id": "xRwS5mmMuDjA",
    "outputId": "9b3ac8b1-1b9c-4128-cbc3-1256a07e1508"
   },
   "outputs": [
    {
     "name": "stdout",
     "output_type": "stream",
     "text": [
      "env: SUMO_HOME=/usr/share/sumo\n"
     ]
    }
   ],
   "source": [
    "#setting the environment variable for linux (do not run on windows)\n",
    "%env SUMO_HOME=/usr/share/sumo"
   ]
  },
  {
   "cell_type": "markdown",
   "metadata": {
    "id": "ANMKdzSWyHDT"
   },
   "source": [
    "### Writing the traci instantiation\n",
    "I wrote on a file so that I could reuse it later"
   ]
  },
  {
   "cell_type": "code",
   "execution_count": 16,
   "metadata": {
    "colab": {
     "base_uri": "https://localhost:8080/"
    },
    "id": "zNVrzjcLw2zT",
    "outputId": "9838a1b1-c263-45c0-b7e9-240a33463008"
   },
   "outputs": [
    {
     "name": "stdout",
     "output_type": "stream",
     "text": [
      "Writing utils.py\n"
     ]
    }
   ],
   "source": [
    "%%file utils.py \n",
    "import traci\n",
    "import sys\n",
    "import os\n",
    "\n",
    "# function to initialize traci\n",
    "\n",
    "def init_traci(config_file_path):\n",
    "    \n",
    "    if 'SUMO_HOME' in os.environ:\n",
    "        tools = os.path.join(os.environ['SUMO_HOME'], 'tools')\n",
    "        sys.path.append(tools)\n",
    "    else:\n",
    "        sys.exit(\"please declare environment variable 'SUMO_HOME'\")\n",
    "\n",
    "    #Configuration\n",
    "    sumo_binary = os.environ['SUMO_HOME']+\"/bin/sumo\"\n",
    "\n",
    "    sumo_cmd = [sumo_binary, \"-c\", config_file_path]\n",
    "\n",
    "    traci.start(sumo_cmd)\n",
    "    traci.simulationStep()"
   ]
  },
  {
   "cell_type": "markdown",
   "metadata": {
    "id": "gmknE367q68k"
   },
   "source": [
    "# Writing the config file"
   ]
  },
  {
   "cell_type": "code",
   "execution_count": 17,
   "metadata": {
    "id": "BMrQaskUxttp"
   },
   "outputs": [],
   "source": [
    "#how to save the future demand file\n",
    "perturbed_path = 'traffic_demand_duarouter.rou.xml'\n",
    "\n",
    "#I downloaded a simple file config and edited it here\n",
    "sumo_config = f\"\"\"<?xml version=\"1.0\" encoding=\"UTF-8\"?>\n",
    "\n",
    "<!-- generated on 2022-11-22 11:35:19 by Eclipse SUMO sumo Version 1.15.0\n",
    "-->\n",
    "\n",
    "<configuration xmlns:xsi=\"http://www.w3.org/2001/XMLSchema-instance\" xsi:noNamespaceSchemaLocation=\"http://sumo.dlr.de/xsd/sumoConfiguration.xsd\">\n",
    "\n",
    "    <input>\n",
    "        <net-file value=\"{net_path}\"/>\n",
    "        <route-files value=\"{perturbed_path}\"/>\n",
    "    </input>\n",
    "\n",
    "    <processing>\n",
    "        <ignore-route-errors value=\"true\"/>\n",
    "    </processing>\n",
    "\n",
    "    <routing>\n",
    "        <device.rerouting.adaptation-steps value=\"18\"/>\n",
    "        <device.rerouting.adaptation-interval value=\"10\"/>\n",
    "    </routing>\n",
    "\n",
    "    <report>\n",
    "        <verbose value=\"true\"/>\n",
    "        <duration-log.statistics value=\"true\"/>\n",
    "        <no-step-log value=\"true\"/>\n",
    "    </report>\n",
    "\n",
    "    <gui_only>\n",
    "        <gui-settings-file value=\"osm.view.xml\"/>\n",
    "    </gui_only>\n",
    "\n",
    "</configuration>\"\"\"\n",
    "\n",
    "#saving the configuration\n",
    "config_path = 'osm.sumocfg'\n",
    "with open(config_path, 'w') as f:\n",
    "    f.write(sumo_config)\n",
    "\n",
    "#saving the view file as set in the config file\n",
    "with open('osm.view.xml', 'w') as f:\n",
    "    f.write(\"\"\"<viewsettings>\n",
    "    <scheme name=\"real world\"/>\n",
    "    <delay value=\"200\"/>\n",
    "</viewsettings>\n",
    "\"\"\")"
   ]
  },
  {
   "cell_type": "markdown",
   "metadata": {
    "id": "eyvzuQAlyMfC"
   },
   "source": [
    "# Writing Functions to work with Duarouter"
   ]
  },
  {
   "cell_type": "code",
   "execution_count": 18,
   "metadata": {
    "id": "8nd_dwvviv-W"
   },
   "outputs": [],
   "source": [
    "# import the traci library\n",
    "import traci\n",
    "from utils import init_traci\n",
    "import subprocess\n",
    "\n",
    "# prepare the command string for duarouter\n",
    "command_str = f\"duarouter --route-files {demand_path}\" + \\\n",
    "              f\" --net-file {net_path}\" + \\\n",
    "              f\" --output-file {perturbed_path}\" + \\\n",
    "              \" --weights.random-factor {w}\"\n",
    "\n",
    "# setting the function with weight 1 if not otherwise specified\n",
    "def run_duarouter(w = 1):\n",
    "    p = subprocess.Popen(command_str.format(w=w), shell=True, \n",
    "                        stdout=subprocess.PIPE,\n",
    "                        stderr=subprocess.STDOUT)\n",
    "\n",
    "    retval = p.wait()"
   ]
  },
  {
   "cell_type": "code",
   "execution_count": 19,
   "metadata": {
    "id": "px3j6wmEyR3C"
   },
   "outputs": [],
   "source": [
    "def traci_dist_co2(n_steps):\n",
    "\n",
    "    init_traci(f\"./{config_path}\")\n",
    "\n",
    "    distance_list = list()\n",
    "    co2_list = list()\n",
    "\n",
    "    # simulate each step\n",
    "    for step in range(n_steps):\n",
    "        \n",
    "        try:\n",
    "            # perform a simulation step\n",
    "            traci.simulationStep()\n",
    "        except:\n",
    "            traci.close()\n",
    "        \n",
    "        # get the list of active vehicles (vehicles inserted in the simulation)\n",
    "        vehicle_list = traci.vehicle.getIDList()\n",
    "\n",
    "        # value retrieval\n",
    "        for v_id in vehicle_list:\n",
    "            # get travelled distance\n",
    "            distance = traci.vehicle.getDistance(v_id)\n",
    "            # CO2 emissions [mg/s] \n",
    "            co2_emissions = traci.vehicle.getCO2Emission(v_id)\n",
    "\n",
    "            distance_list.append(distance)\n",
    "            co2_list.append(co2_emissions)\n",
    "\n",
    "    # close TraCi when the total number of steps to simulate is reached\n",
    "    traci.close()\n",
    "\n",
    "    return distance_list, co2_list"
   ]
  },
  {
   "cell_type": "code",
   "execution_count": 20,
   "metadata": {
    "id": "wz_HUlrM6cqN"
   },
   "outputs": [],
   "source": [
    "# function to get the sum of different lists keeping them separate\n",
    "def compute_tot(*lists):\n",
    "    final_output = list()\n",
    "    for ls in lists:\n",
    "        final_output.append(sum(ls))\n",
    "    return tuple(final_output)"
   ]
  },
  {
   "cell_type": "markdown",
   "metadata": {
    "id": "oCkKHHxh1MZd"
   },
   "source": [
    "# Run duarouter and the analysis with Traci"
   ]
  },
  {
   "cell_type": "code",
   "execution_count": 21,
   "metadata": {
    "colab": {
     "base_uri": "https://localhost:8080/"
    },
    "id": "oX08d81_4iQm",
    "outputId": "e2d9a63e-aaad-46eb-9ace-2499eefff1e0"
   },
   "outputs": [
    {
     "name": "stdout",
     "output_type": "stream",
     "text": [
      " Retrying in 1 seconds\n",
      " Retrying in 1 seconds\n",
      " Retrying in 1 seconds\n",
      " Retrying in 1 seconds\n",
      " Retrying in 1 seconds\n"
     ]
    }
   ],
   "source": [
    "result_tot = list()\n",
    "\n",
    "w_list = [1, 5, 10, 15, 20]\n",
    "\n",
    "for w in w_list:\n",
    "    run_duarouter(w = w) # running duarouter\n",
    "    distance_list, co2_list = traci_dist_co2(2000) # running the simulation and getting the info\n",
    "    tot_dist, tot_co2 = compute_tot(distance_list, co2_list) #getting the totals\n",
    "    from_shortest = tot_dist-result_tot[0][1] if result_tot else 0 #getting the difference witht he shortest path\n",
    "    result_tot.append((w, tot_dist, from_shortest, tot_co2)) #adding everything to a list"
   ]
  },
  {
   "cell_type": "code",
   "execution_count": 22,
   "metadata": {
    "colab": {
     "base_uri": "https://localhost:8080/",
     "height": 206
    },
    "id": "dopfPzmavoxO",
    "outputId": "3fe26ef4-010c-4049-90be-d4438a83fd2d"
   },
   "outputs": [
    {
     "data": {
      "text/html": [
       "\n",
       "  <div id=\"df-af7fad74-8929-4f3c-9119-3368a074f21a\">\n",
       "    <div class=\"colab-df-container\">\n",
       "      <div>\n",
       "<style scoped>\n",
       "    .dataframe tbody tr th:only-of-type {\n",
       "        vertical-align: middle;\n",
       "    }\n",
       "\n",
       "    .dataframe tbody tr th {\n",
       "        vertical-align: top;\n",
       "    }\n",
       "\n",
       "    .dataframe thead th {\n",
       "        text-align: right;\n",
       "    }\n",
       "</style>\n",
       "<table border=\"1\" class=\"dataframe\">\n",
       "  <thead>\n",
       "    <tr style=\"text-align: right;\">\n",
       "      <th></th>\n",
       "      <th>w</th>\n",
       "      <th>dist</th>\n",
       "      <th>delta_from_shortest</th>\n",
       "      <th>co2</th>\n",
       "    </tr>\n",
       "  </thead>\n",
       "  <tbody>\n",
       "    <tr>\n",
       "      <th>0</th>\n",
       "      <td>1</td>\n",
       "      <td>3.143554e+08</td>\n",
       "      <td>0.000000e+00</td>\n",
       "      <td>4.068529e+08</td>\n",
       "    </tr>\n",
       "    <tr>\n",
       "      <th>1</th>\n",
       "      <td>5</td>\n",
       "      <td>3.175725e+08</td>\n",
       "      <td>3.217174e+06</td>\n",
       "      <td>4.211623e+08</td>\n",
       "    </tr>\n",
       "    <tr>\n",
       "      <th>2</th>\n",
       "      <td>10</td>\n",
       "      <td>3.389120e+08</td>\n",
       "      <td>2.455667e+07</td>\n",
       "      <td>4.414695e+08</td>\n",
       "    </tr>\n",
       "    <tr>\n",
       "      <th>3</th>\n",
       "      <td>15</td>\n",
       "      <td>3.403627e+08</td>\n",
       "      <td>2.600736e+07</td>\n",
       "      <td>4.411667e+08</td>\n",
       "    </tr>\n",
       "    <tr>\n",
       "      <th>4</th>\n",
       "      <td>20</td>\n",
       "      <td>3.832277e+08</td>\n",
       "      <td>6.887230e+07</td>\n",
       "      <td>4.772427e+08</td>\n",
       "    </tr>\n",
       "  </tbody>\n",
       "</table>\n",
       "</div>\n",
       "      <button class=\"colab-df-convert\" onclick=\"convertToInteractive('df-af7fad74-8929-4f3c-9119-3368a074f21a')\"\n",
       "              title=\"Convert this dataframe to an interactive table.\"\n",
       "              style=\"display:none;\">\n",
       "        \n",
       "  <svg xmlns=\"http://www.w3.org/2000/svg\" height=\"24px\"viewBox=\"0 0 24 24\"\n",
       "       width=\"24px\">\n",
       "    <path d=\"M0 0h24v24H0V0z\" fill=\"none\"/>\n",
       "    <path d=\"M18.56 5.44l.94 2.06.94-2.06 2.06-.94-2.06-.94-.94-2.06-.94 2.06-2.06.94zm-11 1L8.5 8.5l.94-2.06 2.06-.94-2.06-.94L8.5 2.5l-.94 2.06-2.06.94zm10 10l.94 2.06.94-2.06 2.06-.94-2.06-.94-.94-2.06-.94 2.06-2.06.94z\"/><path d=\"M17.41 7.96l-1.37-1.37c-.4-.4-.92-.59-1.43-.59-.52 0-1.04.2-1.43.59L10.3 9.45l-7.72 7.72c-.78.78-.78 2.05 0 2.83L4 21.41c.39.39.9.59 1.41.59.51 0 1.02-.2 1.41-.59l7.78-7.78 2.81-2.81c.8-.78.8-2.07 0-2.86zM5.41 20L4 18.59l7.72-7.72 1.47 1.35L5.41 20z\"/>\n",
       "  </svg>\n",
       "      </button>\n",
       "      \n",
       "  <style>\n",
       "    .colab-df-container {\n",
       "      display:flex;\n",
       "      flex-wrap:wrap;\n",
       "      gap: 12px;\n",
       "    }\n",
       "\n",
       "    .colab-df-convert {\n",
       "      background-color: #E8F0FE;\n",
       "      border: none;\n",
       "      border-radius: 50%;\n",
       "      cursor: pointer;\n",
       "      display: none;\n",
       "      fill: #1967D2;\n",
       "      height: 32px;\n",
       "      padding: 0 0 0 0;\n",
       "      width: 32px;\n",
       "    }\n",
       "\n",
       "    .colab-df-convert:hover {\n",
       "      background-color: #E2EBFA;\n",
       "      box-shadow: 0px 1px 2px rgba(60, 64, 67, 0.3), 0px 1px 3px 1px rgba(60, 64, 67, 0.15);\n",
       "      fill: #174EA6;\n",
       "    }\n",
       "\n",
       "    [theme=dark] .colab-df-convert {\n",
       "      background-color: #3B4455;\n",
       "      fill: #D2E3FC;\n",
       "    }\n",
       "\n",
       "    [theme=dark] .colab-df-convert:hover {\n",
       "      background-color: #434B5C;\n",
       "      box-shadow: 0px 1px 3px 1px rgba(0, 0, 0, 0.15);\n",
       "      filter: drop-shadow(0px 1px 2px rgba(0, 0, 0, 0.3));\n",
       "      fill: #FFFFFF;\n",
       "    }\n",
       "  </style>\n",
       "\n",
       "      <script>\n",
       "        const buttonEl =\n",
       "          document.querySelector('#df-af7fad74-8929-4f3c-9119-3368a074f21a button.colab-df-convert');\n",
       "        buttonEl.style.display =\n",
       "          google.colab.kernel.accessAllowed ? 'block' : 'none';\n",
       "\n",
       "        async function convertToInteractive(key) {\n",
       "          const element = document.querySelector('#df-af7fad74-8929-4f3c-9119-3368a074f21a');\n",
       "          const dataTable =\n",
       "            await google.colab.kernel.invokeFunction('convertToInteractive',\n",
       "                                                     [key], {});\n",
       "          if (!dataTable) return;\n",
       "\n",
       "          const docLinkHtml = 'Like what you see? Visit the ' +\n",
       "            '<a target=\"_blank\" href=https://colab.research.google.com/notebooks/data_table.ipynb>data table notebook</a>'\n",
       "            + ' to learn more about interactive tables.';\n",
       "          element.innerHTML = '';\n",
       "          dataTable['output_type'] = 'display_data';\n",
       "          await google.colab.output.renderOutput(dataTable, element);\n",
       "          const docLink = document.createElement('div');\n",
       "          docLink.innerHTML = docLinkHtml;\n",
       "          element.appendChild(docLink);\n",
       "        }\n",
       "      </script>\n",
       "    </div>\n",
       "  </div>\n",
       "  "
      ],
      "text/plain": [
       "    w          dist  delta_from_shortest           co2\n",
       "0   1  3.143554e+08         0.000000e+00  4.068529e+08\n",
       "1   5  3.175725e+08         3.217174e+06  4.211623e+08\n",
       "2  10  3.389120e+08         2.455667e+07  4.414695e+08\n",
       "3  15  3.403627e+08         2.600736e+07  4.411667e+08\n",
       "4  20  3.832277e+08         6.887230e+07  4.772427e+08"
      ]
     },
     "execution_count": 22,
     "metadata": {},
     "output_type": "execute_result"
    }
   ],
   "source": [
    "#showing the values stored into a dataframe\n",
    "tot_df = pd.DataFrame(result_tot, columns = ['w', 'dist', 'delta_from_shortest', 'co2'])\n",
    "tot_df"
   ]
  },
  {
   "cell_type": "markdown",
   "metadata": {
    "id": "OgOcXRt71T11"
   },
   "source": [
    "# Plotting the results"
   ]
  },
  {
   "cell_type": "code",
   "execution_count": 23,
   "metadata": {
    "colab": {
     "base_uri": "https://localhost:8080/",
     "height": 449
    },
    "id": "vL8jwgulv5wJ",
    "outputId": "855c31ac-fe06-4c33-ea7f-de1baa0dd261"
   },
   "outputs": [
    {
     "name": "stderr",
     "output_type": "stream",
     "text": [
      "WARNING:matplotlib.legend:No handles with labels found to put in legend.\n"
     ]
    },
    {
     "data": {
      "image/png": "[encoded data removed]",
      "text/plain": [
       "<Figure size 1728x1440 with 3 Axes>"
      ]
     },
     "metadata": {
      "needs_background": "light"
     },
     "output_type": "display_data"
    }
   ],
   "source": [
    "import matplotlib.pyplot as plt\n",
    "\n",
    "fig = plt.figure(figsize=(24, 20)) \n",
    "fig_dims = (3, 3)\n",
    "\n",
    "#plotting the change in absolute values in a bar plot\n",
    "ax = plt.subplot2grid(fig_dims, (0, 0))\n",
    "tot_df.plot(x='w', y=['dist', 'co2'], kind='bar', rot=0, stacked=False, ax = ax)\n",
    "ax.set_title('Change in absolute values', fontsize = 20)\n",
    "\n",
    "#plotting the change of tot distance\n",
    "ax2 = plt.subplot2grid(fig_dims, (0, 1))\n",
    "ax2.plot(w_list, tot_df['dist'], marker = 'o', linestyle = '--', color = 'C0')\n",
    "ax2.set_title('Absolute change of Total Distance', fontsize = 20)\n",
    "ax2.set_xticks(w_list)\n",
    "\n",
    "#plotting the change of tot co2\n",
    "ax3 = plt.subplot2grid(fig_dims, (0, 2))\n",
    "ax3.plot(w_list, tot_df['co2'], marker = 'o', linestyle = '--', color = 'C1')\n",
    "ax3.set_title('Absolute change of Total CO2', fontsize = 20)\n",
    "ax3.set_xticks(w_list)\n",
    "plt.legend()\n",
    "\n",
    "plt.suptitle('Change of Total Distance and Total CO2 with increasing $w$', fontsize = 20)\n",
    "\n",
    "fig.tight_layout(rect=[0, 0.25, 1, 0.95])"
   ]
  },
  {
   "cell_type": "code",
   "execution_count": 24,
   "metadata": {
    "colab": {
     "base_uri": "https://localhost:8080/"
    },
    "id": "Z-AVUO1rpf5h",
    "outputId": "48403571-cac4-4640-d6d9-9424f30c4699"
   },
   "outputs": [
    {
     "data": {
      "text/plain": [
       "[(1, 0.0),\n",
       " (5, 3217174.381939471),\n",
       " (10, 24556672.6967507),\n",
       " (15, 26007364.12483555),\n",
       " (20, 68872302.56375408)]"
      ]
     },
     "execution_count": 24,
     "metadata": {},
     "output_type": "execute_result"
    }
   ],
   "source": [
    "#difference distances from the shortest path for each distance at w\n",
    "list(zip(w_list, tot_df['delta_from_shortest'].values.tolist()))"
   ]
  },
  {
   "cell_type": "code",
   "execution_count": 25,
   "metadata": {
    "colab": {
     "base_uri": "https://localhost:8080/",
     "height": 286
    },
    "id": "JH6rSb41mg7-",
    "outputId": "d61190a4-7775-4637-f6b8-b45f38bfe19b"
   },
   "outputs": [
    {
     "data": {
      "image/png": "[encoded data removed]",
      "text/plain": [
       "<Figure size 432x288 with 1 Axes>"
      ]
     },
     "metadata": {
      "needs_background": "light"
     },
     "output_type": "display_data"
    }
   ],
   "source": [
    "from sklearn.preprocessing import MinMaxScaler\n",
    "\n",
    "# I just wanted to visualize the difference in the curves (which are positively correlated obviously)\n",
    "scaled_values = MinMaxScaler().fit_transform(tot_df[['dist', 'co2']])\n",
    "\n",
    "plt.plot(w_list, scaled_values[:,0], marker = 'o', linestyle = '--', color = 'C0', label = 'dist')\n",
    "plt.plot(w_list, scaled_values[:,1], marker = 'o', linestyle = '--', color = 'C1', label = 'co2')\n",
    "plt.title('Min-Max normalized change', fontsize = 20)\n",
    "plt.legend()\n",
    "plt.show()"
   ]
  },
  {
   "cell_type": "markdown",
   "metadata": {
    "id": "x2ixmg6wsmM1"
   },
   "source": [
    "# Conclusion\n",
    "With a higher perturbation of the trajectories we get on average higher values of total distances and co2 as expected"
   ]
  }
 ],
 "metadata": {
  "colab": {
   "provenance": []
  },
  "kernelspec": {
   "display_name": "Python 3 (ipykernel)",
   "language": "python",
   "name": "python3"
  },
  "language_info": {
   "codemirror_mode": {
    "name": "ipython",
    "version": 3
   },
   "file_extension": ".py",
   "mimetype": "text/x-python",
   "name": "python",
   "nbconvert_exporter": "python",
   "pygments_lexer": "ipython3",
   "version": "3.8.13"
  }
 },
 "nbformat": 4,
 "nbformat_minor": 1
}
