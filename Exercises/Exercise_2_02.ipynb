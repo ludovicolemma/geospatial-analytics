{
  "nbformat": 4,
  "nbformat_minor": 0,
  "metadata": {
    "colab": {
      "provenance": [],
      "collapsed_sections": [],
      "toc_visible": true
    },
    "kernelspec": {
      "name": "python3",
      "display_name": "Python 3"
    },
    "language_info": {
      "name": "python"
    }
  },
  "cells": [
    {
      "cell_type": "markdown",
      "source": [
        "# Exercise 2.2:\n",
        "What is the most “central” EU capital, i.e., the one with the lowest average Earth distance with the other EU capitals?\n",
        "*   Create a bar chart with the average distance for each EU capital, sorted in increasing order\n",
        "*   Repeat the exercise for at least another continent\n",
        "*   Submit a (well-documented) python notebook\n"
      ],
      "metadata": {
        "id": "CwoYszxzDgn3"
      }
    },
    {
      "cell_type": "code",
      "source": [
        "#installing random library with EU country names (lazy)\n",
        "!pip install countrygroups"
      ],
      "metadata": {
        "colab": {
          "base_uri": "https://localhost:8080/"
        },
        "id": "HvpZDrKj__eX",
        "outputId": "16598faf-aeab-4074-9491-f3a77d42d0cd"
      },
      "execution_count": 1,
      "outputs": [
        {
          "output_type": "stream",
          "name": "stdout",
          "text": [
            "Looking in indexes: https://pypi.org/simple, https://us-python.pkg.dev/colab-wheels/public/simple/\n",
            "Collecting countrygroups\n",
            "  Downloading countrygroups-0.13.0-py2.py3-none-any.whl (9.6 kB)\n",
            "Collecting shortcountrynames\n",
            "  Downloading shortcountrynames-0.10.0-py2.py3-none-any.whl (8.9 kB)\n",
            "Installing collected packages: shortcountrynames, countrygroups\n",
            "Successfully installed countrygroups-0.13.0 shortcountrynames-0.10.0\n"
          ]
        }
      ]
    },
    {
      "cell_type": "markdown",
      "source": [
        "## Importing the data\n",
        "Using the same data as in the previous exercise (everything is almost the same until the section \"Computing the distances\")"
      ],
      "metadata": {
        "id": "ohNr1ZqOLHRo"
      }
    },
    {
      "cell_type": "code",
      "source": [
        "from countrygroups import EUROPEAN_UNION\n",
        "import urllib.request\n",
        "import json\n",
        "\n",
        "file_name = 'capitals.json'\n",
        "\n",
        "#downloading a json with the latitude and longitudes of world capitals\n",
        "urllib.request.urlretrieve('http://techslides.com/demos/country-capitals.json', file_name)\n",
        "\n",
        "#importing the json file\n",
        "with open(file_name, 'r') as f:\n",
        "    data = json.loads(f.read())"
      ],
      "metadata": {
        "id": "LwTOzIQN75zx"
      },
      "execution_count": 2,
      "outputs": []
    },
    {
      "cell_type": "code",
      "source": [
        "EU_countries = EUROPEAN_UNION.names \n",
        "#a quick check made it clear Czechia had to be fixed to match the other json\n",
        "EU_countries.remove('Czechia')\n",
        "EU_countries.append('Czech Republic')"
      ],
      "metadata": {
        "id": "Rq5pj7wDCWDv"
      },
      "execution_count": 3,
      "outputs": []
    },
    {
      "cell_type": "code",
      "source": [
        "#extracting the EU capitals from the json\n",
        "EU_capitals = [capital for capital in data if capital['CountryName'] in EU_countries]\n",
        "EU_capitals"
      ],
      "metadata": {
        "colab": {
          "base_uri": "https://localhost:8080/"
        },
        "id": "HCK-qjZK9X7E",
        "outputId": "b67af62b-f3c6-43ef-cf04-2e3833bdabd1"
      },
      "execution_count": 4,
      "outputs": [
        {
          "output_type": "execute_result",
          "data": {
            "text/plain": [
              "[{'CountryName': 'Austria',\n",
              "  'CapitalName': 'Vienna',\n",
              "  'CapitalLatitude': '48.2',\n",
              "  'CapitalLongitude': '16.366667',\n",
              "  'CountryCode': 'AT',\n",
              "  'ContinentName': 'Europe'},\n",
              " {'CountryName': 'Belgium',\n",
              "  'CapitalName': 'Brussels',\n",
              "  'CapitalLatitude': '50.833333333333336',\n",
              "  'CapitalLongitude': '4.333333',\n",
              "  'CountryCode': 'BE',\n",
              "  'ContinentName': 'Europe'},\n",
              " {'CountryName': 'Bulgaria',\n",
              "  'CapitalName': 'Sofia',\n",
              "  'CapitalLatitude': '42.68333333333333',\n",
              "  'CapitalLongitude': '23.316667',\n",
              "  'CountryCode': 'BG',\n",
              "  'ContinentName': 'Europe'},\n",
              " {'CountryName': 'Croatia',\n",
              "  'CapitalName': 'Zagreb',\n",
              "  'CapitalLatitude': '45.8',\n",
              "  'CapitalLongitude': '16.000000',\n",
              "  'CountryCode': 'HR',\n",
              "  'ContinentName': 'Europe'},\n",
              " {'CountryName': 'Cyprus',\n",
              "  'CapitalName': 'Nicosia',\n",
              "  'CapitalLatitude': '35.166666666666664',\n",
              "  'CapitalLongitude': '33.366667',\n",
              "  'CountryCode': 'CY',\n",
              "  'ContinentName': 'Europe'},\n",
              " {'CountryName': 'Czech Republic',\n",
              "  'CapitalName': 'Prague',\n",
              "  'CapitalLatitude': '50.083333333333336',\n",
              "  'CapitalLongitude': '14.466667',\n",
              "  'CountryCode': 'CZ',\n",
              "  'ContinentName': 'Europe'},\n",
              " {'CountryName': 'Denmark',\n",
              "  'CapitalName': 'Copenhagen',\n",
              "  'CapitalLatitude': '55.666666666666664',\n",
              "  'CapitalLongitude': '12.583333',\n",
              "  'CountryCode': 'DK',\n",
              "  'ContinentName': 'Europe'},\n",
              " {'CountryName': 'Estonia',\n",
              "  'CapitalName': 'Tallinn',\n",
              "  'CapitalLatitude': '59.43333333333333',\n",
              "  'CapitalLongitude': '24.716667',\n",
              "  'CountryCode': 'EE',\n",
              "  'ContinentName': 'Europe'},\n",
              " {'CountryName': 'Finland',\n",
              "  'CapitalName': 'Helsinki',\n",
              "  'CapitalLatitude': '60.166666666666664',\n",
              "  'CapitalLongitude': '24.933333',\n",
              "  'CountryCode': 'FI',\n",
              "  'ContinentName': 'Europe'},\n",
              " {'CountryName': 'France',\n",
              "  'CapitalName': 'Paris',\n",
              "  'CapitalLatitude': '48.86666666666667',\n",
              "  'CapitalLongitude': '2.333333',\n",
              "  'CountryCode': 'FR',\n",
              "  'ContinentName': 'Europe'},\n",
              " {'CountryName': 'Germany',\n",
              "  'CapitalName': 'Berlin',\n",
              "  'CapitalLatitude': '52.516666666666666',\n",
              "  'CapitalLongitude': '13.400000',\n",
              "  'CountryCode': 'DE',\n",
              "  'ContinentName': 'Europe'},\n",
              " {'CountryName': 'Greece',\n",
              "  'CapitalName': 'Athens',\n",
              "  'CapitalLatitude': '37.983333333333334',\n",
              "  'CapitalLongitude': '23.733333',\n",
              "  'CountryCode': 'GR',\n",
              "  'ContinentName': 'Europe'},\n",
              " {'CountryName': 'Hungary',\n",
              "  'CapitalName': 'Budapest',\n",
              "  'CapitalLatitude': '47.5',\n",
              "  'CapitalLongitude': '19.083333',\n",
              "  'CountryCode': 'HU',\n",
              "  'ContinentName': 'Europe'},\n",
              " {'CountryName': 'Ireland',\n",
              "  'CapitalName': 'Dublin',\n",
              "  'CapitalLatitude': '53.31666666666667',\n",
              "  'CapitalLongitude': '-6.233333',\n",
              "  'CountryCode': 'IE',\n",
              "  'ContinentName': 'Europe'},\n",
              " {'CountryName': 'Italy',\n",
              "  'CapitalName': 'Rome',\n",
              "  'CapitalLatitude': '41.9',\n",
              "  'CapitalLongitude': '12.483333',\n",
              "  'CountryCode': 'IT',\n",
              "  'ContinentName': 'Europe'},\n",
              " {'CountryName': 'Latvia',\n",
              "  'CapitalName': 'Riga',\n",
              "  'CapitalLatitude': '56.95',\n",
              "  'CapitalLongitude': '24.100000',\n",
              "  'CountryCode': 'LV',\n",
              "  'ContinentName': 'Europe'},\n",
              " {'CountryName': 'Lithuania',\n",
              "  'CapitalName': 'Vilnius',\n",
              "  'CapitalLatitude': '54.68333333333333',\n",
              "  'CapitalLongitude': '25.316667',\n",
              "  'CountryCode': 'LT',\n",
              "  'ContinentName': 'Europe'},\n",
              " {'CountryName': 'Luxembourg',\n",
              "  'CapitalName': 'Luxembourg',\n",
              "  'CapitalLatitude': '49.6',\n",
              "  'CapitalLongitude': '6.116667',\n",
              "  'CountryCode': 'LU',\n",
              "  'ContinentName': 'Europe'},\n",
              " {'CountryName': 'Malta',\n",
              "  'CapitalName': 'Valletta',\n",
              "  'CapitalLatitude': '35.88333333333333',\n",
              "  'CapitalLongitude': '14.500000',\n",
              "  'CountryCode': 'MT',\n",
              "  'ContinentName': 'Europe'},\n",
              " {'CountryName': 'Netherlands',\n",
              "  'CapitalName': 'Amsterdam',\n",
              "  'CapitalLatitude': '52.35',\n",
              "  'CapitalLongitude': '4.916667',\n",
              "  'CountryCode': 'NL',\n",
              "  'ContinentName': 'Europe'},\n",
              " {'CountryName': 'Poland',\n",
              "  'CapitalName': 'Warsaw',\n",
              "  'CapitalLatitude': '52.25',\n",
              "  'CapitalLongitude': '21.000000',\n",
              "  'CountryCode': 'PL',\n",
              "  'ContinentName': 'Europe'},\n",
              " {'CountryName': 'Portugal',\n",
              "  'CapitalName': 'Lisbon',\n",
              "  'CapitalLatitude': '38.71666666666667',\n",
              "  'CapitalLongitude': '-9.133333',\n",
              "  'CountryCode': 'PT',\n",
              "  'ContinentName': 'Europe'},\n",
              " {'CountryName': 'Romania',\n",
              "  'CapitalName': 'Bucharest',\n",
              "  'CapitalLatitude': '44.43333333333333',\n",
              "  'CapitalLongitude': '26.100000',\n",
              "  'CountryCode': 'RO',\n",
              "  'ContinentName': 'Europe'},\n",
              " {'CountryName': 'Slovakia',\n",
              "  'CapitalName': 'Bratislava',\n",
              "  'CapitalLatitude': '48.15',\n",
              "  'CapitalLongitude': '17.116667',\n",
              "  'CountryCode': 'SK',\n",
              "  'ContinentName': 'Europe'},\n",
              " {'CountryName': 'Slovenia',\n",
              "  'CapitalName': 'Ljubljana',\n",
              "  'CapitalLatitude': '46.05',\n",
              "  'CapitalLongitude': '14.516667',\n",
              "  'CountryCode': 'SI',\n",
              "  'ContinentName': 'Europe'},\n",
              " {'CountryName': 'Spain',\n",
              "  'CapitalName': 'Madrid',\n",
              "  'CapitalLatitude': '40.4',\n",
              "  'CapitalLongitude': '-3.683333',\n",
              "  'CountryCode': 'ES',\n",
              "  'ContinentName': 'Europe'},\n",
              " {'CountryName': 'Sweden',\n",
              "  'CapitalName': 'Stockholm',\n",
              "  'CapitalLatitude': '59.333333333333336',\n",
              "  'CapitalLongitude': '18.050000',\n",
              "  'CountryCode': 'SE',\n",
              "  'ContinentName': 'Europe'}]"
            ]
          },
          "metadata": {},
          "execution_count": 4
        }
      ]
    },
    {
      "cell_type": "code",
      "source": [
        "#just a quick check if they are those 27\n",
        "assert len([x['CountryName'] for x in EU_capitals]) == 27, 'There are not 27 countries!'\n",
        "set(EU_countries) == set([x['CountryName'] for x in EU_capitals])"
      ],
      "metadata": {
        "colab": {
          "base_uri": "https://localhost:8080/"
        },
        "id": "qv5kIo-4BARw",
        "outputId": "8a537acc-d633-48a2-c42d-e3202364475e"
      },
      "execution_count": 5,
      "outputs": [
        {
          "output_type": "execute_result",
          "data": {
            "text/plain": [
              "True"
            ]
          },
          "metadata": {},
          "execution_count": 5
        }
      ]
    },
    {
      "cell_type": "code",
      "source": [
        "#making the capital lat and lon from strings to floats\n",
        "for capital in EU_capitals:\n",
        "    capital['CapitalLatitude'] = float(capital['CapitalLatitude'])\n",
        "    capital['CapitalLongitude'] = float(capital['CapitalLongitude'])\n",
        "\n",
        "#making the data easier to call (a dictionary to call from the capital)\n",
        "EU_capdict = {x['CapitalName'] : x for x in EU_capitals}\n",
        "EU_capdict"
      ],
      "metadata": {
        "colab": {
          "base_uri": "https://localhost:8080/"
        },
        "id": "V-ZXiwU7Ln9J",
        "outputId": "fa54d9d1-9af8-4d42-dfe2-1ef1d5d3a17a"
      },
      "execution_count": 6,
      "outputs": [
        {
          "output_type": "execute_result",
          "data": {
            "text/plain": [
              "{'Vienna': {'CountryName': 'Austria',\n",
              "  'CapitalName': 'Vienna',\n",
              "  'CapitalLatitude': 48.2,\n",
              "  'CapitalLongitude': 16.366667,\n",
              "  'CountryCode': 'AT',\n",
              "  'ContinentName': 'Europe'},\n",
              " 'Brussels': {'CountryName': 'Belgium',\n",
              "  'CapitalName': 'Brussels',\n",
              "  'CapitalLatitude': 50.833333333333336,\n",
              "  'CapitalLongitude': 4.333333,\n",
              "  'CountryCode': 'BE',\n",
              "  'ContinentName': 'Europe'},\n",
              " 'Sofia': {'CountryName': 'Bulgaria',\n",
              "  'CapitalName': 'Sofia',\n",
              "  'CapitalLatitude': 42.68333333333333,\n",
              "  'CapitalLongitude': 23.316667,\n",
              "  'CountryCode': 'BG',\n",
              "  'ContinentName': 'Europe'},\n",
              " 'Zagreb': {'CountryName': 'Croatia',\n",
              "  'CapitalName': 'Zagreb',\n",
              "  'CapitalLatitude': 45.8,\n",
              "  'CapitalLongitude': 16.0,\n",
              "  'CountryCode': 'HR',\n",
              "  'ContinentName': 'Europe'},\n",
              " 'Nicosia': {'CountryName': 'Cyprus',\n",
              "  'CapitalName': 'Nicosia',\n",
              "  'CapitalLatitude': 35.166666666666664,\n",
              "  'CapitalLongitude': 33.366667,\n",
              "  'CountryCode': 'CY',\n",
              "  'ContinentName': 'Europe'},\n",
              " 'Prague': {'CountryName': 'Czech Republic',\n",
              "  'CapitalName': 'Prague',\n",
              "  'CapitalLatitude': 50.083333333333336,\n",
              "  'CapitalLongitude': 14.466667,\n",
              "  'CountryCode': 'CZ',\n",
              "  'ContinentName': 'Europe'},\n",
              " 'Copenhagen': {'CountryName': 'Denmark',\n",
              "  'CapitalName': 'Copenhagen',\n",
              "  'CapitalLatitude': 55.666666666666664,\n",
              "  'CapitalLongitude': 12.583333,\n",
              "  'CountryCode': 'DK',\n",
              "  'ContinentName': 'Europe'},\n",
              " 'Tallinn': {'CountryName': 'Estonia',\n",
              "  'CapitalName': 'Tallinn',\n",
              "  'CapitalLatitude': 59.43333333333333,\n",
              "  'CapitalLongitude': 24.716667,\n",
              "  'CountryCode': 'EE',\n",
              "  'ContinentName': 'Europe'},\n",
              " 'Helsinki': {'CountryName': 'Finland',\n",
              "  'CapitalName': 'Helsinki',\n",
              "  'CapitalLatitude': 60.166666666666664,\n",
              "  'CapitalLongitude': 24.933333,\n",
              "  'CountryCode': 'FI',\n",
              "  'ContinentName': 'Europe'},\n",
              " 'Paris': {'CountryName': 'France',\n",
              "  'CapitalName': 'Paris',\n",
              "  'CapitalLatitude': 48.86666666666667,\n",
              "  'CapitalLongitude': 2.333333,\n",
              "  'CountryCode': 'FR',\n",
              "  'ContinentName': 'Europe'},\n",
              " 'Berlin': {'CountryName': 'Germany',\n",
              "  'CapitalName': 'Berlin',\n",
              "  'CapitalLatitude': 52.516666666666666,\n",
              "  'CapitalLongitude': 13.4,\n",
              "  'CountryCode': 'DE',\n",
              "  'ContinentName': 'Europe'},\n",
              " 'Athens': {'CountryName': 'Greece',\n",
              "  'CapitalName': 'Athens',\n",
              "  'CapitalLatitude': 37.983333333333334,\n",
              "  'CapitalLongitude': 23.733333,\n",
              "  'CountryCode': 'GR',\n",
              "  'ContinentName': 'Europe'},\n",
              " 'Budapest': {'CountryName': 'Hungary',\n",
              "  'CapitalName': 'Budapest',\n",
              "  'CapitalLatitude': 47.5,\n",
              "  'CapitalLongitude': 19.083333,\n",
              "  'CountryCode': 'HU',\n",
              "  'ContinentName': 'Europe'},\n",
              " 'Dublin': {'CountryName': 'Ireland',\n",
              "  'CapitalName': 'Dublin',\n",
              "  'CapitalLatitude': 53.31666666666667,\n",
              "  'CapitalLongitude': -6.233333,\n",
              "  'CountryCode': 'IE',\n",
              "  'ContinentName': 'Europe'},\n",
              " 'Rome': {'CountryName': 'Italy',\n",
              "  'CapitalName': 'Rome',\n",
              "  'CapitalLatitude': 41.9,\n",
              "  'CapitalLongitude': 12.483333,\n",
              "  'CountryCode': 'IT',\n",
              "  'ContinentName': 'Europe'},\n",
              " 'Riga': {'CountryName': 'Latvia',\n",
              "  'CapitalName': 'Riga',\n",
              "  'CapitalLatitude': 56.95,\n",
              "  'CapitalLongitude': 24.1,\n",
              "  'CountryCode': 'LV',\n",
              "  'ContinentName': 'Europe'},\n",
              " 'Vilnius': {'CountryName': 'Lithuania',\n",
              "  'CapitalName': 'Vilnius',\n",
              "  'CapitalLatitude': 54.68333333333333,\n",
              "  'CapitalLongitude': 25.316667,\n",
              "  'CountryCode': 'LT',\n",
              "  'ContinentName': 'Europe'},\n",
              " 'Luxembourg': {'CountryName': 'Luxembourg',\n",
              "  'CapitalName': 'Luxembourg',\n",
              "  'CapitalLatitude': 49.6,\n",
              "  'CapitalLongitude': 6.116667,\n",
              "  'CountryCode': 'LU',\n",
              "  'ContinentName': 'Europe'},\n",
              " 'Valletta': {'CountryName': 'Malta',\n",
              "  'CapitalName': 'Valletta',\n",
              "  'CapitalLatitude': 35.88333333333333,\n",
              "  'CapitalLongitude': 14.5,\n",
              "  'CountryCode': 'MT',\n",
              "  'ContinentName': 'Europe'},\n",
              " 'Amsterdam': {'CountryName': 'Netherlands',\n",
              "  'CapitalName': 'Amsterdam',\n",
              "  'CapitalLatitude': 52.35,\n",
              "  'CapitalLongitude': 4.916667,\n",
              "  'CountryCode': 'NL',\n",
              "  'ContinentName': 'Europe'},\n",
              " 'Warsaw': {'CountryName': 'Poland',\n",
              "  'CapitalName': 'Warsaw',\n",
              "  'CapitalLatitude': 52.25,\n",
              "  'CapitalLongitude': 21.0,\n",
              "  'CountryCode': 'PL',\n",
              "  'ContinentName': 'Europe'},\n",
              " 'Lisbon': {'CountryName': 'Portugal',\n",
              "  'CapitalName': 'Lisbon',\n",
              "  'CapitalLatitude': 38.71666666666667,\n",
              "  'CapitalLongitude': -9.133333,\n",
              "  'CountryCode': 'PT',\n",
              "  'ContinentName': 'Europe'},\n",
              " 'Bucharest': {'CountryName': 'Romania',\n",
              "  'CapitalName': 'Bucharest',\n",
              "  'CapitalLatitude': 44.43333333333333,\n",
              "  'CapitalLongitude': 26.1,\n",
              "  'CountryCode': 'RO',\n",
              "  'ContinentName': 'Europe'},\n",
              " 'Bratislava': {'CountryName': 'Slovakia',\n",
              "  'CapitalName': 'Bratislava',\n",
              "  'CapitalLatitude': 48.15,\n",
              "  'CapitalLongitude': 17.116667,\n",
              "  'CountryCode': 'SK',\n",
              "  'ContinentName': 'Europe'},\n",
              " 'Ljubljana': {'CountryName': 'Slovenia',\n",
              "  'CapitalName': 'Ljubljana',\n",
              "  'CapitalLatitude': 46.05,\n",
              "  'CapitalLongitude': 14.516667,\n",
              "  'CountryCode': 'SI',\n",
              "  'ContinentName': 'Europe'},\n",
              " 'Madrid': {'CountryName': 'Spain',\n",
              "  'CapitalName': 'Madrid',\n",
              "  'CapitalLatitude': 40.4,\n",
              "  'CapitalLongitude': -3.683333,\n",
              "  'CountryCode': 'ES',\n",
              "  'ContinentName': 'Europe'},\n",
              " 'Stockholm': {'CountryName': 'Sweden',\n",
              "  'CapitalName': 'Stockholm',\n",
              "  'CapitalLatitude': 59.333333333333336,\n",
              "  'CapitalLongitude': 18.05,\n",
              "  'CountryCode': 'SE',\n",
              "  'ContinentName': 'Europe'}}"
            ]
          },
          "metadata": {},
          "execution_count": 6
        }
      ]
    },
    {
      "cell_type": "markdown",
      "source": [
        "## Doing the math"
      ],
      "metadata": {
        "id": "xsY4HDEmLOWb"
      }
    },
    {
      "cell_type": "code",
      "source": [
        "from math import cos, sin, asin, sqrt, pi\n",
        "\n",
        "def to_radians(*args): #I needed radians to work with trigonometry\n",
        "    for raw in args:\n",
        "        yield raw*(pi/180) #I made it a generator out of convenience\n",
        "\n",
        "assert round(next(to_radians(1)), 5) == 0.01745, \"It's not equal to the proper conversion of degree to radians\""
      ],
      "metadata": {
        "id": "9S0ByrbyHn25"
      },
      "execution_count": 7,
      "outputs": []
    },
    {
      "cell_type": "markdown",
      "source": [
        "<font size=\"4\">Earth Distances</font>"
      ],
      "metadata": {
        "id": "bJxmfw-rr1PL"
      }
    },
    {
      "cell_type": "code",
      "source": [
        "def haversine_formula(latP, lonP, latQ, lonQ):\n",
        "    #converting the latitude and longitudes to radians\n",
        "    latP, lonP, latQ, lonQ = tuple(to_radians(latP, lonP, latQ, lonQ))\n",
        "    #print(latP, lonP, latQ, lonQ)\n",
        "\n",
        "    earth_radius = 6371 #km, from wikipedia\n",
        "\n",
        "    Dlat = latQ - latP\n",
        "    Dlon = lonQ - lonP\n",
        "\n",
        "    #I copied and translated the formula to python\n",
        "    to_sqrt = sin(Dlat/2)**2 + cos(latP)*cos(latQ)*sin(Dlon/2)**2\n",
        "    d = 2*earth_radius*asin(sqrt(to_sqrt))\n",
        "\n",
        "    return  d"
      ],
      "metadata": {
        "id": "HWPKvtZE_AOQ"
      },
      "execution_count": 8,
      "outputs": []
    },
    {
      "cell_type": "code",
      "source": [
        "#testing the formula\n",
        "assert round(\n",
        "             haversine_formula(43.7228555,  #Pisa Tower Latitude\n",
        "                               10.3963002, #Pisa Tower Longitude\n",
        "                               EU_capdict['Valletta']['CapitalLatitude'],\n",
        "                               EU_capdict['Valletta']['CapitalLongitude']), \n",
        "             \n",
        "             0) == 939, 'Online calculator told me it was 939 km from la Valletta'"
      ],
      "metadata": {
        "id": "CZI_RhIoKdAe"
      },
      "execution_count": 9,
      "outputs": []
    },
    {
      "cell_type": "markdown",
      "source": [
        "## Computing the distances (EU)"
      ],
      "metadata": {
        "id": "Wq4fImfoWgCd"
      }
    },
    {
      "cell_type": "code",
      "source": [
        "import matplotlib.pyplot as plt"
      ],
      "metadata": {
        "id": "SV3moJCDZzPQ"
      },
      "execution_count": 10,
      "outputs": []
    },
    {
      "cell_type": "markdown",
      "source": [
        "Computing the distances <br>\n",
        "<font size=\"4\">I did as requested for the 5 largest EU cities but it is possible to look at them all by removing \"five_largest: #\"</font>"
      ],
      "metadata": {
        "id": "LE6t_QJOhBhz"
      }
    },
    {
      "cell_type": "code",
      "source": [
        "earth_distdict = dict()\n",
        "\n",
        "for capital in EU_capdict.keys(): #to get them all\n",
        "    #setting the new capital latitude and longitudes\n",
        "    latP = EU_capdict[capital]['CapitalLatitude']\n",
        "    lonP = EU_capdict[capital]['CapitalLongitude']\n",
        "\n",
        "    #creating a new dictionary to store the capitals compared and its relative distance\n",
        "    earth_subdict = dict()\n",
        "    \n",
        "    for capital_to_compare in EU_capdict.keys():\n",
        "        if capital != capital_to_compare: #to avoid computing distances from itself\n",
        "            #setting the capital latitude and longitudes to compare\n",
        "            latQ = EU_capdict[capital_to_compare]['CapitalLatitude']\n",
        "            lonQ = EU_capdict[capital_to_compare]['CapitalLongitude']\n",
        "\n",
        "            #computing earth distance between the two capitals\n",
        "            earth_distance = haversine_formula(latP, lonP, latQ, lonQ)\n",
        "            #adding the results to the sub dictionary\n",
        "            earth_subdict[capital_to_compare] = earth_distance\n",
        "\n",
        "    #adding the subdictionary to the main one\n",
        "    earth_distdict[capital] = earth_subdict"
      ],
      "metadata": {
        "id": "D1eNRbDbWjlJ"
      },
      "execution_count": 11,
      "outputs": []
    },
    {
      "cell_type": "markdown",
      "source": [
        "Checking if everything is okay, the structure must be: <br>\n",
        "Capital : Dictionary of distances of other capitals to the one considered"
      ],
      "metadata": {
        "id": "jZBQiwhDeBpS"
      }
    },
    {
      "cell_type": "code",
      "source": [
        "earth_distdict['Dublin']"
      ],
      "metadata": {
        "colab": {
          "base_uri": "https://localhost:8080/"
        },
        "id": "0EXNA-aMdoiU",
        "outputId": "870b016c-13e7-4e09-d3cf-0c89a0351d76"
      },
      "execution_count": 12,
      "outputs": [
        {
          "output_type": "execute_result",
          "data": {
            "text/plain": [
              "{'Vienna': 1679.8675160979913,\n",
              " 'Brussels': 772.2480195529654,\n",
              " 'Sofia': 2471.3005457348922,\n",
              " 'Zagreb': 1797.9733261946994,\n",
              " 'Nicosia': 3675.248638678974,\n",
              " 'Prague': 1465.4563669932443,\n",
              " 'Copenhagen': 1238.9174122713985,\n",
              " 'Tallinn': 2001.6194138257717,\n",
              " 'Helsinki': 2023.8493292526518,\n",
              " 'Paris': 775.4860205918371,\n",
              " 'Berlin': 1315.205600005077,\n",
              " 'Athens': 2852.113276955937,\n",
              " 'Budapest': 1894.997431430677,\n",
              " 'Rome': 1881.6944385784868,\n",
              " 'Riga': 1952.8555347997685,\n",
              " 'Vilnius': 2050.1941951672025,\n",
              " 'Luxembourg': 948.5435754509507,\n",
              " 'Valletta': 2521.1104005621623,\n",
              " 'Amsterdam': 755.8963308439701,\n",
              " 'Warsaw': 1824.2449420215498,\n",
              " 'Lisbon': 1638.4651502214947,\n",
              " 'Bucharest': 2535.2234543291615,\n",
              " 'Bratislava': 1731.5136605691757,\n",
              " 'Ljubljana': 1688.7472374524825,\n",
              " 'Madrid': 1449.0514190000715,\n",
              " 'Stockholm': 1627.8950731287516}"
            ]
          },
          "metadata": {},
          "execution_count": 12
        }
      ]
    },
    {
      "cell_type": "markdown",
      "source": [
        "## Computing the average distances (EU)"
      ],
      "metadata": {
        "id": "ELZ9rK26hH8Z"
      }
    },
    {
      "cell_type": "code",
      "source": [
        "average_distdict = dict()\n",
        "\n",
        "for capital in earth_distdict.keys():\n",
        "    values = list(earth_distdict[capital].values()) #extracting values from the subdictionary\n",
        "\n",
        "    average_distance = sum(values) / len(values) #computing the average distance\n",
        "    average_distdict[capital] = average_distance #adding that distance to the dictionary"
      ],
      "metadata": {
        "id": "qNsWy7b9e64f"
      },
      "execution_count": 13,
      "outputs": []
    },
    {
      "cell_type": "code",
      "source": [
        "average_distdict"
      ],
      "metadata": {
        "colab": {
          "base_uri": "https://localhost:8080/"
        },
        "id": "l1uMNzJkglAe",
        "outputId": "e81262bd-47a8-47ed-8a42-b31679731c7d"
      },
      "execution_count": 14,
      "outputs": [
        {
          "output_type": "execute_result",
          "data": {
            "text/plain": [
              "{'Vienna': 987.0889767625157,\n",
              " 'Brussels': 1216.3312748549556,\n",
              " 'Sofia': 1369.8533707042156,\n",
              " 'Zagreb': 1051.8195450870708,\n",
              " 'Nicosia': 2379.2000076375575,\n",
              " 'Prague': 986.8112883762086,\n",
              " 'Copenhagen': 1202.6668088227777,\n",
              " 'Tallinn': 1569.6881765518567,\n",
              " 'Helsinki': 1633.387505511417,\n",
              " 'Paris': 1311.0100264739713,\n",
              " 'Berlin': 1045.288350548787,\n",
              " 'Athens': 1716.5499463587182,\n",
              " 'Budapest': 1043.7841174538719,\n",
              " 'Dublin': 1791.1430119119746,\n",
              " 'Rome': 1291.9526185186453,\n",
              " 'Riga': 1391.2939771323936,\n",
              " 'Vilnius': 1328.6340599059897,\n",
              " 'Luxembourg': 1149.1492057503303,\n",
              " 'Valletta': 1767.1122300051138,\n",
              " 'Amsterdam': 1224.6805257772785,\n",
              " 'Warsaw': 1116.3413590967589,\n",
              " 'Lisbon': 2397.44534417502,\n",
              " 'Bucharest': 1399.9016883017184,\n",
              " 'Bratislava': 994.5302569498264,\n",
              " 'Ljubljana': 1042.7933500190072,\n",
              " 'Madrid': 1970.8909492376993,\n",
              " 'Stockholm': 1458.8641940655425}"
            ]
          },
          "metadata": {},
          "execution_count": 14
        }
      ]
    },
    {
      "cell_type": "code",
      "source": [
        "# Here I sorted in ascending order according to the average distances\n",
        "average_distlist = sorted(average_distdict.items(), key = lambda x : x[1])\n",
        "average_distlist"
      ],
      "metadata": {
        "colab": {
          "base_uri": "https://localhost:8080/"
        },
        "id": "Qopft3ZZhDa2",
        "outputId": "bbee83d0-d457-4342-929b-5e0ac98b25d5"
      },
      "execution_count": 15,
      "outputs": [
        {
          "output_type": "execute_result",
          "data": {
            "text/plain": [
              "[('Prague', 986.8112883762086),\n",
              " ('Vienna', 987.0889767625157),\n",
              " ('Bratislava', 994.5302569498264),\n",
              " ('Ljubljana', 1042.7933500190072),\n",
              " ('Budapest', 1043.7841174538719),\n",
              " ('Berlin', 1045.288350548787),\n",
              " ('Zagreb', 1051.8195450870708),\n",
              " ('Warsaw', 1116.3413590967589),\n",
              " ('Luxembourg', 1149.1492057503303),\n",
              " ('Copenhagen', 1202.6668088227777),\n",
              " ('Brussels', 1216.3312748549556),\n",
              " ('Amsterdam', 1224.6805257772785),\n",
              " ('Rome', 1291.9526185186453),\n",
              " ('Paris', 1311.0100264739713),\n",
              " ('Vilnius', 1328.6340599059897),\n",
              " ('Sofia', 1369.8533707042156),\n",
              " ('Riga', 1391.2939771323936),\n",
              " ('Bucharest', 1399.9016883017184),\n",
              " ('Stockholm', 1458.8641940655425),\n",
              " ('Tallinn', 1569.6881765518567),\n",
              " ('Helsinki', 1633.387505511417),\n",
              " ('Athens', 1716.5499463587182),\n",
              " ('Valletta', 1767.1122300051138),\n",
              " ('Dublin', 1791.1430119119746),\n",
              " ('Madrid', 1970.8909492376993),\n",
              " ('Nicosia', 2379.2000076375575),\n",
              " ('Lisbon', 2397.44534417502)]"
            ]
          },
          "metadata": {},
          "execution_count": 15
        }
      ]
    },
    {
      "cell_type": "code",
      "source": [
        "#plotting the previous list (Prague is the winner)\n",
        "plt.figure(figsize=(20,10))\n",
        "fontsize = 20\n",
        "names = [x[0] for x in average_distlist]\n",
        "values = [x[1] for x in average_distlist]\n",
        "plt.bar(names, values)\n",
        "plt.xticks(fontsize=fontsize)\n",
        "plt.yticks(fontsize=fontsize)\n",
        "plt.xticks(rotation=90) # It wouldn't be readable otherwise\n",
        "plt.ylabel('Average Distances in KM', fontsize=fontsize)\n",
        "plt.title('Average Distances of each EU Capital to all the others', fontsize=fontsize+2)"
      ],
      "metadata": {
        "colab": {
          "base_uri": "https://localhost:8080/",
          "height": 772
        },
        "id": "Sbd5nlXsjIk3",
        "outputId": "ae47016a-4089-4839-cb97-e56c540272f1"
      },
      "execution_count": 16,
      "outputs": [
        {
          "output_type": "execute_result",
          "data": {
            "text/plain": [
              "Text(0.5, 1.0, 'Average Distances of each EU Capital to all the others')"
            ]
          },
          "metadata": {},
          "execution_count": 16
        },
        {
          "output_type": "display_data",
          "data": {
            "text/plain": [
              "<Figure size 1440x720 with 1 Axes>"
            ],
            "image/png": "[encoded data removed]"
          },
          "metadata": {
            "needs_background": "light"
          }
        }
      ]
    },
    {
      "cell_type": "markdown",
      "source": [
        "## Most central capital in Asia\n"
      ],
      "metadata": {
        "id": "YT7Ul9JajY-J"
      }
    },
    {
      "cell_type": "code",
      "source": [
        "#getting the asian capital data\n",
        "Asian_capitals = [capital for capital in data if capital['ContinentName'] in 'Asia']"
      ],
      "metadata": {
        "id": "2bMa00LMjYGc"
      },
      "execution_count": 17,
      "outputs": []
    },
    {
      "cell_type": "markdown",
      "source": [
        "As expected some of them are counted as European for cultural reasons, I will count them in asia if they have their capital there, thus I will add (excluding only Russia):\n",
        "Turkey, Georgia, Armenia, Azerbaijan, Cyprus"
      ],
      "metadata": {
        "id": "2K15UoSNuTp8"
      }
    },
    {
      "cell_type": "code",
      "source": [
        "for cap in data:\n",
        "    if cap['CountryName'] in ['Turkey', 'Georgia', 'Armenia', 'Azerbaijan', 'Cyprus']:\n",
        "        Asian_capitals.append(cap)"
      ],
      "metadata": {
        "id": "yvosvxLqu0dL"
      },
      "execution_count": 18,
      "outputs": []
    },
    {
      "cell_type": "code",
      "source": [
        "#looking for inconsistences in the data (N/A)\n",
        "for x in Asian_capitals:\n",
        "    if x['CapitalName'] == 'N/A':\n",
        "        print(x)"
      ],
      "metadata": {
        "colab": {
          "base_uri": "https://localhost:8080/"
        },
        "id": "Rhm0SE7dlCru",
        "outputId": "9eb44082-1322-4b2d-8498-b2b8a249031d"
      },
      "execution_count": 19,
      "outputs": [
        {
          "output_type": "stream",
          "name": "stdout",
          "text": [
            "{'CountryName': 'Hong Kong', 'CapitalName': 'N/A', 'CapitalLatitude': '0', 'CapitalLongitude': '0.000000', 'CountryCode': 'HK', 'ContinentName': 'Asia'}\n",
            "{'CountryName': 'Macau', 'CapitalName': 'N/A', 'CapitalLatitude': '0', 'CapitalLongitude': '0.000000', 'CountryCode': 'MO', 'ContinentName': 'Asia'}\n"
          ]
        }
      ]
    },
    {
      "cell_type": "markdown",
      "source": [
        "NB: Jerusalem is considered both the capital of the State of Palestine and the capital of Israel, for simplicity I will count it once (by assigning the capital key to the dictionary one wil be overwritten)"
      ],
      "metadata": {
        "id": "ThRNgDXevrML"
      }
    },
    {
      "cell_type": "code",
      "source": [
        "#making the capital lat and lon from strings to floats\n",
        "for capital in Asian_capitals:\n",
        "    capital['CapitalLatitude'] = float(capital['CapitalLatitude'])\n",
        "    capital['CapitalLongitude'] = float(capital['CapitalLongitude'])\n",
        "\n",
        "#making the data easier to call (a dictionary to call from the capital)\n",
        "Asia_capdict = {x['CapitalName'] : x for x in Asian_capitals}\n",
        "#removing Macau and Hong Kong as they are not capitals (one of them already overwritten)\n",
        "del Asia_capdict['N/A']\n",
        "\n",
        "#avoid controversies about its recognition, it wouldn't be in the center anyway, it would just move slightly eastward the center\n",
        "del Asia_capdict['Taipei']\n",
        "\n",
        "Asia_capdict"
      ],
      "metadata": {
        "colab": {
          "base_uri": "https://localhost:8080/"
        },
        "id": "Tqs-iMXMkLqe",
        "outputId": "82b30927-1f0b-4659-af02-a60c50de866e"
      },
      "execution_count": 20,
      "outputs": [
        {
          "output_type": "execute_result",
          "data": {
            "text/plain": [
              "{'Jerusalem': {'CountryName': 'Israel',\n",
              "  'CapitalName': 'Jerusalem',\n",
              "  'CapitalLatitude': 31.766666666666666,\n",
              "  'CapitalLongitude': 35.233333,\n",
              "  'CountryCode': 'IL',\n",
              "  'ContinentName': 'Asia'},\n",
              " 'Kabul': {'CountryName': 'Afghanistan',\n",
              "  'CapitalName': 'Kabul',\n",
              "  'CapitalLatitude': 34.516666666666666,\n",
              "  'CapitalLongitude': 69.183333,\n",
              "  'CountryCode': 'AF',\n",
              "  'ContinentName': 'Asia'},\n",
              " 'Manama': {'CountryName': 'Bahrain',\n",
              "  'CapitalName': 'Manama',\n",
              "  'CapitalLatitude': 26.233333333333334,\n",
              "  'CapitalLongitude': 50.566667,\n",
              "  'CountryCode': 'BH',\n",
              "  'ContinentName': 'Asia'},\n",
              " 'Dhaka': {'CountryName': 'Bangladesh',\n",
              "  'CapitalName': 'Dhaka',\n",
              "  'CapitalLatitude': 23.716666666666665,\n",
              "  'CapitalLongitude': 90.4,\n",
              "  'CountryCode': 'BD',\n",
              "  'ContinentName': 'Asia'},\n",
              " 'Thimphu': {'CountryName': 'Bhutan',\n",
              "  'CapitalName': 'Thimphu',\n",
              "  'CapitalLatitude': 27.466666666666665,\n",
              "  'CapitalLongitude': 89.633333,\n",
              "  'CountryCode': 'BT',\n",
              "  'ContinentName': 'Asia'},\n",
              " 'Bandar Seri Begawan': {'CountryName': 'Brunei Darussalam',\n",
              "  'CapitalName': 'Bandar Seri Begawan',\n",
              "  'CapitalLatitude': 4.883333333333333,\n",
              "  'CapitalLongitude': 114.933333,\n",
              "  'CountryCode': 'BN',\n",
              "  'ContinentName': 'Asia'},\n",
              " 'Rangoon': {'CountryName': 'Myanmar',\n",
              "  'CapitalName': 'Rangoon',\n",
              "  'CapitalLatitude': 16.8,\n",
              "  'CapitalLongitude': 96.15,\n",
              "  'CountryCode': 'MM',\n",
              "  'ContinentName': 'Asia'},\n",
              " 'Phnom Penh': {'CountryName': 'Cambodia',\n",
              "  'CapitalName': 'Phnom Penh',\n",
              "  'CapitalLatitude': 11.55,\n",
              "  'CapitalLongitude': 104.916667,\n",
              "  'CountryCode': 'KH',\n",
              "  'ContinentName': 'Asia'},\n",
              " 'Beijing': {'CountryName': 'China',\n",
              "  'CapitalName': 'Beijing',\n",
              "  'CapitalLatitude': 39.916666666666664,\n",
              "  'CapitalLongitude': 116.383333,\n",
              "  'CountryCode': 'CN',\n",
              "  'ContinentName': 'Asia'},\n",
              " 'New Delhi': {'CountryName': 'India',\n",
              "  'CapitalName': 'New Delhi',\n",
              "  'CapitalLatitude': 28.6,\n",
              "  'CapitalLongitude': 77.2,\n",
              "  'CountryCode': 'IN',\n",
              "  'ContinentName': 'Asia'},\n",
              " 'Jakarta': {'CountryName': 'Indonesia',\n",
              "  'CapitalName': 'Jakarta',\n",
              "  'CapitalLatitude': -6.166666666666667,\n",
              "  'CapitalLongitude': 106.816667,\n",
              "  'CountryCode': 'ID',\n",
              "  'ContinentName': 'Asia'},\n",
              " 'Tehran': {'CountryName': 'Iran',\n",
              "  'CapitalName': 'Tehran',\n",
              "  'CapitalLatitude': 35.7,\n",
              "  'CapitalLongitude': 51.416667,\n",
              "  'CountryCode': 'IR',\n",
              "  'ContinentName': 'Asia'},\n",
              " 'Baghdad': {'CountryName': 'Iraq',\n",
              "  'CapitalName': 'Baghdad',\n",
              "  'CapitalLatitude': 33.333333333333336,\n",
              "  'CapitalLongitude': 44.4,\n",
              "  'CountryCode': 'IQ',\n",
              "  'ContinentName': 'Asia'},\n",
              " 'Tokyo': {'CountryName': 'Japan',\n",
              "  'CapitalName': 'Tokyo',\n",
              "  'CapitalLatitude': 35.68333333333333,\n",
              "  'CapitalLongitude': 139.75,\n",
              "  'CountryCode': 'JP',\n",
              "  'ContinentName': 'Asia'},\n",
              " 'Amman': {'CountryName': 'Jordan',\n",
              "  'CapitalName': 'Amman',\n",
              "  'CapitalLatitude': 31.95,\n",
              "  'CapitalLongitude': 35.933333,\n",
              "  'CountryCode': 'JO',\n",
              "  'ContinentName': 'Asia'},\n",
              " 'Astana': {'CountryName': 'Kazakhstan',\n",
              "  'CapitalName': 'Astana',\n",
              "  'CapitalLatitude': 51.166666666666664,\n",
              "  'CapitalLongitude': 71.416667,\n",
              "  'CountryCode': 'KZ',\n",
              "  'ContinentName': 'Asia'},\n",
              " 'Pyongyang': {'CountryName': 'North Korea',\n",
              "  'CapitalName': 'Pyongyang',\n",
              "  'CapitalLatitude': 39.016666666666666,\n",
              "  'CapitalLongitude': 125.75,\n",
              "  'CountryCode': 'KP',\n",
              "  'ContinentName': 'Asia'},\n",
              " 'Seoul': {'CountryName': 'South Korea',\n",
              "  'CapitalName': 'Seoul',\n",
              "  'CapitalLatitude': 37.55,\n",
              "  'CapitalLongitude': 126.983333,\n",
              "  'CountryCode': 'KR',\n",
              "  'ContinentName': 'Asia'},\n",
              " 'Kuwait City': {'CountryName': 'Kuwait',\n",
              "  'CapitalName': 'Kuwait City',\n",
              "  'CapitalLatitude': 29.366666666666667,\n",
              "  'CapitalLongitude': 47.966667,\n",
              "  'CountryCode': 'KW',\n",
              "  'ContinentName': 'Asia'},\n",
              " 'Bishkek': {'CountryName': 'Kyrgyzstan',\n",
              "  'CapitalName': 'Bishkek',\n",
              "  'CapitalLatitude': 42.86666666666667,\n",
              "  'CapitalLongitude': 74.6,\n",
              "  'CountryCode': 'KG',\n",
              "  'ContinentName': 'Asia'},\n",
              " 'Vientiane': {'CountryName': 'Laos',\n",
              "  'CapitalName': 'Vientiane',\n",
              "  'CapitalLatitude': 17.966666666666665,\n",
              "  'CapitalLongitude': 102.6,\n",
              "  'CountryCode': 'LA',\n",
              "  'ContinentName': 'Asia'},\n",
              " 'Beirut': {'CountryName': 'Lebanon',\n",
              "  'CapitalName': 'Beirut',\n",
              "  'CapitalLatitude': 33.86666666666667,\n",
              "  'CapitalLongitude': 35.5,\n",
              "  'CountryCode': 'LB',\n",
              "  'ContinentName': 'Asia'},\n",
              " 'Kuala Lumpur': {'CountryName': 'Malaysia',\n",
              "  'CapitalName': 'Kuala Lumpur',\n",
              "  'CapitalLatitude': 3.1666666666666665,\n",
              "  'CapitalLongitude': 101.7,\n",
              "  'CountryCode': 'MY',\n",
              "  'ContinentName': 'Asia'},\n",
              " 'Male': {'CountryName': 'Maldives',\n",
              "  'CapitalName': 'Male',\n",
              "  'CapitalLatitude': 4.166666666666667,\n",
              "  'CapitalLongitude': 73.5,\n",
              "  'CountryCode': 'MV',\n",
              "  'ContinentName': 'Asia'},\n",
              " 'Ulaanbaatar': {'CountryName': 'Mongolia',\n",
              "  'CapitalName': 'Ulaanbaatar',\n",
              "  'CapitalLatitude': 47.916666666666664,\n",
              "  'CapitalLongitude': 106.916667,\n",
              "  'CountryCode': 'MN',\n",
              "  'ContinentName': 'Asia'},\n",
              " 'Kathmandu': {'CountryName': 'Nepal',\n",
              "  'CapitalName': 'Kathmandu',\n",
              "  'CapitalLatitude': 27.716666666666665,\n",
              "  'CapitalLongitude': 85.316667,\n",
              "  'CountryCode': 'NP',\n",
              "  'ContinentName': 'Asia'},\n",
              " 'Muscat': {'CountryName': 'Oman',\n",
              "  'CapitalName': 'Muscat',\n",
              "  'CapitalLatitude': 23.616666666666667,\n",
              "  'CapitalLongitude': 58.583333,\n",
              "  'CountryCode': 'OM',\n",
              "  'ContinentName': 'Asia'},\n",
              " 'Islamabad': {'CountryName': 'Pakistan',\n",
              "  'CapitalName': 'Islamabad',\n",
              "  'CapitalLatitude': 33.68333333333333,\n",
              "  'CapitalLongitude': 73.05,\n",
              "  'CountryCode': 'PK',\n",
              "  'ContinentName': 'Asia'},\n",
              " 'Manila': {'CountryName': 'Philippines',\n",
              "  'CapitalName': 'Manila',\n",
              "  'CapitalLatitude': 14.6,\n",
              "  'CapitalLongitude': 120.966667,\n",
              "  'CountryCode': 'PH',\n",
              "  'ContinentName': 'Asia'},\n",
              " 'Doha': {'CountryName': 'Qatar',\n",
              "  'CapitalName': 'Doha',\n",
              "  'CapitalLatitude': 25.283333333333335,\n",
              "  'CapitalLongitude': 51.533333,\n",
              "  'CountryCode': 'QA',\n",
              "  'ContinentName': 'Asia'},\n",
              " 'Riyadh': {'CountryName': 'Saudi Arabia',\n",
              "  'CapitalName': 'Riyadh',\n",
              "  'CapitalLatitude': 24.65,\n",
              "  'CapitalLongitude': 46.7,\n",
              "  'CountryCode': 'SA',\n",
              "  'ContinentName': 'Asia'},\n",
              " 'Singapore': {'CountryName': 'Singapore',\n",
              "  'CapitalName': 'Singapore',\n",
              "  'CapitalLatitude': 1.2833333333333332,\n",
              "  'CapitalLongitude': 103.85,\n",
              "  'CountryCode': 'SG',\n",
              "  'ContinentName': 'Asia'},\n",
              " 'Colombo': {'CountryName': 'Sri Lanka',\n",
              "  'CapitalName': 'Colombo',\n",
              "  'CapitalLatitude': 6.916666666666667,\n",
              "  'CapitalLongitude': 79.833333,\n",
              "  'CountryCode': 'LK',\n",
              "  'ContinentName': 'Asia'},\n",
              " 'Damascus': {'CountryName': 'Syria',\n",
              "  'CapitalName': 'Damascus',\n",
              "  'CapitalLatitude': 33.5,\n",
              "  'CapitalLongitude': 36.3,\n",
              "  'CountryCode': 'SY',\n",
              "  'ContinentName': 'Asia'},\n",
              " 'Dushanbe': {'CountryName': 'Tajikistan',\n",
              "  'CapitalName': 'Dushanbe',\n",
              "  'CapitalLatitude': 38.55,\n",
              "  'CapitalLongitude': 68.766667,\n",
              "  'CountryCode': 'TJ',\n",
              "  'ContinentName': 'Asia'},\n",
              " 'Bangkok': {'CountryName': 'Thailand',\n",
              "  'CapitalName': 'Bangkok',\n",
              "  'CapitalLatitude': 13.75,\n",
              "  'CapitalLongitude': 100.516667,\n",
              "  'CountryCode': 'TH',\n",
              "  'ContinentName': 'Asia'},\n",
              " 'Dili': {'CountryName': 'Timor-Leste',\n",
              "  'CapitalName': 'Dili',\n",
              "  'CapitalLatitude': -8.583333333333334,\n",
              "  'CapitalLongitude': 125.6,\n",
              "  'CountryCode': 'TL',\n",
              "  'ContinentName': 'Asia'},\n",
              " 'Ashgabat': {'CountryName': 'Turkmenistan',\n",
              "  'CapitalName': 'Ashgabat',\n",
              "  'CapitalLatitude': 37.95,\n",
              "  'CapitalLongitude': 58.383333,\n",
              "  'CountryCode': 'TM',\n",
              "  'ContinentName': 'Asia'},\n",
              " 'Abu Dhabi': {'CountryName': 'United Arab Emirates',\n",
              "  'CapitalName': 'Abu Dhabi',\n",
              "  'CapitalLatitude': 24.466666666666665,\n",
              "  'CapitalLongitude': 54.366667,\n",
              "  'CountryCode': 'AE',\n",
              "  'ContinentName': 'Asia'},\n",
              " 'Tashkent': {'CountryName': 'Uzbekistan',\n",
              "  'CapitalName': 'Tashkent',\n",
              "  'CapitalLatitude': 41.31666666666667,\n",
              "  'CapitalLongitude': 69.25,\n",
              "  'CountryCode': 'UZ',\n",
              "  'ContinentName': 'Asia'},\n",
              " 'Hanoi': {'CountryName': 'Vietnam',\n",
              "  'CapitalName': 'Hanoi',\n",
              "  'CapitalLatitude': 21.033333333333335,\n",
              "  'CapitalLongitude': 105.85,\n",
              "  'CountryCode': 'VN',\n",
              "  'ContinentName': 'Asia'},\n",
              " 'Sanaa': {'CountryName': 'Yemen',\n",
              "  'CapitalName': 'Sanaa',\n",
              "  'CapitalLatitude': 15.35,\n",
              "  'CapitalLongitude': 44.2,\n",
              "  'CountryCode': 'YE',\n",
              "  'ContinentName': 'Asia'},\n",
              " 'Yerevan': {'CountryName': 'Armenia',\n",
              "  'CapitalName': 'Yerevan',\n",
              "  'CapitalLatitude': 40.166666666666664,\n",
              "  'CapitalLongitude': 44.5,\n",
              "  'CountryCode': 'AM',\n",
              "  'ContinentName': 'Europe'},\n",
              " 'Baku': {'CountryName': 'Azerbaijan',\n",
              "  'CapitalName': 'Baku',\n",
              "  'CapitalLatitude': 40.38333333333333,\n",
              "  'CapitalLongitude': 49.866667,\n",
              "  'CountryCode': 'AZ',\n",
              "  'ContinentName': 'Europe'},\n",
              " 'Nicosia': {'CountryName': 'Cyprus',\n",
              "  'CapitalName': 'Nicosia',\n",
              "  'CapitalLatitude': 35.166666666666664,\n",
              "  'CapitalLongitude': 33.366667,\n",
              "  'CountryCode': 'CY',\n",
              "  'ContinentName': 'Europe'},\n",
              " 'Tbilisi': {'CountryName': 'Georgia',\n",
              "  'CapitalName': 'Tbilisi',\n",
              "  'CapitalLatitude': 41.68333333333333,\n",
              "  'CapitalLongitude': 44.833333,\n",
              "  'CountryCode': 'GE',\n",
              "  'ContinentName': 'Europe'},\n",
              " 'Ankara': {'CountryName': 'Turkey',\n",
              "  'CapitalName': 'Ankara',\n",
              "  'CapitalLatitude': 39.93333333333333,\n",
              "  'CapitalLongitude': 32.866667,\n",
              "  'CountryCode': 'TR',\n",
              "  'ContinentName': 'Europe'}}"
            ]
          },
          "metadata": {},
          "execution_count": 20
        }
      ]
    },
    {
      "cell_type": "code",
      "source": [
        "if len(Asia_capdict) == 47:\n",
        "    print('OK')"
      ],
      "metadata": {
        "colab": {
          "base_uri": "https://localhost:8080/"
        },
        "id": "-VsmI8LysSNv",
        "outputId": "fe59f15c-c87c-4863-9b75-ef3af5a1845f"
      },
      "execution_count": 21,
      "outputs": [
        {
          "output_type": "stream",
          "name": "stdout",
          "text": [
            "OK\n"
          ]
        }
      ]
    },
    {
      "cell_type": "markdown",
      "source": [
        "<font size=\"5\">Now adapting the same code I wrote before to get the distance sorted plot (just substituted in the first ### ... ### block EU_capdict with Asia_capdict)</font>"
      ],
      "metadata": {
        "id": "kTuRquv7x_J9"
      }
    },
    {
      "cell_type": "code",
      "source": [
        "### COMPUTING DISTANCES FOR EACH CAPITAL IN ASIA ###\n",
        "earth_distdict = dict()\n",
        "\n",
        "for capital in Asia_capdict.keys():\n",
        "    #setting the new capital latitude and longitudes\n",
        "    latP = Asia_capdict[capital]['CapitalLatitude']\n",
        "    lonP = Asia_capdict[capital]['CapitalLongitude']\n",
        "\n",
        "    #creating a new dictionary to store the capitals compared and its relative distance\n",
        "    earth_subdict = dict()\n",
        "    \n",
        "    for capital_to_compare in Asia_capdict.keys():\n",
        "        if capital != capital_to_compare: #to avoid computing distances from itself\n",
        "            #setting the capital latitude and longitudes to compare\n",
        "            latQ = Asia_capdict[capital_to_compare]['CapitalLatitude']\n",
        "            lonQ = Asia_capdict[capital_to_compare]['CapitalLongitude']\n",
        "\n",
        "            #computing earth distance between the two capitals\n",
        "            earth_distance = haversine_formula(latP, lonP, latQ, lonQ)\n",
        "            #adding the results to the sub dictionary\n",
        "            earth_subdict[capital_to_compare] = earth_distance\n",
        "\n",
        "    #adding the subdictionary to the main one\n",
        "    earth_distdict[capital] = earth_subdict\n",
        "\n",
        "### FROM WHICH I COMPUTE AVERAGE DISTANCES FOR EACH CAPITAL IN ASIA ###\n",
        "average_distdict = dict()\n",
        "\n",
        "for capital in earth_distdict.keys():\n",
        "    values = list(earth_distdict[capital].values()) #extracting values from the subdictionary\n",
        "\n",
        "    average_distance = sum(values) / len(values) #computing the average distance\n",
        "    average_distdict[capital] = average_distance #adding that distance to the dictionary\n",
        "    \n",
        "\n",
        "### SORTING THE LIST ###\n",
        "# Here I sorted in ascending order according to the average distances (ascending now because I will plot horizontally)\n",
        "average_distlist = sorted(average_distdict.items(), key = lambda x : x[1])\n",
        "average_distlist\n",
        "\n",
        "### PLOTTING THE RESULTS ###\n",
        "plt.figure(figsize=(20,10))\n",
        "fontsize = 20\n",
        "names = [x[0] for x in average_distlist]\n",
        "values = [x[1] for x in average_distlist]\n",
        "plt.bar(names, values, color='Green')\n",
        "plt.xticks(fontsize=fontsize)\n",
        "plt.yticks(fontsize=fontsize)\n",
        "plt.xticks(rotation=90) # It wouldn't be readable otherwise\n",
        "plt.ylabel('Average Distances in KM', fontsize=fontsize)\n",
        "plt.title('Average Distances of each Asian Capital to all the others', fontsize=fontsize+2)"
      ],
      "metadata": {
        "colab": {
          "base_uri": "https://localhost:8080/",
          "height": 861
        },
        "id": "HwUVjN84xY7_",
        "outputId": "85ede20f-7eae-4906-e8b0-1bcd1df00d2f"
      },
      "execution_count": 22,
      "outputs": [
        {
          "output_type": "execute_result",
          "data": {
            "text/plain": [
              "Text(0.5, 1.0, 'Average Distances of each Asian Capital to all the others')"
            ]
          },
          "metadata": {},
          "execution_count": 22
        },
        {
          "output_type": "display_data",
          "data": {
            "text/plain": [
              "<Figure size 1440x720 with 1 Axes>"
            ],
            "image/png": "[encoded data removed]"
          },
          "metadata": {
            "needs_background": "light"
          }
        }
      ]
    },
    {
      "cell_type": "markdown",
      "source": [
        "<font size=\"5\">Result: Prague is the centermost EU capital, Islamabad is the centermost Asian capital. <br> In both the EU and Asia the second centermost capitals (Vienna and Kabul) have very similar average distances to the first centermost capital</font>\n",
        "\n"
      ],
      "metadata": {
        "id": "x-1-sAvZ1UFk"
      }
    }
  ]
}
