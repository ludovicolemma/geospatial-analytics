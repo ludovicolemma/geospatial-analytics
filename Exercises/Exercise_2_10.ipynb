{
  "cells": [
    {
      "cell_type": "markdown",
      "metadata": {
        "id": "ptQo7TTIqk5y"
      },
      "source": [
        "# Exercise 2.10\n",
        "\n",
        "Create a GeometryCollection with Shapely regarding an\n",
        "imaginary squared Island with a lake, a house, and a road.\n",
        "* Island: a square centered at (0, 0) with side 10\n",
        "* Lake: rectangle base 3, height 2, bottom-left corner at (-2.5, 0)\n",
        "* House: Point centered at (3, 2) with size (buffer) 1\n",
        "* Road: line connecting the lake’s center and the house’s center\n",
        "* Plot the collection using folium\n",
        "* Submit a (well-documented) notebook"
      ]
    },
    {
      "cell_type": "markdown",
      "metadata": {
        "id": "tTRLUePhyMHd"
      },
      "source": [
        "## Installing the packages"
      ]
    },
    {
      "cell_type": "code",
      "execution_count": null,
      "metadata": {
        "colab": {
          "base_uri": "https://localhost:8080/"
        },
        "id": "hOf-gq57nYRM",
        "outputId": "d2d9abde-7e62-44c1-9994-a6f083cc2171"
      },
      "outputs": [
        {
          "output_type": "stream",
          "name": "stdout",
          "text": [
            "Looking in indexes: https://pypi.org/simple, https://us-python.pkg.dev/colab-wheels/public/simple/\n",
            "Requirement already satisfied: Shapely in /usr/local/lib/python3.7/dist-packages (1.8.4)\n",
            "Looking in indexes: https://pypi.org/simple, https://us-python.pkg.dev/colab-wheels/public/simple/\n",
            "Requirement already satisfied: folium in /usr/local/lib/python3.7/dist-packages (0.12.1.post1)\n",
            "Requirement already satisfied: numpy in /usr/local/lib/python3.7/dist-packages (from folium) (1.21.6)\n",
            "Requirement already satisfied: jinja2>=2.9 in /usr/local/lib/python3.7/dist-packages (from folium) (2.11.3)\n",
            "Requirement already satisfied: requests in /usr/local/lib/python3.7/dist-packages (from folium) (2.23.0)\n",
            "Requirement already satisfied: branca>=0.3.0 in /usr/local/lib/python3.7/dist-packages (from folium) (0.5.0)\n",
            "Requirement already satisfied: MarkupSafe>=0.23 in /usr/local/lib/python3.7/dist-packages (from jinja2>=2.9->folium) (2.0.1)\n",
            "Requirement already satisfied: idna<3,>=2.5 in /usr/local/lib/python3.7/dist-packages (from requests->folium) (2.10)\n",
            "Requirement already satisfied: chardet<4,>=3.0.2 in /usr/local/lib/python3.7/dist-packages (from requests->folium) (3.0.4)\n",
            "Requirement already satisfied: certifi>=2017.4.17 in /usr/local/lib/python3.7/dist-packages (from requests->folium) (2022.6.15)\n",
            "Requirement already satisfied: urllib3!=1.25.0,!=1.25.1,<1.26,>=1.21.1 in /usr/local/lib/python3.7/dist-packages (from requests->folium) (1.24.3)\n",
            "Looking in indexes: https://pypi.org/simple, https://us-python.pkg.dev/colab-wheels/public/simple/\n",
            "Collecting Fiona\n",
            "  Downloading Fiona-1.8.21-cp37-cp37m-manylinux2014_x86_64.whl (16.7 MB)\n",
            "\u001b[K     |████████████████████████████████| 16.7 MB 5.3 MB/s \n",
            "\u001b[?25hRequirement already satisfied: six>=1.7 in /usr/local/lib/python3.7/dist-packages (from Fiona) (1.15.0)\n",
            "Collecting cligj>=0.5\n",
            "  Downloading cligj-0.7.2-py3-none-any.whl (7.1 kB)\n",
            "Requirement already satisfied: click>=4.0 in /usr/local/lib/python3.7/dist-packages (from Fiona) (7.1.2)\n",
            "Collecting click-plugins>=1.0\n",
            "  Downloading click_plugins-1.1.1-py2.py3-none-any.whl (7.5 kB)\n",
            "Collecting munch\n",
            "  Downloading munch-2.5.0-py2.py3-none-any.whl (10 kB)\n",
            "Requirement already satisfied: setuptools in /usr/local/lib/python3.7/dist-packages (from Fiona) (57.4.0)\n",
            "Requirement already satisfied: certifi in /usr/local/lib/python3.7/dist-packages (from Fiona) (2022.6.15)\n",
            "Requirement already satisfied: attrs>=17 in /usr/local/lib/python3.7/dist-packages (from Fiona) (22.1.0)\n",
            "Installing collected packages: munch, cligj, click-plugins, Fiona\n",
            "Successfully installed Fiona-1.8.21 click-plugins-1.1.1 cligj-0.7.2 munch-2.5.0\n",
            "Looking in indexes: https://pypi.org/simple, https://us-python.pkg.dev/colab-wheels/public/simple/\n",
            "Collecting pyproj\n",
            "  Downloading pyproj-3.2.1-cp37-cp37m-manylinux2010_x86_64.whl (6.3 MB)\n",
            "\u001b[K     |████████████████████████████████| 6.3 MB 5.3 MB/s \n",
            "\u001b[?25hRequirement already satisfied: certifi in /usr/local/lib/python3.7/dist-packages (from pyproj) (2022.6.15)\n",
            "Installing collected packages: pyproj\n",
            "Successfully installed pyproj-3.2.1\n",
            "Looking in indexes: https://pypi.org/simple, https://us-python.pkg.dev/colab-wheels/public/simple/\n",
            "Collecting rtree\n",
            "  Downloading Rtree-1.0.0-cp37-cp37m-manylinux_2_17_x86_64.manylinux2014_x86_64.whl (1.0 MB)\n",
            "\u001b[K     |████████████████████████████████| 1.0 MB 5.3 MB/s \n",
            "\u001b[?25hRequirement already satisfied: typing-extensions>=3.7 in /usr/local/lib/python3.7/dist-packages (from rtree) (4.1.1)\n",
            "Installing collected packages: rtree\n",
            "Successfully installed rtree-1.0.0\n",
            "Looking in indexes: https://pypi.org/simple, https://us-python.pkg.dev/colab-wheels/public/simple/\n",
            "Collecting pygeos\n",
            "  Downloading pygeos-0.13-cp37-cp37m-manylinux_2_17_x86_64.manylinux2014_x86_64.whl (2.1 MB)\n",
            "\u001b[K     |████████████████████████████████| 2.1 MB 5.3 MB/s \n",
            "\u001b[?25hRequirement already satisfied: numpy>=1.13 in /usr/local/lib/python3.7/dist-packages (from pygeos) (1.21.6)\n",
            "Installing collected packages: pygeos\n",
            "Successfully installed pygeos-0.13\n",
            "Looking in indexes: https://pypi.org/simple, https://us-python.pkg.dev/colab-wheels/public/simple/\n",
            "Collecting scikit-mobility\n",
            "  Downloading scikit_mobility-1.2.3-py3-none-any.whl (154 kB)\n",
            "\u001b[K     |████████████████████████████████| 154 kB 5.0 MB/s \n",
            "\u001b[?25hCollecting requests<3.0.0,>=2.25.1\n",
            "  Downloading requests-2.28.1-py3-none-any.whl (62 kB)\n",
            "\u001b[K     |████████████████████████████████| 62 kB 1.4 MB/s \n",
            "\u001b[?25hRequirement already satisfied: tqdm<5.0.0,>=4.60.0 in /usr/local/lib/python3.7/dist-packages (from scikit-mobility) (4.64.1)\n",
            "Collecting h3<4.0.0,>=3.7.3\n",
            "  Downloading h3-3.7.4-cp37-cp37m-manylinux_2_17_x86_64.manylinux2014_x86_64.whl (1.1 MB)\n",
            "\u001b[K     |████████████████████████████████| 1.1 MB 51.8 MB/s \n",
            "\u001b[?25hRequirement already satisfied: pandas<2.0.0,>=1.1.5 in /usr/local/lib/python3.7/dist-packages (from scikit-mobility) (1.3.5)\n",
            "Collecting powerlaw<2.0.0,>=1.4.6\n",
            "  Downloading powerlaw-1.5-py3-none-any.whl (24 kB)\n",
            "Collecting geojson<3.0.0,>=2.5.0\n",
            "  Downloading geojson-2.5.0-py2.py3-none-any.whl (14 kB)\n",
            "Collecting python-igraph<0.10.0,>=0.9.1\n",
            "  Downloading python_igraph-0.9.11-py3-none-any.whl (9.1 kB)\n",
            "Requirement already satisfied: folium==0.12.1.post1 in /usr/local/lib/python3.7/dist-packages (from scikit-mobility) (0.12.1.post1)\n",
            "Requirement already satisfied: scikit-learn in /usr/local/lib/python3.7/dist-packages (from scikit-mobility) (1.0.2)\n",
            "Requirement already satisfied: statsmodels in /usr/local/lib/python3.7/dist-packages (from scikit-mobility) (0.12.2)\n",
            "Collecting geopandas<0.10.0,>=0.9.0\n",
            "  Downloading geopandas-0.9.0-py2.py3-none-any.whl (994 kB)\n",
            "\u001b[K     |████████████████████████████████| 994 kB 58.3 MB/s \n",
            "\u001b[?25hRequirement already satisfied: branca>=0.3.0 in /usr/local/lib/python3.7/dist-packages (from folium==0.12.1.post1->scikit-mobility) (0.5.0)\n",
            "Requirement already satisfied: numpy in /usr/local/lib/python3.7/dist-packages (from folium==0.12.1.post1->scikit-mobility) (1.21.6)\n",
            "Requirement already satisfied: jinja2>=2.9 in /usr/local/lib/python3.7/dist-packages (from folium==0.12.1.post1->scikit-mobility) (2.11.3)\n",
            "Requirement already satisfied: shapely>=1.6 in /usr/local/lib/python3.7/dist-packages (from geopandas<0.10.0,>=0.9.0->scikit-mobility) (1.8.4)\n",
            "Requirement already satisfied: pyproj>=2.2.0 in /usr/local/lib/python3.7/dist-packages (from geopandas<0.10.0,>=0.9.0->scikit-mobility) (3.2.1)\n",
            "Requirement already satisfied: fiona>=1.8 in /usr/local/lib/python3.7/dist-packages (from geopandas<0.10.0,>=0.9.0->scikit-mobility) (1.8.21)\n",
            "Requirement already satisfied: cligj>=0.5 in /usr/local/lib/python3.7/dist-packages (from fiona>=1.8->geopandas<0.10.0,>=0.9.0->scikit-mobility) (0.7.2)\n",
            "Requirement already satisfied: six>=1.7 in /usr/local/lib/python3.7/dist-packages (from fiona>=1.8->geopandas<0.10.0,>=0.9.0->scikit-mobility) (1.15.0)\n",
            "Requirement already satisfied: click-plugins>=1.0 in /usr/local/lib/python3.7/dist-packages (from fiona>=1.8->geopandas<0.10.0,>=0.9.0->scikit-mobility) (1.1.1)\n",
            "Requirement already satisfied: setuptools in /usr/local/lib/python3.7/dist-packages (from fiona>=1.8->geopandas<0.10.0,>=0.9.0->scikit-mobility) (57.4.0)\n",
            "Requirement already satisfied: attrs>=17 in /usr/local/lib/python3.7/dist-packages (from fiona>=1.8->geopandas<0.10.0,>=0.9.0->scikit-mobility) (22.1.0)\n",
            "Requirement already satisfied: click>=4.0 in /usr/local/lib/python3.7/dist-packages (from fiona>=1.8->geopandas<0.10.0,>=0.9.0->scikit-mobility) (7.1.2)\n",
            "Requirement already satisfied: munch in /usr/local/lib/python3.7/dist-packages (from fiona>=1.8->geopandas<0.10.0,>=0.9.0->scikit-mobility) (2.5.0)\n",
            "Requirement already satisfied: certifi in /usr/local/lib/python3.7/dist-packages (from fiona>=1.8->geopandas<0.10.0,>=0.9.0->scikit-mobility) (2022.6.15)\n",
            "Requirement already satisfied: MarkupSafe>=0.23 in /usr/local/lib/python3.7/dist-packages (from jinja2>=2.9->folium==0.12.1.post1->scikit-mobility) (2.0.1)\n",
            "Requirement already satisfied: pytz>=2017.3 in /usr/local/lib/python3.7/dist-packages (from pandas<2.0.0,>=1.1.5->scikit-mobility) (2022.2.1)\n",
            "Requirement already satisfied: python-dateutil>=2.7.3 in /usr/local/lib/python3.7/dist-packages (from pandas<2.0.0,>=1.1.5->scikit-mobility) (2.8.2)\n",
            "Requirement already satisfied: matplotlib in /usr/local/lib/python3.7/dist-packages (from powerlaw<2.0.0,>=1.4.6->scikit-mobility) (3.2.2)\n",
            "Requirement already satisfied: scipy in /usr/local/lib/python3.7/dist-packages (from powerlaw<2.0.0,>=1.4.6->scikit-mobility) (1.7.3)\n",
            "Requirement already satisfied: mpmath in /usr/local/lib/python3.7/dist-packages (from powerlaw<2.0.0,>=1.4.6->scikit-mobility) (1.2.1)\n",
            "Collecting igraph==0.9.11\n",
            "  Downloading igraph-0.9.11-cp37-cp37m-manylinux_2_17_x86_64.manylinux2014_x86_64.whl (3.1 MB)\n",
            "\u001b[K     |████████████████████████████████| 3.1 MB 43.1 MB/s \n",
            "\u001b[?25hCollecting texttable>=1.6.2\n",
            "  Downloading texttable-1.6.4-py2.py3-none-any.whl (10 kB)\n",
            "Requirement already satisfied: idna<4,>=2.5 in /usr/local/lib/python3.7/dist-packages (from requests<3.0.0,>=2.25.1->scikit-mobility) (2.10)\n",
            "Requirement already satisfied: charset-normalizer<3,>=2 in /usr/local/lib/python3.7/dist-packages (from requests<3.0.0,>=2.25.1->scikit-mobility) (2.1.1)\n",
            "Requirement already satisfied: urllib3<1.27,>=1.21.1 in /usr/local/lib/python3.7/dist-packages (from requests<3.0.0,>=2.25.1->scikit-mobility) (1.24.3)\n",
            "Requirement already satisfied: cycler>=0.10 in /usr/local/lib/python3.7/dist-packages (from matplotlib->powerlaw<2.0.0,>=1.4.6->scikit-mobility) (0.11.0)\n",
            "Requirement already satisfied: kiwisolver>=1.0.1 in /usr/local/lib/python3.7/dist-packages (from matplotlib->powerlaw<2.0.0,>=1.4.6->scikit-mobility) (1.4.4)\n",
            "Requirement already satisfied: pyparsing!=2.0.4,!=2.1.2,!=2.1.6,>=2.0.1 in /usr/local/lib/python3.7/dist-packages (from matplotlib->powerlaw<2.0.0,>=1.4.6->scikit-mobility) (3.0.9)\n",
            "Requirement already satisfied: typing-extensions in /usr/local/lib/python3.7/dist-packages (from kiwisolver>=1.0.1->matplotlib->powerlaw<2.0.0,>=1.4.6->scikit-mobility) (4.1.1)\n",
            "Requirement already satisfied: joblib>=0.11 in /usr/local/lib/python3.7/dist-packages (from scikit-learn->scikit-mobility) (1.1.0)\n",
            "Requirement already satisfied: threadpoolctl>=2.0.0 in /usr/local/lib/python3.7/dist-packages (from scikit-learn->scikit-mobility) (3.1.0)\n",
            "Requirement already satisfied: patsy>=0.5 in /usr/local/lib/python3.7/dist-packages (from statsmodels->scikit-mobility) (0.5.2)\n",
            "Installing collected packages: texttable, requests, igraph, python-igraph, powerlaw, h3, geopandas, geojson, scikit-mobility\n",
            "  Attempting uninstall: requests\n",
            "    Found existing installation: requests 2.23.0\n",
            "    Uninstalling requests-2.23.0:\n",
            "      Successfully uninstalled requests-2.23.0\n",
            "Successfully installed geojson-2.5.0 geopandas-0.9.0 h3-3.7.4 igraph-0.9.11 powerlaw-1.5 python-igraph-0.9.11 requests-2.28.1 scikit-mobility-1.2.3 texttable-1.6.4\n",
            "Looking in indexes: https://pypi.org/simple, https://us-python.pkg.dev/colab-wheels/public/simple/\n",
            "Requirement already satisfied: geopandas in /usr/local/lib/python3.7/dist-packages (0.9.0)\n",
            "Collecting geopandas\n",
            "  Downloading geopandas-0.10.2-py2.py3-none-any.whl (1.0 MB)\n",
            "\u001b[K     |████████████████████████████████| 1.0 MB 5.2 MB/s \n",
            "\u001b[?25hRequirement already satisfied: pyproj>=2.2.0 in /usr/local/lib/python3.7/dist-packages (from geopandas) (3.2.1)\n",
            "Requirement already satisfied: pandas>=0.25.0 in /usr/local/lib/python3.7/dist-packages (from geopandas) (1.3.5)\n",
            "Requirement already satisfied: fiona>=1.8 in /usr/local/lib/python3.7/dist-packages (from geopandas) (1.8.21)\n",
            "Requirement already satisfied: shapely>=1.6 in /usr/local/lib/python3.7/dist-packages (from geopandas) (1.8.4)\n",
            "Requirement already satisfied: attrs>=17 in /usr/local/lib/python3.7/dist-packages (from fiona>=1.8->geopandas) (22.1.0)\n",
            "Requirement already satisfied: click>=4.0 in /usr/local/lib/python3.7/dist-packages (from fiona>=1.8->geopandas) (7.1.2)\n",
            "Requirement already satisfied: cligj>=0.5 in /usr/local/lib/python3.7/dist-packages (from fiona>=1.8->geopandas) (0.7.2)\n",
            "Requirement already satisfied: munch in /usr/local/lib/python3.7/dist-packages (from fiona>=1.8->geopandas) (2.5.0)\n",
            "Requirement already satisfied: six>=1.7 in /usr/local/lib/python3.7/dist-packages (from fiona>=1.8->geopandas) (1.15.0)\n",
            "Requirement already satisfied: certifi in /usr/local/lib/python3.7/dist-packages (from fiona>=1.8->geopandas) (2022.6.15)\n",
            "Requirement already satisfied: click-plugins>=1.0 in /usr/local/lib/python3.7/dist-packages (from fiona>=1.8->geopandas) (1.1.1)\n",
            "Requirement already satisfied: setuptools in /usr/local/lib/python3.7/dist-packages (from fiona>=1.8->geopandas) (57.4.0)\n",
            "Requirement already satisfied: python-dateutil>=2.7.3 in /usr/local/lib/python3.7/dist-packages (from pandas>=0.25.0->geopandas) (2.8.2)\n",
            "Requirement already satisfied: pytz>=2017.3 in /usr/local/lib/python3.7/dist-packages (from pandas>=0.25.0->geopandas) (2022.2.1)\n",
            "Requirement already satisfied: numpy>=1.17.3 in /usr/local/lib/python3.7/dist-packages (from pandas>=0.25.0->geopandas) (1.21.6)\n",
            "Installing collected packages: geopandas\n",
            "  Attempting uninstall: geopandas\n",
            "    Found existing installation: geopandas 0.9.0\n",
            "    Uninstalling geopandas-0.9.0:\n",
            "      Successfully uninstalled geopandas-0.9.0\n",
            "\u001b[31mERROR: pip's dependency resolver does not currently take into account all the packages that are installed. This behaviour is the source of the following dependency conflicts.\n",
            "scikit-mobility 1.2.3 requires geopandas<0.10.0,>=0.9.0, but you have geopandas 0.10.2 which is incompatible.\u001b[0m\n",
            "Successfully installed geopandas-0.10.2\n",
            "Looking in indexes: https://pypi.org/simple, https://us-python.pkg.dev/colab-wheels/public/simple/\n",
            "Collecting geovoronoi\n",
            "  Downloading geovoronoi-0.4.0-py3-none-any.whl (21 kB)\n",
            "Requirement already satisfied: numpy>=1.19.0 in /usr/local/lib/python3.7/dist-packages (from geovoronoi) (1.21.6)\n",
            "Requirement already satisfied: shapely>=1.7.0 in /usr/local/lib/python3.7/dist-packages (from geovoronoi) (1.8.4)\n",
            "Requirement already satisfied: scipy>=1.5.0 in /usr/local/lib/python3.7/dist-packages (from geovoronoi) (1.7.3)\n",
            "Installing collected packages: geovoronoi\n",
            "Successfully installed geovoronoi-0.4.0\n"
          ]
        }
      ],
      "source": [
        "# correct order to avoid errors\n",
        "!pip install Shapely\n",
        "!pip install folium\n",
        "!pip install Fiona\n",
        "!pip install pyproj\n",
        "!pip install rtree\n",
        "!pip install pygeos\n",
        "!pip install scikit-mobility\n",
        "!pip install -U geopandas #scikit mobilty force the installation of geopandas 0.9 for compatibiltiy but that version doesn't have some features as \"sjoin\" from geopandas\n",
        "!pip install geovoronoi"
      ]
    },
    {
      "cell_type": "markdown",
      "metadata": {
        "id": "EGWCO72v4SXN"
      },
      "source": [
        "## Importing Libraries"
      ]
    },
    {
      "cell_type": "code",
      "execution_count": null,
      "metadata": {
        "id": "mgucsAUBo52p"
      },
      "outputs": [],
      "source": [
        "%matplotlib inline\n",
        "import matplotlib.pyplot as plt\n",
        "import pandas as pd\n",
        "import geopandas as gpd\n",
        "import numpy as np\n",
        "\n",
        "import skmob\n",
        "import folium\n",
        "import random\n",
        "\n",
        "#to download and extract the shape files\n",
        "import urllib.request\n",
        "import zipfile\n",
        "import os\n",
        "\n",
        "#to perform the union of the two sets of bottom and top 1%\n",
        "from shapely.ops import unary_union\n",
        "from shapely.geometry import *"
      ]
    },
    {
      "cell_type": "markdown",
      "source": [
        "## Writing the functions to create the objects"
      ],
      "metadata": {
        "id": "mGXl9bP-Xe3b"
      }
    },
    {
      "cell_type": "code",
      "source": [
        "#Island\n",
        "island_side = 10 #island side\n",
        "island_origin = (0,0) #origin\n",
        "#Lake\n",
        "lake_base = 3\n",
        "lake_height = 2\n",
        "lake_origin = (-2.5, 0)\n",
        "#House\n",
        "house_origin = (3,2)\n",
        "house_buffer = 1\n",
        "\n",
        " #considering I have to center the square at 0, 0 I just started the square at -5, -5, so that with side 10 is centered at 0,0\n",
        "def create_island(origin, side):\n",
        "    a = origin[0]-side/2, origin[0]-side/2\n",
        "    b = origin[0]+side/2, origin[1]-side/2\n",
        "    c = origin[0]+side/2, origin[1]+side/2\n",
        "    d = origin[0]-side/2, origin[1]+side/2\n",
        "    return Polygon([a, b, c, d])\n",
        "\n",
        "def create_lake(origin, base, height):\n",
        "    a = origin\n",
        "    b = origin[0]+base, origin[1]\n",
        "    c = origin[0]+base, origin[1]+height\n",
        "    d = origin[0], origin[1]+height\n",
        "    return Polygon([a, b, c, d])\n",
        "\n",
        "def create_house(origin, buffer):\n",
        "    return Point(origin).buffer(buffer)"
      ],
      "metadata": {
        "id": "KQdpSE894D1a"
      },
      "execution_count": null,
      "outputs": []
    },
    {
      "cell_type": "markdown",
      "source": [
        "## Creating the geometries and the collection"
      ],
      "metadata": {
        "id": "rA0gem3CXazJ"
      }
    },
    {
      "cell_type": "code",
      "source": [
        "island = create_island(island_origin, island_side)\n",
        "lake = create_lake(lake_origin, lake_base, lake_height)\n",
        "house = create_house(house_origin, house_buffer)\n",
        "\n",
        "lake_center = list(lake.centroid.coords)[0]\n",
        "house_center = list(house.centroid.coords)[0]\n",
        "\n",
        "road = LineString((house_center, lake_center))\n",
        "\n",
        "collection = GeometryCollection([island, lake, house, road])\n",
        "collection"
      ],
      "metadata": {
        "colab": {
          "base_uri": "https://localhost:8080/",
          "height": 121
        },
        "id": "uigMSmyy4IOZ",
        "outputId": "ea7ee0ab-5672-4cbd-ab75-6d4a94cf1887"
      },
      "execution_count": null,
      "outputs": [
        {
          "output_type": "execute_result",
          "data": {
            "text/plain": [
              "<shapely.geometry.collection.GeometryCollection at 0x7f880c6294d0>"
            ],
            "image/svg+xml": "<svg xmlns=\"http://www.w3.org/2000/svg\" xmlns:xlink=\"http://www.w3.org/1999/xlink\" width=\"100.0\" height=\"100.0\" viewBox=\"-5.4 -5.4 10.8 10.8\" preserveAspectRatio=\"xMinYMin meet\"><g transform=\"matrix(1,0,0,-1,0,0.0)\"><g><path fill-rule=\"evenodd\" fill=\"#66cc99\" stroke=\"#555555\" stroke-width=\"0.21600000000000003\" opacity=\"0.6\" d=\"M -5.0,-5.0 L 5.0,-5.0 L 5.0,5.0 L -5.0,5.0 L -5.0,-5.0 z\" /><path fill-rule=\"evenodd\" fill=\"#66cc99\" stroke=\"#555555\" stroke-width=\"0.21600000000000003\" opacity=\"0.6\" d=\"M -2.5,0.0 L 0.5,0.0 L 0.5,2.0 L -2.5,2.0 L -2.5,0.0 z\" /><path fill-rule=\"evenodd\" fill=\"#66cc99\" stroke=\"#555555\" stroke-width=\"0.21600000000000003\" opacity=\"0.6\" d=\"M 4.0,2.0 L 3.995184726672197,1.9019828596704393 L 3.9807852804032304,1.8049096779838718 L 3.9569403357322086,1.7097153227455377 L 3.923879532511287,1.6173165676349102 L 3.881921264348355,1.5286032631740023 L 3.8314696123025453,1.4444297669803978 L 3.773010453362737,1.3656067158363545 L 3.7071067811865475,1.2928932188134525 L 3.6343932841636457,1.2269895466372631 L 3.555570233019602,1.1685303876974547 L 3.471396736825998,1.118078735651645 L 3.3826834323650896,1.0761204674887133 L 3.2902846772544625,1.043059664267791 L 3.1950903220161284,1.0192147195967696 L 3.098017140329561,1.0048152733278033 L 3.0,1.0 L 2.9019828596704396,1.004815273327803 L 2.804909677983872,1.0192147195967696 L 2.709715322745538,1.043059664267791 L 2.6173165676349104,1.0761204674887133 L 2.528603263174002,1.118078735651645 L 2.444429766980398,1.1685303876974547 L 2.3656067158363547,1.226989546637263 L 2.2928932188134525,1.2928932188134525 L 2.226989546637263,1.3656067158363545 L 2.1685303876974547,1.4444297669803978 L 2.118078735651645,1.528603263174002 L 2.076120467488713,1.6173165676349102 L 2.0430596642677914,1.7097153227455375 L 2.0192147195967696,1.8049096779838714 L 2.0048152733278033,1.9019828596704391 L 2.0,1.9999999999999998 L 2.004815273327803,2.0980171403295604 L 2.0192147195967696,2.1950903220161284 L 2.043059664267791,2.290284677254462 L 2.076120467488713,2.3826834323650896 L 2.118078735651645,2.4713967368259975 L 2.1685303876974547,2.555570233019602 L 2.226989546637263,2.6343932841636453 L 2.292893218813452,2.7071067811865475 L 2.3656067158363543,2.773010453362737 L 2.444429766980398,2.8314696123025453 L 2.528603263174002,2.881921264348355 L 2.6173165676349095,2.9238795325112865 L 2.7097153227455375,2.9569403357322086 L 2.804909677983871,2.9807852804032304 L 2.9019828596704396,2.995184726672197 L 3.0,3.0 L 3.09801714032956,2.995184726672197 L 3.1950903220161284,2.9807852804032304 L 3.290284677254462,2.956940335732209 L 3.38268343236509,2.9238795325112865 L 3.4713967368259975,2.881921264348355 L 3.5555702330196017,2.8314696123025453 L 3.6343932841636457,2.773010453362737 L 3.7071067811865475,2.707106781186548 L 3.773010453362737,2.6343932841636457 L 3.8314696123025453,2.555570233019602 L 3.881921264348355,2.471396736825998 L 3.9238795325112865,2.3826834323650905 L 3.9569403357322086,2.2902846772544625 L 3.9807852804032304,2.195090322016129 L 3.995184726672197,2.0980171403295604 L 4.0,2.0 z\" /><polyline fill=\"none\" stroke=\"#66cc99\" stroke-width=\"0.21600000000000003\" points=\"3.0000000000000004,1.9999999999999991 -1.0,1.0\" opacity=\"0.8\" /></g></g></svg>"
          },
          "metadata": {},
          "execution_count": 4
        }
      ]
    },
    {
      "cell_type": "markdown",
      "source": [
        "## Plotting the result"
      ],
      "metadata": {
        "id": "nPXcgpARXlWJ"
      }
    },
    {
      "cell_type": "code",
      "source": [
        "mappa = folium.Map(location = island_origin, zoom_start = 5)\n",
        "folium.GeoJson(collection).add_to(mappa)\n",
        "mappa"
      ],
      "metadata": {
        "colab": {
          "base_uri": "https://localhost:8080/",
          "height": 1000
        },
        "id": "TuS3UZ2VOOPk",
        "outputId": "a3953fcb-1e90-492a-b249-ea6a7de310cf"
      },
      "execution_count": null,
      "outputs": [
        {
          "output_type": "execute_result",
          "data": {
            "text/plain": [
              "<folium.folium.Map at 0x7f881a73e050>"
            ],
            "text/html": [
              "<div style=\"width:100%;\"><div style=\"position:relative;width:100%;height:0;padding-bottom:60%;\"><span style=\"color:#565656\">Make this Notebook Trusted to load map: File -> Trust Notebook</span><iframe srcdoc=\"&lt;!DOCTYPE html&gt;\n",
              "&lt;head&gt;    \n",
              "    &lt;meta http-equiv=&quot;content-type&quot; content=&quot;text/html; charset=UTF-8&quot; /&gt;\n",
              "    \n",
              "        &lt;script&gt;\n",
              "            L_NO_TOUCH = false;\n",
              "            L_DISABLE_3D = false;\n",
              "        &lt;/script&gt;\n",
              "    \n",
              "    &lt;style&gt;html, body {width: 100%;height: 100%;margin: 0;padding: 0;}&lt;/style&gt;\n",
              "    &lt;style&gt;#map {position:absolute;top:0;bottom:0;right:0;left:0;}&lt;/style&gt;\n",
              "    &lt;script src=&quot;https://cdn.jsdelivr.net/npm/leaflet@1.6.0/dist/leaflet.js&quot;&gt;&lt;/script&gt;\n",
              "    &lt;script src=&quot;https://code.jquery.com/jquery-1.12.4.min.js&quot;&gt;&lt;/script&gt;\n",
              "    &lt;script src=&quot;https://maxcdn.bootstrapcdn.com/bootstrap/3.2.0/js/bootstrap.min.js&quot;&gt;&lt;/script&gt;\n",
              "    &lt;script src=&quot;https://cdnjs.cloudflare.com/ajax/libs/Leaflet.awesome-markers/2.0.2/leaflet.awesome-markers.js&quot;&gt;&lt;/script&gt;\n",
              "    &lt;link rel=&quot;stylesheet&quot; href=&quot;https://cdn.jsdelivr.net/npm/leaflet@1.6.0/dist/leaflet.css&quot;/&gt;\n",
              "    &lt;link rel=&quot;stylesheet&quot; href=&quot;https://maxcdn.bootstrapcdn.com/bootstrap/3.2.0/css/bootstrap.min.css&quot;/&gt;\n",
              "    &lt;link rel=&quot;stylesheet&quot; href=&quot;https://maxcdn.bootstrapcdn.com/bootstrap/3.2.0/css/bootstrap-theme.min.css&quot;/&gt;\n",
              "    &lt;link rel=&quot;stylesheet&quot; href=&quot;https://maxcdn.bootstrapcdn.com/font-awesome/4.6.3/css/font-awesome.min.css&quot;/&gt;\n",
              "    &lt;link rel=&quot;stylesheet&quot; href=&quot;https://cdnjs.cloudflare.com/ajax/libs/Leaflet.awesome-markers/2.0.2/leaflet.awesome-markers.css&quot;/&gt;\n",
              "    &lt;link rel=&quot;stylesheet&quot; href=&quot;https://cdn.jsdelivr.net/gh/python-visualization/folium/folium/templates/leaflet.awesome.rotate.min.css&quot;/&gt;\n",
              "    \n",
              "            &lt;meta name=&quot;viewport&quot; content=&quot;width=device-width,\n",
              "                initial-scale=1.0, maximum-scale=1.0, user-scalable=no&quot; /&gt;\n",
              "            &lt;style&gt;\n",
              "                #map_7386800a1f2519b48f18421acf706215 {\n",
              "                    position: relative;\n",
              "                    width: 100.0%;\n",
              "                    height: 100.0%;\n",
              "                    left: 0.0%;\n",
              "                    top: 0.0%;\n",
              "                }\n",
              "            &lt;/style&gt;\n",
              "        \n",
              "&lt;/head&gt;\n",
              "&lt;body&gt;    \n",
              "    \n",
              "            &lt;div class=&quot;folium-map&quot; id=&quot;map_7386800a1f2519b48f18421acf706215&quot; &gt;&lt;/div&gt;\n",
              "        \n",
              "&lt;/body&gt;\n",
              "&lt;script&gt;    \n",
              "    \n",
              "            var map_7386800a1f2519b48f18421acf706215 = L.map(\n",
              "                &quot;map_7386800a1f2519b48f18421acf706215&quot;,\n",
              "                {\n",
              "                    center: [0.0, 0.0],\n",
              "                    crs: L.CRS.EPSG3857,\n",
              "                    zoom: 5,\n",
              "                    zoomControl: true,\n",
              "                    preferCanvas: false,\n",
              "                }\n",
              "            );\n",
              "\n",
              "            \n",
              "\n",
              "        \n",
              "    \n",
              "            var tile_layer_8f244f3aa35c0bcbbd97edcbf3e42334 = L.tileLayer(\n",
              "                &quot;https://{s}.tile.openstreetmap.org/{z}/{x}/{y}.png&quot;,\n",
              "                {&quot;attribution&quot;: &quot;Data by \\u0026copy; \\u003ca href=\\&quot;http://openstreetmap.org\\&quot;\\u003eOpenStreetMap\\u003c/a\\u003e, under \\u003ca href=\\&quot;http://www.openstreetmap.org/copyright\\&quot;\\u003eODbL\\u003c/a\\u003e.&quot;, &quot;detectRetina&quot;: false, &quot;maxNativeZoom&quot;: 18, &quot;maxZoom&quot;: 18, &quot;minZoom&quot;: 0, &quot;noWrap&quot;: false, &quot;opacity&quot;: 1, &quot;subdomains&quot;: &quot;abc&quot;, &quot;tms&quot;: false}\n",
              "            ).addTo(map_7386800a1f2519b48f18421acf706215);\n",
              "        \n",
              "    \n",
              "\n",
              "        function geo_json_84898db861909d551fa892733b0d9ff7_onEachFeature(feature, layer) {\n",
              "            layer.on({\n",
              "            });\n",
              "        };\n",
              "        var geo_json_84898db861909d551fa892733b0d9ff7 = L.geoJson(null, {\n",
              "                onEachFeature: geo_json_84898db861909d551fa892733b0d9ff7_onEachFeature,\n",
              "            \n",
              "        });\n",
              "\n",
              "        function geo_json_84898db861909d551fa892733b0d9ff7_add (data) {\n",
              "            geo_json_84898db861909d551fa892733b0d9ff7\n",
              "                .addData(data)\n",
              "                .addTo(map_7386800a1f2519b48f18421acf706215);\n",
              "        }\n",
              "            geo_json_84898db861909d551fa892733b0d9ff7_add({&quot;geometries&quot;: [{&quot;coordinates&quot;: [[[-5.0, -5.0], [5.0, -5.0], [5.0, 5.0], [-5.0, 5.0], [-5.0, -5.0]]], &quot;type&quot;: &quot;Polygon&quot;}, {&quot;coordinates&quot;: [[[-2.5, 0.0], [0.5, 0.0], [0.5, 2.0], [-2.5, 2.0], [-2.5, 0.0]]], &quot;type&quot;: &quot;Polygon&quot;}, {&quot;coordinates&quot;: [[[4.0, 2.0], [3.995184726672197, 1.9019828596704393], [3.9807852804032304, 1.8049096779838718], [3.9569403357322086, 1.7097153227455377], [3.923879532511287, 1.6173165676349102], [3.881921264348355, 1.5286032631740023], [3.8314696123025453, 1.4444297669803978], [3.773010453362737, 1.3656067158363545], [3.7071067811865475, 1.2928932188134525], [3.6343932841636457, 1.2269895466372631], [3.555570233019602, 1.1685303876974547], [3.471396736825998, 1.118078735651645], [3.3826834323650896, 1.0761204674887133], [3.2902846772544625, 1.043059664267791], [3.1950903220161284, 1.0192147195967696], [3.098017140329561, 1.0048152733278033], [3.0, 1.0], [2.9019828596704396, 1.004815273327803], [2.804909677983872, 1.0192147195967696], [2.709715322745538, 1.043059664267791], [2.6173165676349104, 1.0761204674887133], [2.528603263174002, 1.118078735651645], [2.444429766980398, 1.1685303876974547], [2.3656067158363547, 1.226989546637263], [2.2928932188134525, 1.2928932188134525], [2.226989546637263, 1.3656067158363545], [2.1685303876974547, 1.4444297669803978], [2.118078735651645, 1.528603263174002], [2.076120467488713, 1.6173165676349102], [2.0430596642677914, 1.7097153227455375], [2.0192147195967696, 1.8049096779838714], [2.0048152733278033, 1.9019828596704391], [2.0, 1.9999999999999998], [2.004815273327803, 2.0980171403295604], [2.0192147195967696, 2.1950903220161284], [2.043059664267791, 2.290284677254462], [2.076120467488713, 2.3826834323650896], [2.118078735651645, 2.4713967368259975], [2.1685303876974547, 2.555570233019602], [2.226989546637263, 2.6343932841636453], [2.292893218813452, 2.7071067811865475], [2.3656067158363543, 2.773010453362737], [2.444429766980398, 2.8314696123025453], [2.528603263174002, 2.881921264348355], [2.6173165676349095, 2.9238795325112865], [2.7097153227455375, 2.9569403357322086], [2.804909677983871, 2.9807852804032304], [2.9019828596704396, 2.995184726672197], [3.0, 3.0], [3.09801714032956, 2.995184726672197], [3.1950903220161284, 2.9807852804032304], [3.290284677254462, 2.956940335732209], [3.38268343236509, 2.9238795325112865], [3.4713967368259975, 2.881921264348355], [3.5555702330196017, 2.8314696123025453], [3.6343932841636457, 2.773010453362737], [3.7071067811865475, 2.707106781186548], [3.773010453362737, 2.6343932841636457], [3.8314696123025453, 2.555570233019602], [3.881921264348355, 2.471396736825998], [3.9238795325112865, 2.3826834323650905], [3.9569403357322086, 2.2902846772544625], [3.9807852804032304, 2.195090322016129], [3.995184726672197, 2.0980171403295604], [4.0, 2.0]]], &quot;type&quot;: &quot;Polygon&quot;}, {&quot;coordinates&quot;: [[3.0000000000000004, 1.9999999999999991], [-1.0, 1.0]], &quot;type&quot;: &quot;LineString&quot;}], &quot;type&quot;: &quot;GeometryCollection&quot;});\n",
              "\n",
              "        \n",
              "&lt;/script&gt;\" style=\"position:absolute;width:100%;height:100%;left:0;top:0;border:none !important;\" allowfullscreen webkitallowfullscreen mozallowfullscreen></iframe></div></div>"
            ]
          },
          "metadata": {},
          "execution_count": 5
        }
      ]
    }
  ],
  "metadata": {
    "colab": {
      "collapsed_sections": [],
      "provenance": []
    },
    "kernelspec": {
      "display_name": "Python 3",
      "name": "python3"
    },
    "language_info": {
      "name": "python"
    }
  },
  "nbformat": 4,
  "nbformat_minor": 0
}