{
  "cells": [
    {
      "cell_type": "markdown",
      "metadata": {
        "id": "ptQo7TTIqk5y"
      },
      "source": [
        "# Exercise 2.11\n",
        "\n",
        "Several \"Los Pollos Hermanos\" vans, carrying large quantities of methamphetamine (meth), were attacked by a drug cartel 10 times in an area in New Mexico. The DEA thinks the meth lab is at the centroid of this area.\n",
        "* Randomly generate the attacks’ points in New Mexico\n",
        "* Compute the smallest polygon that contains all the points corresponding to the attacks\n",
        "* Create a GeometryCollection that contains New Mexico, the polygon, and the points within it\n",
        "* Visualize the collection and the centroid in folium (use markers for points, color the centroid differently)\n",
        "* Submit a (well-commented) notebook"
      ]
    },
    {
      "cell_type": "markdown",
      "metadata": {
        "id": "tTRLUePhyMHd"
      },
      "source": [
        "## Installing the packages"
      ]
    },
    {
      "cell_type": "code",
      "execution_count": null,
      "metadata": {
        "colab": {
          "base_uri": "https://localhost:8080/"
        },
        "id": "hOf-gq57nYRM",
        "outputId": "67ada56f-a192-457c-9192-d0400857f0e6"
      },
      "outputs": [
        {
          "output_type": "stream",
          "name": "stdout",
          "text": [
            "Looking in indexes: https://pypi.org/simple, https://us-python.pkg.dev/colab-wheels/public/simple/\n",
            "Requirement already satisfied: Shapely in /usr/local/lib/python3.7/dist-packages (1.8.4)\n",
            "Looking in indexes: https://pypi.org/simple, https://us-python.pkg.dev/colab-wheels/public/simple/\n",
            "Requirement already satisfied: folium in /usr/local/lib/python3.7/dist-packages (0.12.1.post1)\n",
            "Requirement already satisfied: jinja2>=2.9 in /usr/local/lib/python3.7/dist-packages (from folium) (2.11.3)\n",
            "Requirement already satisfied: branca>=0.3.0 in /usr/local/lib/python3.7/dist-packages (from folium) (0.5.0)\n",
            "Requirement already satisfied: requests in /usr/local/lib/python3.7/dist-packages (from folium) (2.23.0)\n",
            "Requirement already satisfied: numpy in /usr/local/lib/python3.7/dist-packages (from folium) (1.21.6)\n",
            "Requirement already satisfied: MarkupSafe>=0.23 in /usr/local/lib/python3.7/dist-packages (from jinja2>=2.9->folium) (2.0.1)\n",
            "Requirement already satisfied: urllib3!=1.25.0,!=1.25.1,<1.26,>=1.21.1 in /usr/local/lib/python3.7/dist-packages (from requests->folium) (1.24.3)\n",
            "Requirement already satisfied: chardet<4,>=3.0.2 in /usr/local/lib/python3.7/dist-packages (from requests->folium) (3.0.4)\n",
            "Requirement already satisfied: idna<3,>=2.5 in /usr/local/lib/python3.7/dist-packages (from requests->folium) (2.10)\n",
            "Requirement already satisfied: certifi>=2017.4.17 in /usr/local/lib/python3.7/dist-packages (from requests->folium) (2022.6.15)\n",
            "Looking in indexes: https://pypi.org/simple, https://us-python.pkg.dev/colab-wheels/public/simple/\n",
            "Collecting Fiona\n",
            "  Downloading Fiona-1.8.21-cp37-cp37m-manylinux2014_x86_64.whl (16.7 MB)\n",
            "\u001b[K     |████████████████████████████████| 16.7 MB 323 kB/s \n",
            "\u001b[?25hRequirement already satisfied: six>=1.7 in /usr/local/lib/python3.7/dist-packages (from Fiona) (1.15.0)\n",
            "Requirement already satisfied: setuptools in /usr/local/lib/python3.7/dist-packages (from Fiona) (57.4.0)\n",
            "Requirement already satisfied: attrs>=17 in /usr/local/lib/python3.7/dist-packages (from Fiona) (22.1.0)\n",
            "Collecting munch\n",
            "  Downloading munch-2.5.0-py2.py3-none-any.whl (10 kB)\n",
            "Requirement already satisfied: click>=4.0 in /usr/local/lib/python3.7/dist-packages (from Fiona) (7.1.2)\n",
            "Requirement already satisfied: certifi in /usr/local/lib/python3.7/dist-packages (from Fiona) (2022.6.15)\n",
            "Collecting click-plugins>=1.0\n",
            "  Downloading click_plugins-1.1.1-py2.py3-none-any.whl (7.5 kB)\n",
            "Collecting cligj>=0.5\n",
            "  Downloading cligj-0.7.2-py3-none-any.whl (7.1 kB)\n",
            "Installing collected packages: munch, cligj, click-plugins, Fiona\n",
            "Successfully installed Fiona-1.8.21 click-plugins-1.1.1 cligj-0.7.2 munch-2.5.0\n",
            "Looking in indexes: https://pypi.org/simple, https://us-python.pkg.dev/colab-wheels/public/simple/\n",
            "Collecting pyproj\n",
            "  Downloading pyproj-3.2.1-cp37-cp37m-manylinux2010_x86_64.whl (6.3 MB)\n",
            "\u001b[K     |████████████████████████████████| 6.3 MB 5.1 MB/s \n",
            "\u001b[?25hRequirement already satisfied: certifi in /usr/local/lib/python3.7/dist-packages (from pyproj) (2022.6.15)\n",
            "Installing collected packages: pyproj\n",
            "Successfully installed pyproj-3.2.1\n",
            "Looking in indexes: https://pypi.org/simple, https://us-python.pkg.dev/colab-wheels/public/simple/\n",
            "Collecting rtree\n",
            "  Downloading Rtree-1.0.0-cp37-cp37m-manylinux_2_17_x86_64.manylinux2014_x86_64.whl (1.0 MB)\n",
            "\u001b[K     |████████████████████████████████| 1.0 MB 5.2 MB/s \n",
            "\u001b[?25hRequirement already satisfied: typing-extensions>=3.7 in /usr/local/lib/python3.7/dist-packages (from rtree) (4.1.1)\n",
            "Installing collected packages: rtree\n",
            "Successfully installed rtree-1.0.0\n",
            "Looking in indexes: https://pypi.org/simple, https://us-python.pkg.dev/colab-wheels/public/simple/\n",
            "Collecting pygeos\n",
            "  Downloading pygeos-0.13-cp37-cp37m-manylinux_2_17_x86_64.manylinux2014_x86_64.whl (2.1 MB)\n",
            "\u001b[K     |████████████████████████████████| 2.1 MB 5.1 MB/s \n",
            "\u001b[?25hRequirement already satisfied: numpy>=1.13 in /usr/local/lib/python3.7/dist-packages (from pygeos) (1.21.6)\n",
            "Installing collected packages: pygeos\n",
            "Successfully installed pygeos-0.13\n",
            "Looking in indexes: https://pypi.org/simple, https://us-python.pkg.dev/colab-wheels/public/simple/\n",
            "Collecting scikit-mobility\n",
            "  Downloading scikit_mobility-1.2.3-py3-none-any.whl (154 kB)\n",
            "\u001b[K     |████████████████████████████████| 154 kB 4.8 MB/s \n",
            "\u001b[?25hRequirement already satisfied: statsmodels in /usr/local/lib/python3.7/dist-packages (from scikit-mobility) (0.12.2)\n",
            "Collecting powerlaw<2.0.0,>=1.4.6\n",
            "  Downloading powerlaw-1.5-py3-none-any.whl (24 kB)\n",
            "Requirement already satisfied: tqdm<5.0.0,>=4.60.0 in /usr/local/lib/python3.7/dist-packages (from scikit-mobility) (4.64.1)\n",
            "Requirement already satisfied: pandas<2.0.0,>=1.1.5 in /usr/local/lib/python3.7/dist-packages (from scikit-mobility) (1.3.5)\n",
            "Requirement already satisfied: folium==0.12.1.post1 in /usr/local/lib/python3.7/dist-packages (from scikit-mobility) (0.12.1.post1)\n",
            "Collecting h3<4.0.0,>=3.7.3\n",
            "  Downloading h3-3.7.4-cp37-cp37m-manylinux_2_17_x86_64.manylinux2014_x86_64.whl (1.1 MB)\n",
            "\u001b[K     |████████████████████████████████| 1.1 MB 52.0 MB/s \n",
            "\u001b[?25hRequirement already satisfied: scikit-learn in /usr/local/lib/python3.7/dist-packages (from scikit-mobility) (1.0.2)\n",
            "Collecting python-igraph<0.10.0,>=0.9.1\n",
            "  Downloading python_igraph-0.9.11-py3-none-any.whl (9.1 kB)\n",
            "Collecting requests<3.0.0,>=2.25.1\n",
            "  Downloading requests-2.28.1-py3-none-any.whl (62 kB)\n",
            "\u001b[K     |████████████████████████████████| 62 kB 1.8 MB/s \n",
            "\u001b[?25hCollecting geopandas<0.10.0,>=0.9.0\n",
            "  Downloading geopandas-0.9.0-py2.py3-none-any.whl (994 kB)\n",
            "\u001b[K     |████████████████████████████████| 994 kB 48.6 MB/s \n",
            "\u001b[?25hCollecting geojson<3.0.0,>=2.5.0\n",
            "  Downloading geojson-2.5.0-py2.py3-none-any.whl (14 kB)\n",
            "Requirement already satisfied: numpy in /usr/local/lib/python3.7/dist-packages (from folium==0.12.1.post1->scikit-mobility) (1.21.6)\n",
            "Requirement already satisfied: jinja2>=2.9 in /usr/local/lib/python3.7/dist-packages (from folium==0.12.1.post1->scikit-mobility) (2.11.3)\n",
            "Requirement already satisfied: branca>=0.3.0 in /usr/local/lib/python3.7/dist-packages (from folium==0.12.1.post1->scikit-mobility) (0.5.0)\n",
            "Requirement already satisfied: shapely>=1.6 in /usr/local/lib/python3.7/dist-packages (from geopandas<0.10.0,>=0.9.0->scikit-mobility) (1.8.4)\n",
            "Requirement already satisfied: fiona>=1.8 in /usr/local/lib/python3.7/dist-packages (from geopandas<0.10.0,>=0.9.0->scikit-mobility) (1.8.21)\n",
            "Requirement already satisfied: pyproj>=2.2.0 in /usr/local/lib/python3.7/dist-packages (from geopandas<0.10.0,>=0.9.0->scikit-mobility) (3.2.1)\n",
            "Requirement already satisfied: cligj>=0.5 in /usr/local/lib/python3.7/dist-packages (from fiona>=1.8->geopandas<0.10.0,>=0.9.0->scikit-mobility) (0.7.2)\n",
            "Requirement already satisfied: munch in /usr/local/lib/python3.7/dist-packages (from fiona>=1.8->geopandas<0.10.0,>=0.9.0->scikit-mobility) (2.5.0)\n",
            "Requirement already satisfied: click>=4.0 in /usr/local/lib/python3.7/dist-packages (from fiona>=1.8->geopandas<0.10.0,>=0.9.0->scikit-mobility) (7.1.2)\n",
            "Requirement already satisfied: certifi in /usr/local/lib/python3.7/dist-packages (from fiona>=1.8->geopandas<0.10.0,>=0.9.0->scikit-mobility) (2022.6.15)\n",
            "Requirement already satisfied: setuptools in /usr/local/lib/python3.7/dist-packages (from fiona>=1.8->geopandas<0.10.0,>=0.9.0->scikit-mobility) (57.4.0)\n",
            "Requirement already satisfied: click-plugins>=1.0 in /usr/local/lib/python3.7/dist-packages (from fiona>=1.8->geopandas<0.10.0,>=0.9.0->scikit-mobility) (1.1.1)\n",
            "Requirement already satisfied: attrs>=17 in /usr/local/lib/python3.7/dist-packages (from fiona>=1.8->geopandas<0.10.0,>=0.9.0->scikit-mobility) (22.1.0)\n",
            "Requirement already satisfied: six>=1.7 in /usr/local/lib/python3.7/dist-packages (from fiona>=1.8->geopandas<0.10.0,>=0.9.0->scikit-mobility) (1.15.0)\n",
            "Requirement already satisfied: MarkupSafe>=0.23 in /usr/local/lib/python3.7/dist-packages (from jinja2>=2.9->folium==0.12.1.post1->scikit-mobility) (2.0.1)\n",
            "Requirement already satisfied: python-dateutil>=2.7.3 in /usr/local/lib/python3.7/dist-packages (from pandas<2.0.0,>=1.1.5->scikit-mobility) (2.8.2)\n",
            "Requirement already satisfied: pytz>=2017.3 in /usr/local/lib/python3.7/dist-packages (from pandas<2.0.0,>=1.1.5->scikit-mobility) (2022.2.1)\n",
            "Requirement already satisfied: scipy in /usr/local/lib/python3.7/dist-packages (from powerlaw<2.0.0,>=1.4.6->scikit-mobility) (1.7.3)\n",
            "Requirement already satisfied: matplotlib in /usr/local/lib/python3.7/dist-packages (from powerlaw<2.0.0,>=1.4.6->scikit-mobility) (3.2.2)\n",
            "Requirement already satisfied: mpmath in /usr/local/lib/python3.7/dist-packages (from powerlaw<2.0.0,>=1.4.6->scikit-mobility) (1.2.1)\n",
            "Collecting igraph==0.9.11\n",
            "  Downloading igraph-0.9.11-cp37-cp37m-manylinux_2_17_x86_64.manylinux2014_x86_64.whl (3.1 MB)\n",
            "\u001b[K     |████████████████████████████████| 3.1 MB 56.8 MB/s \n",
            "\u001b[?25hCollecting texttable>=1.6.2\n",
            "  Downloading texttable-1.6.4-py2.py3-none-any.whl (10 kB)\n",
            "Requirement already satisfied: charset-normalizer<3,>=2 in /usr/local/lib/python3.7/dist-packages (from requests<3.0.0,>=2.25.1->scikit-mobility) (2.1.1)\n",
            "Requirement already satisfied: idna<4,>=2.5 in /usr/local/lib/python3.7/dist-packages (from requests<3.0.0,>=2.25.1->scikit-mobility) (2.10)\n",
            "Requirement already satisfied: urllib3<1.27,>=1.21.1 in /usr/local/lib/python3.7/dist-packages (from requests<3.0.0,>=2.25.1->scikit-mobility) (1.24.3)\n",
            "Requirement already satisfied: cycler>=0.10 in /usr/local/lib/python3.7/dist-packages (from matplotlib->powerlaw<2.0.0,>=1.4.6->scikit-mobility) (0.11.0)\n",
            "Requirement already satisfied: pyparsing!=2.0.4,!=2.1.2,!=2.1.6,>=2.0.1 in /usr/local/lib/python3.7/dist-packages (from matplotlib->powerlaw<2.0.0,>=1.4.6->scikit-mobility) (3.0.9)\n",
            "Requirement already satisfied: kiwisolver>=1.0.1 in /usr/local/lib/python3.7/dist-packages (from matplotlib->powerlaw<2.0.0,>=1.4.6->scikit-mobility) (1.4.4)\n",
            "Requirement already satisfied: typing-extensions in /usr/local/lib/python3.7/dist-packages (from kiwisolver>=1.0.1->matplotlib->powerlaw<2.0.0,>=1.4.6->scikit-mobility) (4.1.1)\n",
            "Requirement already satisfied: threadpoolctl>=2.0.0 in /usr/local/lib/python3.7/dist-packages (from scikit-learn->scikit-mobility) (3.1.0)\n",
            "Requirement already satisfied: joblib>=0.11 in /usr/local/lib/python3.7/dist-packages (from scikit-learn->scikit-mobility) (1.1.0)\n",
            "Requirement already satisfied: patsy>=0.5 in /usr/local/lib/python3.7/dist-packages (from statsmodels->scikit-mobility) (0.5.2)\n",
            "Installing collected packages: texttable, requests, igraph, python-igraph, powerlaw, h3, geopandas, geojson, scikit-mobility\n",
            "  Attempting uninstall: requests\n",
            "    Found existing installation: requests 2.23.0\n",
            "    Uninstalling requests-2.23.0:\n",
            "      Successfully uninstalled requests-2.23.0\n",
            "Successfully installed geojson-2.5.0 geopandas-0.9.0 h3-3.7.4 igraph-0.9.11 powerlaw-1.5 python-igraph-0.9.11 requests-2.28.1 scikit-mobility-1.2.3 texttable-1.6.4\n",
            "Looking in indexes: https://pypi.org/simple, https://us-python.pkg.dev/colab-wheels/public/simple/\n",
            "Requirement already satisfied: geopandas in /usr/local/lib/python3.7/dist-packages (0.9.0)\n",
            "Collecting geopandas\n",
            "  Downloading geopandas-0.10.2-py2.py3-none-any.whl (1.0 MB)\n",
            "\u001b[K     |████████████████████████████████| 1.0 MB 5.2 MB/s \n",
            "\u001b[?25hRequirement already satisfied: fiona>=1.8 in /usr/local/lib/python3.7/dist-packages (from geopandas) (1.8.21)\n",
            "Requirement already satisfied: pyproj>=2.2.0 in /usr/local/lib/python3.7/dist-packages (from geopandas) (3.2.1)\n",
            "Requirement already satisfied: shapely>=1.6 in /usr/local/lib/python3.7/dist-packages (from geopandas) (1.8.4)\n",
            "Requirement already satisfied: pandas>=0.25.0 in /usr/local/lib/python3.7/dist-packages (from geopandas) (1.3.5)\n",
            "Requirement already satisfied: setuptools in /usr/local/lib/python3.7/dist-packages (from fiona>=1.8->geopandas) (57.4.0)\n",
            "Requirement already satisfied: munch in /usr/local/lib/python3.7/dist-packages (from fiona>=1.8->geopandas) (2.5.0)\n",
            "Requirement already satisfied: six>=1.7 in /usr/local/lib/python3.7/dist-packages (from fiona>=1.8->geopandas) (1.15.0)\n",
            "Requirement already satisfied: attrs>=17 in /usr/local/lib/python3.7/dist-packages (from fiona>=1.8->geopandas) (22.1.0)\n",
            "Requirement already satisfied: certifi in /usr/local/lib/python3.7/dist-packages (from fiona>=1.8->geopandas) (2022.6.15)\n",
            "Requirement already satisfied: cligj>=0.5 in /usr/local/lib/python3.7/dist-packages (from fiona>=1.8->geopandas) (0.7.2)\n",
            "Requirement already satisfied: click>=4.0 in /usr/local/lib/python3.7/dist-packages (from fiona>=1.8->geopandas) (7.1.2)\n",
            "Requirement already satisfied: click-plugins>=1.0 in /usr/local/lib/python3.7/dist-packages (from fiona>=1.8->geopandas) (1.1.1)\n",
            "Requirement already satisfied: pytz>=2017.3 in /usr/local/lib/python3.7/dist-packages (from pandas>=0.25.0->geopandas) (2022.2.1)\n",
            "Requirement already satisfied: numpy>=1.17.3 in /usr/local/lib/python3.7/dist-packages (from pandas>=0.25.0->geopandas) (1.21.6)\n",
            "Requirement already satisfied: python-dateutil>=2.7.3 in /usr/local/lib/python3.7/dist-packages (from pandas>=0.25.0->geopandas) (2.8.2)\n",
            "Installing collected packages: geopandas\n",
            "  Attempting uninstall: geopandas\n",
            "    Found existing installation: geopandas 0.9.0\n",
            "    Uninstalling geopandas-0.9.0:\n",
            "      Successfully uninstalled geopandas-0.9.0\n",
            "\u001b[31mERROR: pip's dependency resolver does not currently take into account all the packages that are installed. This behaviour is the source of the following dependency conflicts.\n",
            "scikit-mobility 1.2.3 requires geopandas<0.10.0,>=0.9.0, but you have geopandas 0.10.2 which is incompatible.\u001b[0m\n",
            "Successfully installed geopandas-0.10.2\n",
            "Looking in indexes: https://pypi.org/simple, https://us-python.pkg.dev/colab-wheels/public/simple/\n",
            "Collecting geovoronoi\n",
            "  Downloading geovoronoi-0.4.0-py3-none-any.whl (21 kB)\n",
            "Requirement already satisfied: scipy>=1.5.0 in /usr/local/lib/python3.7/dist-packages (from geovoronoi) (1.7.3)\n",
            "Requirement already satisfied: numpy>=1.19.0 in /usr/local/lib/python3.7/dist-packages (from geovoronoi) (1.21.6)\n",
            "Requirement already satisfied: shapely>=1.7.0 in /usr/local/lib/python3.7/dist-packages (from geovoronoi) (1.8.4)\n",
            "Installing collected packages: geovoronoi\n",
            "Successfully installed geovoronoi-0.4.0\n"
          ]
        }
      ],
      "source": [
        "# correct order to avoid errors\n",
        "!pip install Shapely\n",
        "!pip install folium\n",
        "!pip install Fiona\n",
        "!pip install pyproj\n",
        "!pip install rtree\n",
        "!pip install pygeos\n",
        "!pip install scikit-mobility\n",
        "!pip install -U geopandas #scikit mobilty force the installation of geopandas 0.9 for compatibiltiy but that version doesn't have some features as \"sjoin\" from geopandas\n",
        "!pip install geovoronoi"
      ]
    },
    {
      "cell_type": "markdown",
      "metadata": {
        "id": "EGWCO72v4SXN"
      },
      "source": [
        "## Importing Libraries"
      ]
    },
    {
      "cell_type": "code",
      "execution_count": null,
      "metadata": {
        "id": "mgucsAUBo52p"
      },
      "outputs": [],
      "source": [
        "%matplotlib inline\n",
        "import matplotlib.pyplot as plt\n",
        "import pandas as pd\n",
        "import geopandas as gpd\n",
        "import numpy as np\n",
        "\n",
        "import skmob\n",
        "import folium\n",
        "import random\n",
        "\n",
        "#to download and extract the shape files\n",
        "import urllib.request\n",
        "import zipfile\n",
        "import os\n",
        "\n",
        "#to perform the union of the two sets of bottom and top 1%\n",
        "from shapely.ops import unary_union\n",
        "from shapely.geometry import *"
      ]
    },
    {
      "cell_type": "markdown",
      "source": [
        "## Downloading a file with US states geometries"
      ],
      "metadata": {
        "id": "byLWNU-ieL9I"
      }
    },
    {
      "cell_type": "code",
      "source": [
        "file_name = 'gz_2010_us_040_00_500k.zip'\n",
        "\n",
        "#downloading a shp with the italian regions\n",
        "urllib.request.urlretrieve('https://eric.clst.org/assets/wiki/uploads/Stuff/gz_2010_us_040_00_500k.zip', file_name)\n",
        "\n",
        "#extracting the zipped files\n",
        "with zipfile.ZipFile(file_name, 'r') as zip_ref:\n",
        "    zip_ref.extractall()\n",
        "#removing the zip\n",
        "os.remove(file_name)\n",
        "\n",
        "#getting the shp files from the directory\n",
        "shape_files = [x for x in os.listdir(file_name[:-4]) if x[-3:] == 'shp']\n",
        "print(shape_files)\n",
        "\n",
        "#storing the path to the file\n",
        "path_to_file = f'{file_name[:-4]}/{shape_files[0]}'\n",
        "path_to_file"
      ],
      "metadata": {
        "colab": {
          "base_uri": "https://localhost:8080/",
          "height": 53
        },
        "id": "H9Daw0uicta5",
        "outputId": "489f59e4-c682-4b48-830e-eccd6aacfdac"
      },
      "execution_count": null,
      "outputs": [
        {
          "output_type": "stream",
          "name": "stdout",
          "text": [
            "['gz_2010_us_040_00_500k.shp']\n"
          ]
        },
        {
          "output_type": "execute_result",
          "data": {
            "text/plain": [
              "'gz_2010_us_040_00_500k/gz_2010_us_040_00_500k.shp'"
            ],
            "application/vnd.google.colaboratory.intrinsic+json": {
              "type": "string"
            }
          },
          "metadata": {},
          "execution_count": 3
        }
      ]
    },
    {
      "cell_type": "code",
      "source": [
        "us_states = gpd.read_file(path_to_file) #loading the shape file to a gpd\n",
        "us_states.head() #visualizing the df"
      ],
      "metadata": {
        "colab": {
          "base_uri": "https://localhost:8080/",
          "height": 206
        },
        "id": "xNn1TYXcd7xN",
        "outputId": "64eecd20-feb2-4e1b-a637-23c2f4552a7e"
      },
      "execution_count": null,
      "outputs": [
        {
          "output_type": "execute_result",
          "data": {
            "text/plain": [
              "        GEO_ID STATE           NAME  LSAD  CENSUSAREA  \\\n",
              "0  0400000US23    23          Maine  None   30842.923   \n",
              "1  0400000US25    25  Massachusetts  None    7800.058   \n",
              "2  0400000US26    26       Michigan  None   56538.901   \n",
              "3  0400000US30    30        Montana  None  145545.801   \n",
              "4  0400000US32    32         Nevada  None  109781.180   \n",
              "\n",
              "                                            geometry  \n",
              "0  MULTIPOLYGON (((-67.61976 44.51975, -67.61541 ...  \n",
              "1  MULTIPOLYGON (((-70.83204 41.60650, -70.82373 ...  \n",
              "2  MULTIPOLYGON (((-88.68443 48.11578, -88.67563 ...  \n",
              "3  POLYGON ((-104.05770 44.99743, -104.25015 44.9...  \n",
              "4  POLYGON ((-114.05060 37.00040, -114.04999 36.9...  "
            ],
            "text/html": [
              "\n",
              "  <div id=\"df-bd17e317-e677-4d62-99e4-82d7f745887b\">\n",
              "    <div class=\"colab-df-container\">\n",
              "      <div>\n",
              "<style scoped>\n",
              "    .dataframe tbody tr th:only-of-type {\n",
              "        vertical-align: middle;\n",
              "    }\n",
              "\n",
              "    .dataframe tbody tr th {\n",
              "        vertical-align: top;\n",
              "    }\n",
              "\n",
              "    .dataframe thead th {\n",
              "        text-align: right;\n",
              "    }\n",
              "</style>\n",
              "<table border=\"1\" class=\"dataframe\">\n",
              "  <thead>\n",
              "    <tr style=\"text-align: right;\">\n",
              "      <th></th>\n",
              "      <th>GEO_ID</th>\n",
              "      <th>STATE</th>\n",
              "      <th>NAME</th>\n",
              "      <th>LSAD</th>\n",
              "      <th>CENSUSAREA</th>\n",
              "      <th>geometry</th>\n",
              "    </tr>\n",
              "  </thead>\n",
              "  <tbody>\n",
              "    <tr>\n",
              "      <th>0</th>\n",
              "      <td>0400000US23</td>\n",
              "      <td>23</td>\n",
              "      <td>Maine</td>\n",
              "      <td>None</td>\n",
              "      <td>30842.923</td>\n",
              "      <td>MULTIPOLYGON (((-67.61976 44.51975, -67.61541 ...</td>\n",
              "    </tr>\n",
              "    <tr>\n",
              "      <th>1</th>\n",
              "      <td>0400000US25</td>\n",
              "      <td>25</td>\n",
              "      <td>Massachusetts</td>\n",
              "      <td>None</td>\n",
              "      <td>7800.058</td>\n",
              "      <td>MULTIPOLYGON (((-70.83204 41.60650, -70.82373 ...</td>\n",
              "    </tr>\n",
              "    <tr>\n",
              "      <th>2</th>\n",
              "      <td>0400000US26</td>\n",
              "      <td>26</td>\n",
              "      <td>Michigan</td>\n",
              "      <td>None</td>\n",
              "      <td>56538.901</td>\n",
              "      <td>MULTIPOLYGON (((-88.68443 48.11578, -88.67563 ...</td>\n",
              "    </tr>\n",
              "    <tr>\n",
              "      <th>3</th>\n",
              "      <td>0400000US30</td>\n",
              "      <td>30</td>\n",
              "      <td>Montana</td>\n",
              "      <td>None</td>\n",
              "      <td>145545.801</td>\n",
              "      <td>POLYGON ((-104.05770 44.99743, -104.25015 44.9...</td>\n",
              "    </tr>\n",
              "    <tr>\n",
              "      <th>4</th>\n",
              "      <td>0400000US32</td>\n",
              "      <td>32</td>\n",
              "      <td>Nevada</td>\n",
              "      <td>None</td>\n",
              "      <td>109781.180</td>\n",
              "      <td>POLYGON ((-114.05060 37.00040, -114.04999 36.9...</td>\n",
              "    </tr>\n",
              "  </tbody>\n",
              "</table>\n",
              "</div>\n",
              "      <button class=\"colab-df-convert\" onclick=\"convertToInteractive('df-bd17e317-e677-4d62-99e4-82d7f745887b')\"\n",
              "              title=\"Convert this dataframe to an interactive table.\"\n",
              "              style=\"display:none;\">\n",
              "        \n",
              "  <svg xmlns=\"http://www.w3.org/2000/svg\" height=\"24px\"viewBox=\"0 0 24 24\"\n",
              "       width=\"24px\">\n",
              "    <path d=\"M0 0h24v24H0V0z\" fill=\"none\"/>\n",
              "    <path d=\"M18.56 5.44l.94 2.06.94-2.06 2.06-.94-2.06-.94-.94-2.06-.94 2.06-2.06.94zm-11 1L8.5 8.5l.94-2.06 2.06-.94-2.06-.94L8.5 2.5l-.94 2.06-2.06.94zm10 10l.94 2.06.94-2.06 2.06-.94-2.06-.94-.94-2.06-.94 2.06-2.06.94z\"/><path d=\"M17.41 7.96l-1.37-1.37c-.4-.4-.92-.59-1.43-.59-.52 0-1.04.2-1.43.59L10.3 9.45l-7.72 7.72c-.78.78-.78 2.05 0 2.83L4 21.41c.39.39.9.59 1.41.59.51 0 1.02-.2 1.41-.59l7.78-7.78 2.81-2.81c.8-.78.8-2.07 0-2.86zM5.41 20L4 18.59l7.72-7.72 1.47 1.35L5.41 20z\"/>\n",
              "  </svg>\n",
              "      </button>\n",
              "      \n",
              "  <style>\n",
              "    .colab-df-container {\n",
              "      display:flex;\n",
              "      flex-wrap:wrap;\n",
              "      gap: 12px;\n",
              "    }\n",
              "\n",
              "    .colab-df-convert {\n",
              "      background-color: #E8F0FE;\n",
              "      border: none;\n",
              "      border-radius: 50%;\n",
              "      cursor: pointer;\n",
              "      display: none;\n",
              "      fill: #1967D2;\n",
              "      height: 32px;\n",
              "      padding: 0 0 0 0;\n",
              "      width: 32px;\n",
              "    }\n",
              "\n",
              "    .colab-df-convert:hover {\n",
              "      background-color: #E2EBFA;\n",
              "      box-shadow: 0px 1px 2px rgba(60, 64, 67, 0.3), 0px 1px 3px 1px rgba(60, 64, 67, 0.15);\n",
              "      fill: #174EA6;\n",
              "    }\n",
              "\n",
              "    [theme=dark] .colab-df-convert {\n",
              "      background-color: #3B4455;\n",
              "      fill: #D2E3FC;\n",
              "    }\n",
              "\n",
              "    [theme=dark] .colab-df-convert:hover {\n",
              "      background-color: #434B5C;\n",
              "      box-shadow: 0px 1px 3px 1px rgba(0, 0, 0, 0.15);\n",
              "      filter: drop-shadow(0px 1px 2px rgba(0, 0, 0, 0.3));\n",
              "      fill: #FFFFFF;\n",
              "    }\n",
              "  </style>\n",
              "\n",
              "      <script>\n",
              "        const buttonEl =\n",
              "          document.querySelector('#df-bd17e317-e677-4d62-99e4-82d7f745887b button.colab-df-convert');\n",
              "        buttonEl.style.display =\n",
              "          google.colab.kernel.accessAllowed ? 'block' : 'none';\n",
              "\n",
              "        async function convertToInteractive(key) {\n",
              "          const element = document.querySelector('#df-bd17e317-e677-4d62-99e4-82d7f745887b');\n",
              "          const dataTable =\n",
              "            await google.colab.kernel.invokeFunction('convertToInteractive',\n",
              "                                                     [key], {});\n",
              "          if (!dataTable) return;\n",
              "\n",
              "          const docLinkHtml = 'Like what you see? Visit the ' +\n",
              "            '<a target=\"_blank\" href=https://colab.research.google.com/notebooks/data_table.ipynb>data table notebook</a>'\n",
              "            + ' to learn more about interactive tables.';\n",
              "          element.innerHTML = '';\n",
              "          dataTable['output_type'] = 'display_data';\n",
              "          await google.colab.output.renderOutput(dataTable, element);\n",
              "          const docLink = document.createElement('div');\n",
              "          docLink.innerHTML = docLinkHtml;\n",
              "          element.appendChild(docLink);\n",
              "        }\n",
              "      </script>\n",
              "    </div>\n",
              "  </div>\n",
              "  "
            ]
          },
          "metadata": {},
          "execution_count": 4
        }
      ]
    },
    {
      "cell_type": "markdown",
      "source": [
        "## Getting the New Mexico Polygon"
      ],
      "metadata": {
        "id": "Tq6n1IERepyg"
      }
    },
    {
      "cell_type": "code",
      "source": [
        "new_mexico = us_states[us_states['NAME'] == 'New Mexico'] #selecting the new mexico\n",
        "new_mexico"
      ],
      "metadata": {
        "colab": {
          "base_uri": "https://localhost:8080/",
          "height": 81
        },
        "id": "PlhjU1k3eXhn",
        "outputId": "3fd526b8-e78e-4d10-ae81-3052b7e9da24"
      },
      "execution_count": null,
      "outputs": [
        {
          "output_type": "execute_result",
          "data": {
            "text/plain": [
              "         GEO_ID STATE        NAME  LSAD  CENSUSAREA  \\\n",
              "42  0400000US35    35  New Mexico  None  121298.148   \n",
              "\n",
              "                                             geometry  \n",
              "42  POLYGON ((-109.05004 31.33250, -109.05017 31.4...  "
            ],
            "text/html": [
              "\n",
              "  <div id=\"df-d84a69b6-c168-4205-95e9-d232504afa98\">\n",
              "    <div class=\"colab-df-container\">\n",
              "      <div>\n",
              "<style scoped>\n",
              "    .dataframe tbody tr th:only-of-type {\n",
              "        vertical-align: middle;\n",
              "    }\n",
              "\n",
              "    .dataframe tbody tr th {\n",
              "        vertical-align: top;\n",
              "    }\n",
              "\n",
              "    .dataframe thead th {\n",
              "        text-align: right;\n",
              "    }\n",
              "</style>\n",
              "<table border=\"1\" class=\"dataframe\">\n",
              "  <thead>\n",
              "    <tr style=\"text-align: right;\">\n",
              "      <th></th>\n",
              "      <th>GEO_ID</th>\n",
              "      <th>STATE</th>\n",
              "      <th>NAME</th>\n",
              "      <th>LSAD</th>\n",
              "      <th>CENSUSAREA</th>\n",
              "      <th>geometry</th>\n",
              "    </tr>\n",
              "  </thead>\n",
              "  <tbody>\n",
              "    <tr>\n",
              "      <th>42</th>\n",
              "      <td>0400000US35</td>\n",
              "      <td>35</td>\n",
              "      <td>New Mexico</td>\n",
              "      <td>None</td>\n",
              "      <td>121298.148</td>\n",
              "      <td>POLYGON ((-109.05004 31.33250, -109.05017 31.4...</td>\n",
              "    </tr>\n",
              "  </tbody>\n",
              "</table>\n",
              "</div>\n",
              "      <button class=\"colab-df-convert\" onclick=\"convertToInteractive('df-d84a69b6-c168-4205-95e9-d232504afa98')\"\n",
              "              title=\"Convert this dataframe to an interactive table.\"\n",
              "              style=\"display:none;\">\n",
              "        \n",
              "  <svg xmlns=\"http://www.w3.org/2000/svg\" height=\"24px\"viewBox=\"0 0 24 24\"\n",
              "       width=\"24px\">\n",
              "    <path d=\"M0 0h24v24H0V0z\" fill=\"none\"/>\n",
              "    <path d=\"M18.56 5.44l.94 2.06.94-2.06 2.06-.94-2.06-.94-.94-2.06-.94 2.06-2.06.94zm-11 1L8.5 8.5l.94-2.06 2.06-.94-2.06-.94L8.5 2.5l-.94 2.06-2.06.94zm10 10l.94 2.06.94-2.06 2.06-.94-2.06-.94-.94-2.06-.94 2.06-2.06.94z\"/><path d=\"M17.41 7.96l-1.37-1.37c-.4-.4-.92-.59-1.43-.59-.52 0-1.04.2-1.43.59L10.3 9.45l-7.72 7.72c-.78.78-.78 2.05 0 2.83L4 21.41c.39.39.9.59 1.41.59.51 0 1.02-.2 1.41-.59l7.78-7.78 2.81-2.81c.8-.78.8-2.07 0-2.86zM5.41 20L4 18.59l7.72-7.72 1.47 1.35L5.41 20z\"/>\n",
              "  </svg>\n",
              "      </button>\n",
              "      \n",
              "  <style>\n",
              "    .colab-df-container {\n",
              "      display:flex;\n",
              "      flex-wrap:wrap;\n",
              "      gap: 12px;\n",
              "    }\n",
              "\n",
              "    .colab-df-convert {\n",
              "      background-color: #E8F0FE;\n",
              "      border: none;\n",
              "      border-radius: 50%;\n",
              "      cursor: pointer;\n",
              "      display: none;\n",
              "      fill: #1967D2;\n",
              "      height: 32px;\n",
              "      padding: 0 0 0 0;\n",
              "      width: 32px;\n",
              "    }\n",
              "\n",
              "    .colab-df-convert:hover {\n",
              "      background-color: #E2EBFA;\n",
              "      box-shadow: 0px 1px 2px rgba(60, 64, 67, 0.3), 0px 1px 3px 1px rgba(60, 64, 67, 0.15);\n",
              "      fill: #174EA6;\n",
              "    }\n",
              "\n",
              "    [theme=dark] .colab-df-convert {\n",
              "      background-color: #3B4455;\n",
              "      fill: #D2E3FC;\n",
              "    }\n",
              "\n",
              "    [theme=dark] .colab-df-convert:hover {\n",
              "      background-color: #434B5C;\n",
              "      box-shadow: 0px 1px 3px 1px rgba(0, 0, 0, 0.15);\n",
              "      filter: drop-shadow(0px 1px 2px rgba(0, 0, 0, 0.3));\n",
              "      fill: #FFFFFF;\n",
              "    }\n",
              "  </style>\n",
              "\n",
              "      <script>\n",
              "        const buttonEl =\n",
              "          document.querySelector('#df-d84a69b6-c168-4205-95e9-d232504afa98 button.colab-df-convert');\n",
              "        buttonEl.style.display =\n",
              "          google.colab.kernel.accessAllowed ? 'block' : 'none';\n",
              "\n",
              "        async function convertToInteractive(key) {\n",
              "          const element = document.querySelector('#df-d84a69b6-c168-4205-95e9-d232504afa98');\n",
              "          const dataTable =\n",
              "            await google.colab.kernel.invokeFunction('convertToInteractive',\n",
              "                                                     [key], {});\n",
              "          if (!dataTable) return;\n",
              "\n",
              "          const docLinkHtml = 'Like what you see? Visit the ' +\n",
              "            '<a target=\"_blank\" href=https://colab.research.google.com/notebooks/data_table.ipynb>data table notebook</a>'\n",
              "            + ' to learn more about interactive tables.';\n",
              "          element.innerHTML = '';\n",
              "          dataTable['output_type'] = 'display_data';\n",
              "          await google.colab.output.renderOutput(dataTable, element);\n",
              "          const docLink = document.createElement('div');\n",
              "          docLink.innerHTML = docLinkHtml;\n",
              "          element.appendChild(docLink);\n",
              "        }\n",
              "      </script>\n",
              "    </div>\n",
              "  </div>\n",
              "  "
            ]
          },
          "metadata": {},
          "execution_count": 5
        }
      ]
    },
    {
      "cell_type": "code",
      "source": [
        "nm_poly = new_mexico['geometry'].values[0] #values[0] to avoid selecting an index that may change while being 1 value it's not a problem\n",
        "nm_poly"
      ],
      "metadata": {
        "colab": {
          "base_uri": "https://localhost:8080/",
          "height": 121
        },
        "id": "pbjCbBd7emRX",
        "outputId": "086c63fd-3eee-42ba-c37e-e4398441631c"
      },
      "execution_count": null,
      "outputs": [
        {
          "output_type": "execute_result",
          "data": {
            "text/plain": [
              "<shapely.geometry.polygon.Polygon at 0x7f0244141790>"
            ],
            "image/svg+xml": "<svg xmlns=\"http://www.w3.org/2000/svg\" xmlns:xlink=\"http://www.w3.org/1999/xlink\" width=\"100.0\" height=\"100.0\" viewBox=\"-109.29210136 31.09037264 6.532065720000006 6.1517877200000015\" preserveAspectRatio=\"xMinYMin meet\"><g transform=\"matrix(1,0,0,-1,0,68.332533)\"><path fill-rule=\"evenodd\" fill=\"#66cc99\" stroke=\"#555555\" stroke-width=\"0.13064131440000012\" opacity=\"0.6\" d=\"M -109.050044,31.332501999999998 L -109.050173,31.480003999999997 L -109.049843,31.499515 L -109.049813,31.499527999999998 L -109.049112,31.636598 L -109.049195,31.796550999999997 L -109.048763,31.810775999999997 L -109.049106,31.843715 L -109.048769,31.861383 L -109.04859,31.870790999999997 L -109.048599,32.013650999999996 L -109.048731,32.028174 L -109.048296,32.084092999999996 L -109.048286,32.089113999999995 L -109.047612,32.426376999999995 L -109.047653,32.681379 L -109.047653,32.686327 L -109.047645,32.689988 L -109.047638,32.693439 L -109.047117,32.77757 L -109.04748000000001,33.068419999999996 L -109.047453,33.069427 L -109.046905,33.091930999999995 L -109.04701299999999,33.092917 L -109.047117,33.137558999999996 L -109.047116,33.137995 L -109.047237,33.208965 L -109.04747,33.250063 L -109.04682700000001,33.365272 L -109.046909,33.36557 L -109.047045,33.369279999999996 L -109.04687,33.372654 L -109.046564,33.37506 L -109.047298,33.409783 L -109.046662,33.625054999999996 L -109.047145,33.74001 L -109.046426,33.875052 L -109.047006,34.00005 L -109.046182,34.522393 L -109.046182,34.522552999999995 L -109.046156,34.579291 L -109.046086,34.771015999999996 L -109.045363,34.785406 L -109.046104,34.799980999999995 L -109.045624,34.814226 L -109.046072,34.828565999999995 L -109.045851,34.959717999999995 L -109.04608400000001,35.250025 L -109.046796,35.363606 L -109.046481,35.546326 L -109.046509,35.54644 L -109.046296,35.614250999999996 L -109.046295,35.616517 L -109.046024,35.8798 L -109.046055,35.888721 L -109.046054,35.92586 L -109.046011,35.925896 L -109.045973,36.002338 L -109.045729,36.117028 L -109.046183,36.181751 L -109.045431,36.500001 L -109.045433,36.874589 L -109.045407,36.874998 L -109.045272,36.968871 L -109.045244,36.969488999999996 L -109.045223,36.999083999999996 L -108.958868,36.998913 L -108.954404,36.998906 L -108.62030899999999,36.999286999999995 L -108.619689,36.999249 L -108.32072099999999,36.99951 L -108.320464,36.999499 L -108.28840000000001,36.99952 L -108.28808599999999,36.999555 L -108.250635,36.999561 L -108.249358,36.999015 L -108.000623,37.000001 L -107.420913,37.000005 L -106.877292,37.000139 L -106.869796,36.992426 L -106.750591,36.992461 L -106.675626,36.993123 L -106.661344,36.993243 L -106.628733,36.993161 L -106.628652,36.993175 L -106.617125,36.993004 L -106.617159,36.992967 L -106.500589,36.993767999999996 L -106.343139,36.99423 L -106.293279,36.99389 L -106.248675,36.994288 L -106.247705,36.994265999999996 L -106.201469,36.994122 L -106.006634,36.995343 L -105.997472,36.995416999999996 L -105.996159,36.995418 L -105.716471,36.995849 L -105.66472,36.995874 L -105.62747,36.995678999999996 L -105.533922,36.995875 L -105.512485,36.995777 L -105.508836,36.995895 L -105.465182,36.995991 L -105.447255,36.996016999999995 L -105.442459,36.995993999999996 L -105.41931,36.995855999999996 L -105.251296,36.995605 L -105.220613,36.995169 L -105.1208,36.995428 L -105.029228,36.992729 L -105.000554,36.993263999999996 L -104.73212,36.993483999999995 L -104.732031,36.993446999999996 L -104.645029,36.993378 L -104.625545,36.993598999999996 L -104.624556,36.994377 L -104.519257,36.993766 L -104.338833,36.993535 L -104.250536,36.994644 L -104.007855,36.996238999999996 L -103.734364,36.998041 L -103.733247,36.998016 L -103.155922,37.000232 L -103.002199,37.000104 L -103.002247,36.911587 L -103.001964,36.909573 L -103.00219799999999,36.719426999999996 L -103.002518,36.675186 L -103.002252,36.61718 L -103.002188,36.602716 L -103.002565,36.526588 L -103.002434,36.500397 L -103.041924,36.500439 L -103.041745,36.318267 L -103.041674,36.317533999999995 L -103.040824,36.055231 L -103.041305,35.837694 L -103.042186,35.825216999999995 L -103.041716,35.814071999999996 L -103.041917,35.796441 L -103.041146,35.791582999999996 L -103.041554,35.622487 L -103.042366,35.250056 L -103.042775,35.241237 L -103.042497,35.211861999999996 L -103.042377,35.183149 L -103.042366,35.182786 L -103.042339,35.181922 L -103.042395,35.178573 L -103.042568,35.159318 L -103.042711,35.144735 L -103.04260000000001,35.142766 L -103.04252,35.135596 L -103.043261,35.125057999999996 L -103.042642,35.109913 L -103.042521,34.899546 L -103.042781,34.850243 L -103.04277,34.792224 L -103.04276899999999,34.747361 L -103.042827,34.671188 L -103.043286,34.653099 L -103.043072,34.619782 L -103.043594,34.46266 L -103.043589,34.459773999999996 L -103.043588,34.459662 L -103.043582,34.455656999999995 L -103.043538,34.405463 L -103.043583,34.400678 L -103.043611,34.397104999999996 L -103.043585,34.393716 L -103.043613,34.390442 L -103.043613,34.388678999999996 L -103.043614,34.384969 L -103.04363,34.38469 L -103.043693,34.383578 L -103.043919,34.380916 L -103.043944,34.37966 L -103.043946,34.379554999999996 L -103.043979,34.312764 L -103.043936,34.302585 L -103.043719,34.289441 L -103.043644,34.256903 L -103.043569,34.087947 L -103.043516,34.079381999999995 L -103.043686,34.063078 L -103.043744,34.049986 L -103.043767,34.043545 L -103.043721,34.04232 L -103.043771,34.041537999999996 L -103.043746,34.037293999999996 L -103.043555,34.032714 L -103.043531,34.018014 L -103.043617,34.003633 L -103.04395,33.974629 L -103.044893,33.945617 L -103.045698,33.906299 L -103.045644,33.901537 L -103.046907,33.850300000000004 L -103.047346,33.824675 L -103.049096,33.746269999999996 L -103.049608,33.737766 L -103.05014800000001,33.701971 L -103.050532,33.672408 L -103.051087,33.658186 L -103.051535,33.650487 L -103.051363,33.64195 L -103.051664,33.629489 L -103.05261,33.570599 L -103.056655,33.388438 L -103.057487,33.329477 L -103.057856,33.315234 L -103.059242,33.260371 L -103.05972,33.256262 L -103.060103,33.219225 L -103.063905,33.042055 L -103.06398,33.038692999999995 L -103.064452,33.01029 L -103.064625,32.999899 L -103.064679,32.964373 L -103.064657,32.959097 L -103.064569,32.900014 L -103.064701,32.879355 L -103.064862,32.868345999999995 L -103.064807,32.857696 L -103.064916,32.85726 L -103.064889,32.849359 L -103.064672,32.828469999999996 L -103.064699,32.827531 L -103.064711,32.784593 L -103.06469799999999,32.783602 L -103.064807,32.777302999999996 L -103.064827,32.726628 L -103.064799,32.708694 L -103.064798,32.690761 L -103.064864,32.682646999999996 L -103.064633,32.64642 L -103.064815,32.624537 L -103.064761,32.601863 L -103.064788,32.600397 L -103.064761,32.587983 L -103.064696,32.522193 L -103.064422,32.145005999999995 L -103.064348,32.123041 L -103.064344,32.087050999999995 L -103.064423,32.000518 L -103.085876,32.000465 L -103.088698,32.000453 L -103.215641,32.000513 L -103.267633,32.000475 L -103.267708,32.000324 L -103.270383,32.000326 L -103.278521,32.000419 L -103.326501,32.00037 L -103.748317,32.000198 L -103.875476,32.000554 L -103.98017899999999,32.000125 L -104.024521,32.000009999999996 L -104.531756,32.000116999999996 L -104.531937,32.000310999999996 L -104.640918,32.000396 L -104.643526,32.000443 L -104.918272,32.000496 L -105.077046,32.000579 L -105.078605,32.000533 L -105.11804,32.000485 L -105.131377,32.000524 L -105.132916,32.000518 L -105.14824,32.000485 L -105.15031,32.000496999999996 L -105.153994,32.000496999999996 L -105.390396,32.000606999999995 L -105.427049,32.000637999999995 L -105.428582,32.0006 L -105.429281,32.000577 L -105.731362,32.001564 L -105.750527,32.002206 L -105.854061,32.00235 L -105.886159,32.00197 L -105.90060000000001,32.0021 L -105.998003,32.002328 L -106.125534,32.002533 L -106.18184,32.00205 L -106.200699,32.001785 L -106.205915,32.001762 L -106.313307,32.001512 L -106.376861,32.001172 L -106.394298,32.001484 L -106.411075,32.001334 L -106.565142,32.000735999999996 L -106.566056,32.000758999999995 L -106.587972,32.000749 L -106.595333,32.000778 L -106.598639,32.000754 L -106.599096,32.000731 L -106.618486,32.000495 L -106.619448,31.994733 L -106.623568,31.990999 L -106.631182,31.989808999999997 L -106.636492,31.985719 L -106.639529,31.980348 L -106.638186,31.97682 L -106.630114,31.971258 L -106.626466,31.970689999999998 L -106.623216,31.97291 L -106.621873,31.972932999999998 L -106.619569,31.971577999999997 L -106.618745,31.966955 L -106.619371,31.964776999999998 L -106.620454,31.963403 L -106.624299,31.961053999999997 L -106.625535,31.957476 L -106.625123,31.954531 L -106.62281899999999,31.952890999999997 L -106.617708,31.956007999999997 L -106.614702,31.956000000000003 L -106.616136,31.948438999999997 L -106.623659,31.94551 L -106.622377,31.940863 L -106.622117,31.936621 L -106.622529,31.934863 L -106.625322,31.930052999999997 L -106.629747,31.926569999999998 L -106.628663,31.923613999999997 L -106.623933,31.925334999999997 L -106.611846,31.920002999999998 L -106.614346,31.918003 L -106.623445,31.914033999999997 L -106.625947,31.912226999999998 L -106.633668,31.909789999999997 L -106.64084,31.904598 L -106.645479,31.89867 L -106.645646,31.895649 L -106.645296,31.894859 L -106.64290000000001,31.892933 L -106.638154,31.891662999999998 L -106.633927,31.889184 L -106.630692,31.886411 L -106.629197,31.883716999999997 L -106.630799,31.879697 L -106.634873,31.874478 L -106.63588,31.871513999999998 L -106.635926,31.866235 L -106.627808,31.860592999999998 L -106.625763,31.856275999999998 L -106.621857,31.852853999999997 L -106.614637,31.84649 L -106.605845,31.846304999999997 L -106.605245,31.845905 L -106.602045,31.844405 L -106.601945,31.839605 L -106.605267,31.827911999999998 L -106.602727,31.825024 L -106.593826,31.824900999999997 L -106.589045,31.822706 L -106.588045,31.822105999999998 L -106.582144,31.815506 L -106.581344,31.813906 L -106.577244,31.810405999999997 L -106.570944,31.810205999999997 L -106.566844,31.813305999999997 L -106.563444,31.812606 L -106.562945,31.811104 L -106.558444,31.810405999999997 L -106.547144,31.807305 L -106.545344,31.805007 L -106.544714,31.804287 L -106.542144,31.802107 L -106.542097,31.802145999999997 L -106.535843,31.798606999999997 L -106.535343,31.797507 L -106.535154,31.797089 L -106.534743,31.796107 L -106.53304299999999,31.791907 L -106.533,31.791829 L -106.53247999999999,31.791914 L -106.530515,31.792102999999997 L -106.527943,31.790506999999998 L -106.527738,31.789761 L -106.527623,31.789119 L -106.527997,31.786945 L -106.528543,31.784406999999998 L -106.528543,31.783907 L -106.750547,31.783706 L -106.750547,31.783897999999997 L -106.993544,31.783689 L -106.998235,31.783671 L -107.00056000000001,31.783679 L -107.00056000000001,31.783513 L -107.296824,31.783762 L -107.422246,31.783599 L -107.422495,31.783599 L -108.208394,31.783599 L -108.208087,31.613488999999998 L -108.208521,31.499798 L -108.208572,31.499741999999998 L -108.208573,31.333395 L -108.707657,31.333191 L -108.788711,31.332365 L -108.851105,31.332300999999998 L -108.861028,31.332314999999998 L -109.050044,31.332501999999998 z\" /></g></svg>"
          },
          "metadata": {},
          "execution_count": 6
        }
      ]
    },
    {
      "cell_type": "markdown",
      "source": [
        "## Generating 10 random points of the attack"
      ],
      "metadata": {
        "id": "dqYZgezwfvhO"
      }
    },
    {
      "cell_type": "code",
      "source": [
        "#Function Adapted from Professor Pappalardo Voronoi tessellation Function\n",
        "#generating random points inside the borders\n",
        "def polygon_random_points(poly):\n",
        "    min_x, min_y, max_x, max_y = poly.bounds \n",
        "    points = []\n",
        "    while len(points) < 10:\n",
        "        random_point = Point([random.uniform(min_x, max_x), random.uniform(min_y, max_y)])\n",
        "        if (random_point.within(poly)):\n",
        "            points.append([random_point.x, random_point.y])\n",
        "    return np.array(points)\n",
        "\n",
        "random_attacks = MultiPoint(polygon_random_points(nm_poly))"
      ],
      "metadata": {
        "id": "n2-R-Iv9fuDE"
      },
      "execution_count": null,
      "outputs": []
    },
    {
      "cell_type": "markdown",
      "source": [
        "## Computing the convex hull and the centroid of the area\n",
        "To get the minimum polygon containing the attack points I computed the convex hull.</br>\n",
        "Then to get to the possible lab position I computed the centroid of the convex hull"
      ],
      "metadata": {
        "id": "LbM8zwTjhwkG"
      }
    },
    {
      "cell_type": "code",
      "source": [
        "minimum_possible_area = random_attacks.convex_hull\n",
        "meth_lab = minimum_possible_area.centroid #this is where the DEA thinks the lab is"
      ],
      "metadata": {
        "id": "vTIfPR8hghqP"
      },
      "execution_count": null,
      "outputs": []
    },
    {
      "cell_type": "markdown",
      "source": [
        "## Saving New Mexico, Convex hull and Attacks Points to a collection"
      ],
      "metadata": {
        "id": "8eJ9sal1igXM"
      }
    },
    {
      "cell_type": "code",
      "source": [
        "nm_attack_lab = GeometryCollection([nm_poly, minimum_possible_area, random_attacks])\n",
        "nm_attack_lab"
      ],
      "metadata": {
        "colab": {
          "base_uri": "https://localhost:8080/",
          "height": 121
        },
        "id": "UG_sWk4agH0w",
        "outputId": "10ab5c0a-5898-4580-ecfc-e8bdc14d6c74"
      },
      "execution_count": null,
      "outputs": [
        {
          "output_type": "execute_result",
          "data": {
            "text/plain": [
              "<shapely.geometry.collection.GeometryCollection at 0x7f0243b07cd0>"
            ],
            "image/svg+xml": "<svg xmlns=\"http://www.w3.org/2000/svg\" xmlns:xlink=\"http://www.w3.org/1999/xlink\" width=\"100.0\" height=\"100.0\" viewBox=\"-109.29210136 31.09037264 6.532065720000006 6.1517877200000015\" preserveAspectRatio=\"xMinYMin meet\"><g transform=\"matrix(1,0,0,-1,0,68.332533)\"><g><path fill-rule=\"evenodd\" fill=\"#66cc99\" stroke=\"#555555\" stroke-width=\"0.13064131440000012\" opacity=\"0.6\" d=\"M -109.050044,31.332501999999998 L -109.050173,31.480003999999997 L -109.049843,31.499515 L -109.049813,31.499527999999998 L -109.049112,31.636598 L -109.049195,31.796550999999997 L -109.048763,31.810775999999997 L -109.049106,31.843715 L -109.048769,31.861383 L -109.04859,31.870790999999997 L -109.048599,32.013650999999996 L -109.048731,32.028174 L -109.048296,32.084092999999996 L -109.048286,32.089113999999995 L -109.047612,32.426376999999995 L -109.047653,32.681379 L -109.047653,32.686327 L -109.047645,32.689988 L -109.047638,32.693439 L -109.047117,32.77757 L -109.04748000000001,33.068419999999996 L -109.047453,33.069427 L -109.046905,33.091930999999995 L -109.04701299999999,33.092917 L -109.047117,33.137558999999996 L -109.047116,33.137995 L -109.047237,33.208965 L -109.04747,33.250063 L -109.04682700000001,33.365272 L -109.046909,33.36557 L -109.047045,33.369279999999996 L -109.04687,33.372654 L -109.046564,33.37506 L -109.047298,33.409783 L -109.046662,33.625054999999996 L -109.047145,33.74001 L -109.046426,33.875052 L -109.047006,34.00005 L -109.046182,34.522393 L -109.046182,34.522552999999995 L -109.046156,34.579291 L -109.046086,34.771015999999996 L -109.045363,34.785406 L -109.046104,34.799980999999995 L -109.045624,34.814226 L -109.046072,34.828565999999995 L -109.045851,34.959717999999995 L -109.04608400000001,35.250025 L -109.046796,35.363606 L -109.046481,35.546326 L -109.046509,35.54644 L -109.046296,35.614250999999996 L -109.046295,35.616517 L -109.046024,35.8798 L -109.046055,35.888721 L -109.046054,35.92586 L -109.046011,35.925896 L -109.045973,36.002338 L -109.045729,36.117028 L -109.046183,36.181751 L -109.045431,36.500001 L -109.045433,36.874589 L -109.045407,36.874998 L -109.045272,36.968871 L -109.045244,36.969488999999996 L -109.045223,36.999083999999996 L -108.958868,36.998913 L -108.954404,36.998906 L -108.62030899999999,36.999286999999995 L -108.619689,36.999249 L -108.32072099999999,36.99951 L -108.320464,36.999499 L -108.28840000000001,36.99952 L -108.28808599999999,36.999555 L -108.250635,36.999561 L -108.249358,36.999015 L -108.000623,37.000001 L -107.420913,37.000005 L -106.877292,37.000139 L -106.869796,36.992426 L -106.750591,36.992461 L -106.675626,36.993123 L -106.661344,36.993243 L -106.628733,36.993161 L -106.628652,36.993175 L -106.617125,36.993004 L -106.617159,36.992967 L -106.500589,36.993767999999996 L -106.343139,36.99423 L -106.293279,36.99389 L -106.248675,36.994288 L -106.247705,36.994265999999996 L -106.201469,36.994122 L -106.006634,36.995343 L -105.997472,36.995416999999996 L -105.996159,36.995418 L -105.716471,36.995849 L -105.66472,36.995874 L -105.62747,36.995678999999996 L -105.533922,36.995875 L -105.512485,36.995777 L -105.508836,36.995895 L -105.465182,36.995991 L -105.447255,36.996016999999995 L -105.442459,36.995993999999996 L -105.41931,36.995855999999996 L -105.251296,36.995605 L -105.220613,36.995169 L -105.1208,36.995428 L -105.029228,36.992729 L -105.000554,36.993263999999996 L -104.73212,36.993483999999995 L -104.732031,36.993446999999996 L -104.645029,36.993378 L -104.625545,36.993598999999996 L -104.624556,36.994377 L -104.519257,36.993766 L -104.338833,36.993535 L -104.250536,36.994644 L -104.007855,36.996238999999996 L -103.734364,36.998041 L -103.733247,36.998016 L -103.155922,37.000232 L -103.002199,37.000104 L -103.002247,36.911587 L -103.001964,36.909573 L -103.00219799999999,36.719426999999996 L -103.002518,36.675186 L -103.002252,36.61718 L -103.002188,36.602716 L -103.002565,36.526588 L -103.002434,36.500397 L -103.041924,36.500439 L -103.041745,36.318267 L -103.041674,36.317533999999995 L -103.040824,36.055231 L -103.041305,35.837694 L -103.042186,35.825216999999995 L -103.041716,35.814071999999996 L -103.041917,35.796441 L -103.041146,35.791582999999996 L -103.041554,35.622487 L -103.042366,35.250056 L -103.042775,35.241237 L -103.042497,35.211861999999996 L -103.042377,35.183149 L -103.042366,35.182786 L -103.042339,35.181922 L -103.042395,35.178573 L -103.042568,35.159318 L -103.042711,35.144735 L -103.04260000000001,35.142766 L -103.04252,35.135596 L -103.043261,35.125057999999996 L -103.042642,35.109913 L -103.042521,34.899546 L -103.042781,34.850243 L -103.04277,34.792224 L -103.04276899999999,34.747361 L -103.042827,34.671188 L -103.043286,34.653099 L -103.043072,34.619782 L -103.043594,34.46266 L -103.043589,34.459773999999996 L -103.043588,34.459662 L -103.043582,34.455656999999995 L -103.043538,34.405463 L -103.043583,34.400678 L -103.043611,34.397104999999996 L -103.043585,34.393716 L -103.043613,34.390442 L -103.043613,34.388678999999996 L -103.043614,34.384969 L -103.04363,34.38469 L -103.043693,34.383578 L -103.043919,34.380916 L -103.043944,34.37966 L -103.043946,34.379554999999996 L -103.043979,34.312764 L -103.043936,34.302585 L -103.043719,34.289441 L -103.043644,34.256903 L -103.043569,34.087947 L -103.043516,34.079381999999995 L -103.043686,34.063078 L -103.043744,34.049986 L -103.043767,34.043545 L -103.043721,34.04232 L -103.043771,34.041537999999996 L -103.043746,34.037293999999996 L -103.043555,34.032714 L -103.043531,34.018014 L -103.043617,34.003633 L -103.04395,33.974629 L -103.044893,33.945617 L -103.045698,33.906299 L -103.045644,33.901537 L -103.046907,33.850300000000004 L -103.047346,33.824675 L -103.049096,33.746269999999996 L -103.049608,33.737766 L -103.05014800000001,33.701971 L -103.050532,33.672408 L -103.051087,33.658186 L -103.051535,33.650487 L -103.051363,33.64195 L -103.051664,33.629489 L -103.05261,33.570599 L -103.056655,33.388438 L -103.057487,33.329477 L -103.057856,33.315234 L -103.059242,33.260371 L -103.05972,33.256262 L -103.060103,33.219225 L -103.063905,33.042055 L -103.06398,33.038692999999995 L -103.064452,33.01029 L -103.064625,32.999899 L -103.064679,32.964373 L -103.064657,32.959097 L -103.064569,32.900014 L -103.064701,32.879355 L -103.064862,32.868345999999995 L -103.064807,32.857696 L -103.064916,32.85726 L -103.064889,32.849359 L -103.064672,32.828469999999996 L -103.064699,32.827531 L -103.064711,32.784593 L -103.06469799999999,32.783602 L -103.064807,32.777302999999996 L -103.064827,32.726628 L -103.064799,32.708694 L -103.064798,32.690761 L -103.064864,32.682646999999996 L -103.064633,32.64642 L -103.064815,32.624537 L -103.064761,32.601863 L -103.064788,32.600397 L -103.064761,32.587983 L -103.064696,32.522193 L -103.064422,32.145005999999995 L -103.064348,32.123041 L -103.064344,32.087050999999995 L -103.064423,32.000518 L -103.085876,32.000465 L -103.088698,32.000453 L -103.215641,32.000513 L -103.267633,32.000475 L -103.267708,32.000324 L -103.270383,32.000326 L -103.278521,32.000419 L -103.326501,32.00037 L -103.748317,32.000198 L -103.875476,32.000554 L -103.98017899999999,32.000125 L -104.024521,32.000009999999996 L -104.531756,32.000116999999996 L -104.531937,32.000310999999996 L -104.640918,32.000396 L -104.643526,32.000443 L -104.918272,32.000496 L -105.077046,32.000579 L -105.078605,32.000533 L -105.11804,32.000485 L -105.131377,32.000524 L -105.132916,32.000518 L -105.14824,32.000485 L -105.15031,32.000496999999996 L -105.153994,32.000496999999996 L -105.390396,32.000606999999995 L -105.427049,32.000637999999995 L -105.428582,32.0006 L -105.429281,32.000577 L -105.731362,32.001564 L -105.750527,32.002206 L -105.854061,32.00235 L -105.886159,32.00197 L -105.90060000000001,32.0021 L -105.998003,32.002328 L -106.125534,32.002533 L -106.18184,32.00205 L -106.200699,32.001785 L -106.205915,32.001762 L -106.313307,32.001512 L -106.376861,32.001172 L -106.394298,32.001484 L -106.411075,32.001334 L -106.565142,32.000735999999996 L -106.566056,32.000758999999995 L -106.587972,32.000749 L -106.595333,32.000778 L -106.598639,32.000754 L -106.599096,32.000731 L -106.618486,32.000495 L -106.619448,31.994733 L -106.623568,31.990999 L -106.631182,31.989808999999997 L -106.636492,31.985719 L -106.639529,31.980348 L -106.638186,31.97682 L -106.630114,31.971258 L -106.626466,31.970689999999998 L -106.623216,31.97291 L -106.621873,31.972932999999998 L -106.619569,31.971577999999997 L -106.618745,31.966955 L -106.619371,31.964776999999998 L -106.620454,31.963403 L -106.624299,31.961053999999997 L -106.625535,31.957476 L -106.625123,31.954531 L -106.62281899999999,31.952890999999997 L -106.617708,31.956007999999997 L -106.614702,31.956000000000003 L -106.616136,31.948438999999997 L -106.623659,31.94551 L -106.622377,31.940863 L -106.622117,31.936621 L -106.622529,31.934863 L -106.625322,31.930052999999997 L -106.629747,31.926569999999998 L -106.628663,31.923613999999997 L -106.623933,31.925334999999997 L -106.611846,31.920002999999998 L -106.614346,31.918003 L -106.623445,31.914033999999997 L -106.625947,31.912226999999998 L -106.633668,31.909789999999997 L -106.64084,31.904598 L -106.645479,31.89867 L -106.645646,31.895649 L -106.645296,31.894859 L -106.64290000000001,31.892933 L -106.638154,31.891662999999998 L -106.633927,31.889184 L -106.630692,31.886411 L -106.629197,31.883716999999997 L -106.630799,31.879697 L -106.634873,31.874478 L -106.63588,31.871513999999998 L -106.635926,31.866235 L -106.627808,31.860592999999998 L -106.625763,31.856275999999998 L -106.621857,31.852853999999997 L -106.614637,31.84649 L -106.605845,31.846304999999997 L -106.605245,31.845905 L -106.602045,31.844405 L -106.601945,31.839605 L -106.605267,31.827911999999998 L -106.602727,31.825024 L -106.593826,31.824900999999997 L -106.589045,31.822706 L -106.588045,31.822105999999998 L -106.582144,31.815506 L -106.581344,31.813906 L -106.577244,31.810405999999997 L -106.570944,31.810205999999997 L -106.566844,31.813305999999997 L -106.563444,31.812606 L -106.562945,31.811104 L -106.558444,31.810405999999997 L -106.547144,31.807305 L -106.545344,31.805007 L -106.544714,31.804287 L -106.542144,31.802107 L -106.542097,31.802145999999997 L -106.535843,31.798606999999997 L -106.535343,31.797507 L -106.535154,31.797089 L -106.534743,31.796107 L -106.53304299999999,31.791907 L -106.533,31.791829 L -106.53247999999999,31.791914 L -106.530515,31.792102999999997 L -106.527943,31.790506999999998 L -106.527738,31.789761 L -106.527623,31.789119 L -106.527997,31.786945 L -106.528543,31.784406999999998 L -106.528543,31.783907 L -106.750547,31.783706 L -106.750547,31.783897999999997 L -106.993544,31.783689 L -106.998235,31.783671 L -107.00056000000001,31.783679 L -107.00056000000001,31.783513 L -107.296824,31.783762 L -107.422246,31.783599 L -107.422495,31.783599 L -108.208394,31.783599 L -108.208087,31.613488999999998 L -108.208521,31.499798 L -108.208572,31.499741999999998 L -108.208573,31.333395 L -108.707657,31.333191 L -108.788711,31.332365 L -108.851105,31.332300999999998 L -108.861028,31.332314999999998 L -109.050044,31.332501999999998 z\" /><path fill-rule=\"evenodd\" fill=\"#66cc99\" stroke=\"#555555\" stroke-width=\"0.13064131440000012\" opacity=\"0.6\" d=\"M -107.30781666276631,32.59977220268462 L -108.15956487913796,32.82037152968583 L -107.81890539928253,35.40104051278343 L -107.7555760982026,35.60552244238335 L -106.50224585199294,36.04110430491921 L -103.193638356264,33.27735672864072 L -104.09918032921082,33.11393478710617 L -107.30781666276631,32.59977220268462 z\" /><g><circle cx=\"-105.19663597636031\" cy=\"33.699690287596056\" r=\"0.19596197160000017\" stroke=\"#555555\" stroke-width=\"0.06532065720000006\" fill=\"#66cc99\" opacity=\"0.6\" /><circle cx=\"-106.50224585199294\" cy=\"36.04110430491921\" r=\"0.19596197160000017\" stroke=\"#555555\" stroke-width=\"0.06532065720000006\" fill=\"#66cc99\" opacity=\"0.6\" /><circle cx=\"-107.81890539928253\" cy=\"35.40104051278343\" r=\"0.19596197160000017\" stroke=\"#555555\" stroke-width=\"0.06532065720000006\" fill=\"#66cc99\" opacity=\"0.6\" /><circle cx=\"-107.30781666276631\" cy=\"32.59977220268462\" r=\"0.19596197160000017\" stroke=\"#555555\" stroke-width=\"0.06532065720000006\" fill=\"#66cc99\" opacity=\"0.6\" /><circle cx=\"-104.09918032921082\" cy=\"33.11393478710617\" r=\"0.19596197160000017\" stroke=\"#555555\" stroke-width=\"0.06532065720000006\" fill=\"#66cc99\" opacity=\"0.6\" /><circle cx=\"-107.7555760982026\" cy=\"35.60552244238335\" r=\"0.19596197160000017\" stroke=\"#555555\" stroke-width=\"0.06532065720000006\" fill=\"#66cc99\" opacity=\"0.6\" /><circle cx=\"-103.193638356264\" cy=\"33.27735672864072\" r=\"0.19596197160000017\" stroke=\"#555555\" stroke-width=\"0.06532065720000006\" fill=\"#66cc99\" opacity=\"0.6\" /><circle cx=\"-107.74267931918686\" cy=\"32.95869337859583\" r=\"0.19596197160000017\" stroke=\"#555555\" stroke-width=\"0.06532065720000006\" fill=\"#66cc99\" opacity=\"0.6\" /><circle cx=\"-105.31601147256481\" cy=\"33.99570029020884\" r=\"0.19596197160000017\" stroke=\"#555555\" stroke-width=\"0.06532065720000006\" fill=\"#66cc99\" opacity=\"0.6\" /><circle cx=\"-108.15956487913796\" cy=\"32.82037152968583\" r=\"0.19596197160000017\" stroke=\"#555555\" stroke-width=\"0.06532065720000006\" fill=\"#66cc99\" opacity=\"0.6\" /></g></g></g></svg>"
          },
          "metadata": {},
          "execution_count": 9
        }
      ]
    },
    {
      "cell_type": "markdown",
      "source": [
        "## Plotting the result"
      ],
      "metadata": {
        "id": "nPXcgpARXlWJ"
      }
    },
    {
      "cell_type": "code",
      "source": [
        "#these are the coordinates that I had to adjust when not using a GeoJson to plot:\n",
        "\n",
        "#to set the starting location I used the new mexico centroid\n",
        "lat = list(nm_poly.centroid.coords)[0][1]\n",
        "lng = list(nm_poly.centroid.coords)[0][0]\n",
        "\n",
        "#to set the meth lab Marker coordinates\n",
        "lab_lat = list(meth_lab.coords)[0][1]\n",
        "lab_lng = list(meth_lab.coords)[0][0]"
      ],
      "metadata": {
        "id": "0Aofytd8i5ew"
      },
      "execution_count": null,
      "outputs": []
    },
    {
      "cell_type": "code",
      "source": [
        "mappa = folium.Map(location = (lat, lng), zoom_start = 7)\n",
        "folium.GeoJson(nm_attack_lab).add_to(mappa)\n",
        "#I used a different marker for the meth lab location\n",
        "folium.Marker(location=(lab_lat, lab_lng), \n",
        "              popup='METH LAB ACCORDING TO DEA\\n'+str(meth_lab), \n",
        "              icon=folium.Icon(color='red')).add_to(mappa)\n",
        "mappa"
      ],
      "metadata": {
        "colab": {
          "base_uri": "https://localhost:8080/",
          "height": 912
        },
        "id": "TuS3UZ2VOOPk",
        "outputId": "257af3df-8cbc-4dad-aff4-b07a4dffb021"
      },
      "execution_count": null,
      "outputs": [
        {
          "output_type": "execute_result",
          "data": {
            "text/plain": [
              "<folium.folium.Map at 0x7f024416c110>"
            ],
            "text/html": [
              "<div style=\"width:100%;\"><div style=\"position:relative;width:100%;height:0;padding-bottom:60%;\"><span style=\"color:#565656\">Make this Notebook Trusted to load map: File -> Trust Notebook</span><iframe srcdoc=\"&lt;!DOCTYPE html&gt;\n",
              "&lt;head&gt;    \n",
              "    &lt;meta http-equiv=&quot;content-type&quot; content=&quot;text/html; charset=UTF-8&quot; /&gt;\n",
              "    \n",
              "        &lt;script&gt;\n",
              "            L_NO_TOUCH = false;\n",
              "            L_DISABLE_3D = false;\n",
              "        &lt;/script&gt;\n",
              "    \n",
              "    &lt;style&gt;html, body {width: 100%;height: 100%;margin: 0;padding: 0;}&lt;/style&gt;\n",
              "    &lt;style&gt;#map {position:absolute;top:0;bottom:0;right:0;left:0;}&lt;/style&gt;\n",
              "    &lt;script src=&quot;https://cdn.jsdelivr.net/npm/leaflet@1.6.0/dist/leaflet.js&quot;&gt;&lt;/script&gt;\n",
              "    &lt;script src=&quot;https://code.jquery.com/jquery-1.12.4.min.js&quot;&gt;&lt;/script&gt;\n",
              "    &lt;script src=&quot;https://maxcdn.bootstrapcdn.com/bootstrap/3.2.0/js/bootstrap.min.js&quot;&gt;&lt;/script&gt;\n",
              "    &lt;script src=&quot;https://cdnjs.cloudflare.com/ajax/libs/Leaflet.awesome-markers/2.0.2/leaflet.awesome-markers.js&quot;&gt;&lt;/script&gt;\n",
              "    &lt;link rel=&quot;stylesheet&quot; href=&quot;https://cdn.jsdelivr.net/npm/leaflet@1.6.0/dist/leaflet.css&quot;/&gt;\n",
              "    &lt;link rel=&quot;stylesheet&quot; href=&quot;https://maxcdn.bootstrapcdn.com/bootstrap/3.2.0/css/bootstrap.min.css&quot;/&gt;\n",
              "    &lt;link rel=&quot;stylesheet&quot; href=&quot;https://maxcdn.bootstrapcdn.com/bootstrap/3.2.0/css/bootstrap-theme.min.css&quot;/&gt;\n",
              "    &lt;link rel=&quot;stylesheet&quot; href=&quot;https://maxcdn.bootstrapcdn.com/font-awesome/4.6.3/css/font-awesome.min.css&quot;/&gt;\n",
              "    &lt;link rel=&quot;stylesheet&quot; href=&quot;https://cdnjs.cloudflare.com/ajax/libs/Leaflet.awesome-markers/2.0.2/leaflet.awesome-markers.css&quot;/&gt;\n",
              "    &lt;link rel=&quot;stylesheet&quot; href=&quot;https://cdn.jsdelivr.net/gh/python-visualization/folium/folium/templates/leaflet.awesome.rotate.min.css&quot;/&gt;\n",
              "    \n",
              "            &lt;meta name=&quot;viewport&quot; content=&quot;width=device-width,\n",
              "                initial-scale=1.0, maximum-scale=1.0, user-scalable=no&quot; /&gt;\n",
              "            &lt;style&gt;\n",
              "                #map_dea497ac3e41445e058181be171f5422 {\n",
              "                    position: relative;\n",
              "                    width: 100.0%;\n",
              "                    height: 100.0%;\n",
              "                    left: 0.0%;\n",
              "                    top: 0.0%;\n",
              "                }\n",
              "            &lt;/style&gt;\n",
              "        \n",
              "&lt;/head&gt;\n",
              "&lt;body&gt;    \n",
              "    \n",
              "            &lt;div class=&quot;folium-map&quot; id=&quot;map_dea497ac3e41445e058181be171f5422&quot; &gt;&lt;/div&gt;\n",
              "        \n",
              "&lt;/body&gt;\n",
              "&lt;script&gt;    \n",
              "    \n",
              "            var map_dea497ac3e41445e058181be171f5422 = L.map(\n",
              "                &quot;map_dea497ac3e41445e058181be171f5422&quot;,\n",
              "                {\n",
              "                    center: [34.421365369280934, -106.10837873693657],\n",
              "                    crs: L.CRS.EPSG3857,\n",
              "                    zoom: 7,\n",
              "                    zoomControl: true,\n",
              "                    preferCanvas: false,\n",
              "                }\n",
              "            );\n",
              "\n",
              "            \n",
              "\n",
              "        \n",
              "    \n",
              "            var tile_layer_68a9ee192acb394d5de4168b67102cd6 = L.tileLayer(\n",
              "                &quot;https://{s}.tile.openstreetmap.org/{z}/{x}/{y}.png&quot;,\n",
              "                {&quot;attribution&quot;: &quot;Data by \\u0026copy; \\u003ca href=\\&quot;http://openstreetmap.org\\&quot;\\u003eOpenStreetMap\\u003c/a\\u003e, under \\u003ca href=\\&quot;http://www.openstreetmap.org/copyright\\&quot;\\u003eODbL\\u003c/a\\u003e.&quot;, &quot;detectRetina&quot;: false, &quot;maxNativeZoom&quot;: 18, &quot;maxZoom&quot;: 18, &quot;minZoom&quot;: 0, &quot;noWrap&quot;: false, &quot;opacity&quot;: 1, &quot;subdomains&quot;: &quot;abc&quot;, &quot;tms&quot;: false}\n",
              "            ).addTo(map_dea497ac3e41445e058181be171f5422);\n",
              "        \n",
              "    \n",
              "\n",
              "        function geo_json_981a021d001b025dfefb635275b21365_onEachFeature(feature, layer) {\n",
              "            layer.on({\n",
              "            });\n",
              "        };\n",
              "        var geo_json_981a021d001b025dfefb635275b21365 = L.geoJson(null, {\n",
              "                onEachFeature: geo_json_981a021d001b025dfefb635275b21365_onEachFeature,\n",
              "            \n",
              "        });\n",
              "\n",
              "        function geo_json_981a021d001b025dfefb635275b21365_add (data) {\n",
              "            geo_json_981a021d001b025dfefb635275b21365\n",
              "                .addData(data)\n",
              "                .addTo(map_dea497ac3e41445e058181be171f5422);\n",
              "        }\n",
              "            geo_json_981a021d001b025dfefb635275b21365_add({&quot;geometries&quot;: [{&quot;coordinates&quot;: [[[-109.050044, 31.332501999999998], [-109.050173, 31.480003999999997], [-109.049843, 31.499515], [-109.049813, 31.499527999999998], [-109.049112, 31.636598], [-109.049195, 31.796550999999997], [-109.048763, 31.810775999999997], [-109.049106, 31.843715], [-109.048769, 31.861383], [-109.04859, 31.870790999999997], [-109.048599, 32.013650999999996], [-109.048731, 32.028174], [-109.048296, 32.084092999999996], [-109.048286, 32.089113999999995], [-109.047612, 32.426376999999995], [-109.047653, 32.681379], [-109.047653, 32.686327], [-109.047645, 32.689988], [-109.047638, 32.693439], [-109.047117, 32.77757], [-109.04748000000001, 33.068419999999996], [-109.047453, 33.069427], [-109.046905, 33.091930999999995], [-109.04701299999999, 33.092917], [-109.047117, 33.137558999999996], [-109.047116, 33.137995], [-109.047237, 33.208965], [-109.04747, 33.250063], [-109.04682700000001, 33.365272], [-109.046909, 33.36557], [-109.047045, 33.369279999999996], [-109.04687, 33.372654], [-109.046564, 33.37506], [-109.047298, 33.409783], [-109.046662, 33.625054999999996], [-109.047145, 33.74001], [-109.046426, 33.875052], [-109.047006, 34.00005], [-109.046182, 34.522393], [-109.046182, 34.522552999999995], [-109.046156, 34.579291], [-109.046086, 34.771015999999996], [-109.045363, 34.785406], [-109.046104, 34.799980999999995], [-109.045624, 34.814226], [-109.046072, 34.828565999999995], [-109.045851, 34.959717999999995], [-109.04608400000001, 35.250025], [-109.046796, 35.363606], [-109.046481, 35.546326], [-109.046509, 35.54644], [-109.046296, 35.614250999999996], [-109.046295, 35.616517], [-109.046024, 35.8798], [-109.046055, 35.888721], [-109.046054, 35.92586], [-109.046011, 35.925896], [-109.045973, 36.002338], [-109.045729, 36.117028], [-109.046183, 36.181751], [-109.045431, 36.500001], [-109.045433, 36.874589], [-109.045407, 36.874998], [-109.045272, 36.968871], [-109.045244, 36.969488999999996], [-109.045223, 36.999083999999996], [-108.958868, 36.998913], [-108.954404, 36.998906], [-108.62030899999999, 36.999286999999995], [-108.619689, 36.999249], [-108.32072099999999, 36.99951], [-108.320464, 36.999499], [-108.28840000000001, 36.99952], [-108.28808599999999, 36.999555], [-108.250635, 36.999561], [-108.249358, 36.999015], [-108.000623, 37.000001], [-107.420913, 37.000005], [-106.877292, 37.000139], [-106.869796, 36.992426], [-106.750591, 36.992461], [-106.675626, 36.993123], [-106.661344, 36.993243], [-106.628733, 36.993161], [-106.628652, 36.993175], [-106.617125, 36.993004], [-106.617159, 36.992967], [-106.500589, 36.993767999999996], [-106.343139, 36.99423], [-106.293279, 36.99389], [-106.248675, 36.994288], [-106.247705, 36.994265999999996], [-106.201469, 36.994122], [-106.006634, 36.995343], [-105.997472, 36.995416999999996], [-105.996159, 36.995418], [-105.716471, 36.995849], [-105.66472, 36.995874], [-105.62747, 36.995678999999996], [-105.533922, 36.995875], [-105.512485, 36.995777], [-105.508836, 36.995895], [-105.465182, 36.995991], [-105.447255, 36.996016999999995], [-105.442459, 36.995993999999996], [-105.41931, 36.995855999999996], [-105.251296, 36.995605], [-105.220613, 36.995169], [-105.1208, 36.995428], [-105.029228, 36.992729], [-105.000554, 36.993263999999996], [-104.73212, 36.993483999999995], [-104.732031, 36.993446999999996], [-104.645029, 36.993378], [-104.625545, 36.993598999999996], [-104.624556, 36.994377], [-104.519257, 36.993766], [-104.338833, 36.993535], [-104.250536, 36.994644], [-104.007855, 36.996238999999996], [-103.734364, 36.998041], [-103.733247, 36.998016], [-103.155922, 37.000232], [-103.002199, 37.000104], [-103.002247, 36.911587], [-103.001964, 36.909573], [-103.00219799999999, 36.719426999999996], [-103.002518, 36.675186], [-103.002252, 36.61718], [-103.002188, 36.602716], [-103.002565, 36.526588], [-103.002434, 36.500397], [-103.041924, 36.500439], [-103.041745, 36.318267], [-103.041674, 36.317533999999995], [-103.040824, 36.055231], [-103.041305, 35.837694], [-103.042186, 35.825216999999995], [-103.041716, 35.814071999999996], [-103.041917, 35.796441], [-103.041146, 35.791582999999996], [-103.041554, 35.622487], [-103.042366, 35.250056], [-103.042775, 35.241237], [-103.042497, 35.211861999999996], [-103.042377, 35.183149], [-103.042366, 35.182786], [-103.042339, 35.181922], [-103.042395, 35.178573], [-103.042568, 35.159318], [-103.042711, 35.144735], [-103.04260000000001, 35.142766], [-103.04252, 35.135596], [-103.043261, 35.125057999999996], [-103.042642, 35.109913], [-103.042521, 34.899546], [-103.042781, 34.850243], [-103.04277, 34.792224], [-103.04276899999999, 34.747361], [-103.042827, 34.671188], [-103.043286, 34.653099], [-103.043072, 34.619782], [-103.043594, 34.46266], [-103.043589, 34.459773999999996], [-103.043588, 34.459662], [-103.043582, 34.455656999999995], [-103.043538, 34.405463], [-103.043583, 34.400678], [-103.043611, 34.397104999999996], [-103.043585, 34.393716], [-103.043613, 34.390442], [-103.043613, 34.388678999999996], [-103.043614, 34.384969], [-103.04363, 34.38469], [-103.043693, 34.383578], [-103.043919, 34.380916], [-103.043944, 34.37966], [-103.043946, 34.379554999999996], [-103.043979, 34.312764], [-103.043936, 34.302585], [-103.043719, 34.289441], [-103.043644, 34.256903], [-103.043569, 34.087947], [-103.043516, 34.079381999999995], [-103.043686, 34.063078], [-103.043744, 34.049986], [-103.043767, 34.043545], [-103.043721, 34.04232], [-103.043771, 34.041537999999996], [-103.043746, 34.037293999999996], [-103.043555, 34.032714], [-103.043531, 34.018014], [-103.043617, 34.003633], [-103.04395, 33.974629], [-103.044893, 33.945617], [-103.045698, 33.906299], [-103.045644, 33.901537], [-103.046907, 33.850300000000004], [-103.047346, 33.824675], [-103.049096, 33.746269999999996], [-103.049608, 33.737766], [-103.05014800000001, 33.701971], [-103.050532, 33.672408], [-103.051087, 33.658186], [-103.051535, 33.650487], [-103.051363, 33.64195], [-103.051664, 33.629489], [-103.05261, 33.570599], [-103.056655, 33.388438], [-103.057487, 33.329477], [-103.057856, 33.315234], [-103.059242, 33.260371], [-103.05972, 33.256262], [-103.060103, 33.219225], [-103.063905, 33.042055], [-103.06398, 33.038692999999995], [-103.064452, 33.01029], [-103.064625, 32.999899], [-103.064679, 32.964373], [-103.064657, 32.959097], [-103.064569, 32.900014], [-103.064701, 32.879355], [-103.064862, 32.868345999999995], [-103.064807, 32.857696], [-103.064916, 32.85726], [-103.064889, 32.849359], [-103.064672, 32.828469999999996], [-103.064699, 32.827531], [-103.064711, 32.784593], [-103.06469799999999, 32.783602], [-103.064807, 32.777302999999996], [-103.064827, 32.726628], [-103.064799, 32.708694], [-103.064798, 32.690761], [-103.064864, 32.682646999999996], [-103.064633, 32.64642], [-103.064815, 32.624537], [-103.064761, 32.601863], [-103.064788, 32.600397], [-103.064761, 32.587983], [-103.064696, 32.522193], [-103.064422, 32.145005999999995], [-103.064348, 32.123041], [-103.064344, 32.087050999999995], [-103.064423, 32.000518], [-103.085876, 32.000465], [-103.088698, 32.000453], [-103.215641, 32.000513], [-103.267633, 32.000475], [-103.267708, 32.000324], [-103.270383, 32.000326], [-103.278521, 32.000419], [-103.326501, 32.00037], [-103.748317, 32.000198], [-103.875476, 32.000554], [-103.98017899999999, 32.000125], [-104.024521, 32.000009999999996], [-104.531756, 32.000116999999996], [-104.531937, 32.000310999999996], [-104.640918, 32.000396], [-104.643526, 32.000443], [-104.918272, 32.000496], [-105.077046, 32.000579], [-105.078605, 32.000533], [-105.11804, 32.000485], [-105.131377, 32.000524], [-105.132916, 32.000518], [-105.14824, 32.000485], [-105.15031, 32.000496999999996], [-105.153994, 32.000496999999996], [-105.390396, 32.000606999999995], [-105.427049, 32.000637999999995], [-105.428582, 32.0006], [-105.429281, 32.000577], [-105.731362, 32.001564], [-105.750527, 32.002206], [-105.854061, 32.00235], [-105.886159, 32.00197], [-105.90060000000001, 32.0021], [-105.998003, 32.002328], [-106.125534, 32.002533], [-106.18184, 32.00205], [-106.200699, 32.001785], [-106.205915, 32.001762], [-106.313307, 32.001512], [-106.376861, 32.001172], [-106.394298, 32.001484], [-106.411075, 32.001334], [-106.565142, 32.000735999999996], [-106.566056, 32.000758999999995], [-106.587972, 32.000749], [-106.595333, 32.000778], [-106.598639, 32.000754], [-106.599096, 32.000731], [-106.618486, 32.000495], [-106.619448, 31.994733], [-106.623568, 31.990999], [-106.631182, 31.989808999999997], [-106.636492, 31.985719], [-106.639529, 31.980348], [-106.638186, 31.97682], [-106.630114, 31.971258], [-106.626466, 31.970689999999998], [-106.623216, 31.97291], [-106.621873, 31.972932999999998], [-106.619569, 31.971577999999997], [-106.618745, 31.966955], [-106.619371, 31.964776999999998], [-106.620454, 31.963403], [-106.624299, 31.961053999999997], [-106.625535, 31.957476], [-106.625123, 31.954531], [-106.62281899999999, 31.952890999999997], [-106.617708, 31.956007999999997], [-106.614702, 31.956000000000003], [-106.616136, 31.948438999999997], [-106.623659, 31.94551], [-106.622377, 31.940863], [-106.622117, 31.936621], [-106.622529, 31.934863], [-106.625322, 31.930052999999997], [-106.629747, 31.926569999999998], [-106.628663, 31.923613999999997], [-106.623933, 31.925334999999997], [-106.611846, 31.920002999999998], [-106.614346, 31.918003], [-106.623445, 31.914033999999997], [-106.625947, 31.912226999999998], [-106.633668, 31.909789999999997], [-106.64084, 31.904598], [-106.645479, 31.89867], [-106.645646, 31.895649], [-106.645296, 31.894859], [-106.64290000000001, 31.892933], [-106.638154, 31.891662999999998], [-106.633927, 31.889184], [-106.630692, 31.886411], [-106.629197, 31.883716999999997], [-106.630799, 31.879697], [-106.634873, 31.874478], [-106.63588, 31.871513999999998], [-106.635926, 31.866235], [-106.627808, 31.860592999999998], [-106.625763, 31.856275999999998], [-106.621857, 31.852853999999997], [-106.614637, 31.84649], [-106.605845, 31.846304999999997], [-106.605245, 31.845905], [-106.602045, 31.844405], [-106.601945, 31.839605], [-106.605267, 31.827911999999998], [-106.602727, 31.825024], [-106.593826, 31.824900999999997], [-106.589045, 31.822706], [-106.588045, 31.822105999999998], [-106.582144, 31.815506], [-106.581344, 31.813906], [-106.577244, 31.810405999999997], [-106.570944, 31.810205999999997], [-106.566844, 31.813305999999997], [-106.563444, 31.812606], [-106.562945, 31.811104], [-106.558444, 31.810405999999997], [-106.547144, 31.807305], [-106.545344, 31.805007], [-106.544714, 31.804287], [-106.542144, 31.802107], [-106.542097, 31.802145999999997], [-106.535843, 31.798606999999997], [-106.535343, 31.797507], [-106.535154, 31.797089], [-106.534743, 31.796107], [-106.53304299999999, 31.791907], [-106.533, 31.791829], [-106.53247999999999, 31.791914], [-106.530515, 31.792102999999997], [-106.527943, 31.790506999999998], [-106.527738, 31.789761], [-106.527623, 31.789119], [-106.527997, 31.786945], [-106.528543, 31.784406999999998], [-106.528543, 31.783907], [-106.750547, 31.783706], [-106.750547, 31.783897999999997], [-106.993544, 31.783689], [-106.998235, 31.783671], [-107.00056000000001, 31.783679], [-107.00056000000001, 31.783513], [-107.296824, 31.783762], [-107.422246, 31.783599], [-107.422495, 31.783599], [-108.208394, 31.783599], [-108.208087, 31.613488999999998], [-108.208521, 31.499798], [-108.208572, 31.499741999999998], [-108.208573, 31.333395], [-108.707657, 31.333191], [-108.788711, 31.332365], [-108.851105, 31.332300999999998], [-108.861028, 31.332314999999998], [-109.050044, 31.332501999999998]]], &quot;type&quot;: &quot;Polygon&quot;}, {&quot;coordinates&quot;: [[[-107.30781666276631, 32.59977220268462], [-108.15956487913796, 32.82037152968583], [-107.81890539928253, 35.40104051278343], [-107.7555760982026, 35.60552244238335], [-106.50224585199294, 36.04110430491921], [-103.193638356264, 33.27735672864072], [-104.09918032921082, 33.11393478710617], [-107.30781666276631, 32.59977220268462]]], &quot;type&quot;: &quot;Polygon&quot;}, {&quot;coordinates&quot;: [[-105.19663597636031, 33.699690287596056], [-106.50224585199294, 36.04110430491921], [-107.81890539928253, 35.40104051278343], [-107.30781666276631, 32.59977220268462], [-104.09918032921082, 33.11393478710617], [-107.7555760982026, 35.60552244238335], [-103.193638356264, 33.27735672864072], [-107.74267931918686, 32.95869337859583], [-105.31601147256481, 33.99570029020884], [-108.15956487913796, 32.82037152968583]], &quot;type&quot;: &quot;MultiPoint&quot;}], &quot;type&quot;: &quot;GeometryCollection&quot;});\n",
              "\n",
              "        \n",
              "    \n",
              "            var marker_e15f1326f4e7a0d8435bcd6a31c0f58b = L.marker(\n",
              "                [34.08889554079646, -106.22718170779576],\n",
              "                {}\n",
              "            ).addTo(map_dea497ac3e41445e058181be171f5422);\n",
              "        \n",
              "    \n",
              "            var icon_057b9c35f4f8312202fa5335b31454ba = L.AwesomeMarkers.icon(\n",
              "                {&quot;extraClasses&quot;: &quot;fa-rotate-0&quot;, &quot;icon&quot;: &quot;info-sign&quot;, &quot;iconColor&quot;: &quot;white&quot;, &quot;markerColor&quot;: &quot;red&quot;, &quot;prefix&quot;: &quot;glyphicon&quot;}\n",
              "            );\n",
              "            marker_e15f1326f4e7a0d8435bcd6a31c0f58b.setIcon(icon_057b9c35f4f8312202fa5335b31454ba);\n",
              "        \n",
              "    \n",
              "        var popup_1243426fa2e5287317e9fc2c4caf1ddb = L.popup({&quot;maxWidth&quot;: &quot;100%&quot;});\n",
              "\n",
              "        \n",
              "            var html_77a9e74a97a088521bbd5ea033fee584 = $(`&lt;div id=&quot;html_77a9e74a97a088521bbd5ea033fee584&quot; style=&quot;width: 100.0%; height: 100.0%;&quot;&gt;METH LAB ACCORDING TO DEA POINT (-106.22718170779576 34.08889554079646)&lt;/div&gt;`)[0];\n",
              "            popup_1243426fa2e5287317e9fc2c4caf1ddb.setContent(html_77a9e74a97a088521bbd5ea033fee584);\n",
              "        \n",
              "\n",
              "        marker_e15f1326f4e7a0d8435bcd6a31c0f58b.bindPopup(popup_1243426fa2e5287317e9fc2c4caf1ddb)\n",
              "        ;\n",
              "\n",
              "        \n",
              "    \n",
              "&lt;/script&gt;\" style=\"position:absolute;width:100%;height:100%;left:0;top:0;border:none !important;\" allowfullscreen webkitallowfullscreen mozallowfullscreen></iframe></div></div>"
            ]
          },
          "metadata": {},
          "execution_count": 11
        }
      ]
    }
  ],
  "metadata": {
    "colab": {
      "collapsed_sections": [],
      "provenance": []
    },
    "kernelspec": {
      "display_name": "Python 3",
      "name": "python3"
    },
    "language_info": {
      "name": "python"
    }
  },
  "nbformat": 4,
  "nbformat_minor": 0
}
